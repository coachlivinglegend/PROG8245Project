{
 "cells": [
  {
   "cell_type": "markdown",
   "metadata": {},
   "source": [
    "# Sentiment Analysis"
   ]
  },
  {
   "cell_type": "code",
   "execution_count": 1,
   "metadata": {},
   "outputs": [
    {
     "name": "stderr",
     "output_type": "stream",
     "text": [
      "c:\\Users\\flag8\\Work\\CSCN8010\\venv\\pytorch_cpu\\Lib\\site-packages\\tqdm\\auto.py:21: TqdmWarning: IProgress not found. Please update jupyter and ipywidgets. See https://ipywidgets.readthedocs.io/en/stable/user_install.html\n",
      "  from .autonotebook import tqdm as notebook_tqdm\n"
     ]
    }
   ],
   "source": [
    "# import the needed libraries\n",
    "import pandas as pd\n",
    "import requests\n",
    "import os\n",
    "import numpy as np\n",
    "\n",
    "# libraries for preprocessing\n",
    "from langdetect import detect, LangDetectException\n",
    "from nltk.tokenize import word_tokenize\n",
    "from nltk.corpus import stopwords\n",
    "from nltk.stem import WordNetLemmatizer\n",
    "from nltk import pos_tag\n",
    "import re \n",
    "import string\n",
    "import preprocessor as p\n",
    "import emoji\n",
    "from emot.emo_unicode import EMOTICONS_EMO\n",
    "from flashtext import KeywordProcessor\n",
    "\n",
    "# libraries for build models\n",
    "from sklearn.model_selection import train_test_split\n",
    "from sklearn.feature_extraction.text import TfidfVectorizer\n",
    "from sklearn.svm import SVC\n",
    "from sklearn.ensemble import RandomForestClassifier\n",
    "from sklearn.tree import DecisionTreeClassifier\n",
    "from sklearn.naive_bayes import MultinomialNB\n",
    "from sklearn.model_selection import cross_val_score\n",
    "from sklearn.metrics import confusion_matrix, ConfusionMatrixDisplay\n",
    "from sklearn.metrics import accuracy_score\n",
    "from sklearn.metrics import classification_report\n",
    "from gensim.models import Word2Vec\n",
    "from transformers import BertTokenizer, BertModel\n",
    "from joblib import dump, load\n",
    "\n",
    "# libraries for visualization\n",
    "import seaborn as sns\n",
    "import matplotlib.pyplot as plt"
   ]
  },
  {
   "cell_type": "markdown",
   "metadata": {},
   "source": [
    "## 1. Data Collection"
   ]
  },
  {
   "cell_type": "markdown",
   "metadata": {},
   "source": [
    "### Gathering the Data"
   ]
  },
  {
   "cell_type": "markdown",
   "metadata": {},
   "source": [
    "For the data collection process, "
   ]
  },
  {
   "cell_type": "markdown",
   "metadata": {},
   "source": [
    "$ git clone https://github.com/dut0817/selenium-twitter-scraper.git\n",
    "\n",
    "$ python scraper --tweets=1000"
   ]
  },
  {
   "cell_type": "markdown",
   "metadata": {},
   "source": [
    "### TODO: talk about the nature of the data here."
   ]
  },
  {
   "cell_type": "markdown",
   "metadata": {},
   "source": [
    "### Annotating the Dataset"
   ]
  },
  {
   "cell_type": "markdown",
   "metadata": {},
   "source": [
    "This section provides information on the sentiment annotation process using the `twitter-roberta-base-sentiment model` from Hugging Face. This process is crucial for labeling the data sentiment, preparing it for further analysis."
   ]
  },
  {
   "cell_type": "markdown",
   "metadata": {},
   "source": [
    "### Load and Prepare Data"
   ]
  },
  {
   "cell_type": "code",
   "execution_count": 3,
   "metadata": {},
   "outputs": [
    {
     "data": {
      "text/html": [
       "<div>\n",
       "<style scoped>\n",
       "    .dataframe tbody tr th:only-of-type {\n",
       "        vertical-align: middle;\n",
       "    }\n",
       "\n",
       "    .dataframe tbody tr th {\n",
       "        vertical-align: top;\n",
       "    }\n",
       "\n",
       "    .dataframe thead th {\n",
       "        text-align: right;\n",
       "    }\n",
       "</style>\n",
       "<table border=\"1\" class=\"dataframe\">\n",
       "  <thead>\n",
       "    <tr style=\"text-align: right;\">\n",
       "      <th></th>\n",
       "      <th>Name</th>\n",
       "      <th>Handle</th>\n",
       "      <th>Timestamp</th>\n",
       "      <th>Verified</th>\n",
       "      <th>Content</th>\n",
       "      <th>Comments</th>\n",
       "      <th>Retweets</th>\n",
       "      <th>Likes</th>\n",
       "      <th>Analytics</th>\n",
       "      <th>Tags</th>\n",
       "      <th>Mentions</th>\n",
       "      <th>Emojis</th>\n",
       "      <th>Profile Image</th>\n",
       "      <th>Tweet Link</th>\n",
       "      <th>Tweet ID</th>\n",
       "    </tr>\n",
       "  </thead>\n",
       "  <tbody>\n",
       "    <tr>\n",
       "      <th>0</th>\n",
       "      <td>Binance</td>\n",
       "      <td>@binance</td>\n",
       "      <td>2024-04-03T00:00:06.000Z</td>\n",
       "      <td>True</td>\n",
       "      <td>The #Binance towel comes everywhere with me......</td>\n",
       "      <td>2.2K</td>\n",
       "      <td>589</td>\n",
       "      <td>2.1K</td>\n",
       "      <td>240K</td>\n",
       "      <td>['#Binance']</td>\n",
       "      <td>[]</td>\n",
       "      <td>['\\\\U0001f373']</td>\n",
       "      <td>https://pbs.twimg.com/profile_images/174428939...</td>\n",
       "      <td>https://twitter.com/binance/status/17753122840...</td>\n",
       "      <td>tweet_id:1775312284052554156</td>\n",
       "    </tr>\n",
       "    <tr>\n",
       "      <th>1</th>\n",
       "      <td>Ash Crypto</td>\n",
       "      <td>@Ashcryptoreal</td>\n",
       "      <td>2024-04-04T00:24:48.000Z</td>\n",
       "      <td>True</td>\n",
       "      <td>Drop your $SOL address below and\\r\\nmake sure ...</td>\n",
       "      <td>2.2K</td>\n",
       "      <td>518</td>\n",
       "      <td>1.4K</td>\n",
       "      <td>104K</td>\n",
       "      <td>[]</td>\n",
       "      <td>[]</td>\n",
       "      <td>['\\\\U0001f447\\\\U0001f3fc']</td>\n",
       "      <td>https://pbs.twimg.com/profile_images/169999220...</td>\n",
       "      <td>https://twitter.com/Ashcryptoreal/status/17756...</td>\n",
       "      <td>tweet_id:1775680884982616105</td>\n",
       "    </tr>\n",
       "    <tr>\n",
       "      <th>2</th>\n",
       "      <td>Bitcoin</td>\n",
       "      <td>@Bitcoin</td>\n",
       "      <td>2024-04-03T03:19:33.000Z</td>\n",
       "      <td>True</td>\n",
       "      <td>£52,356.70</td>\n",
       "      <td>156</td>\n",
       "      <td>141</td>\n",
       "      <td>767</td>\n",
       "      <td>161K</td>\n",
       "      <td>[]</td>\n",
       "      <td>[]</td>\n",
       "      <td>[]</td>\n",
       "      <td>https://pbs.twimg.com/profile_images/421692600...</td>\n",
       "      <td>https://twitter.com/Bitcoin/status/17753624737...</td>\n",
       "      <td>tweet_id:1775362473790447725</td>\n",
       "    </tr>\n",
       "  </tbody>\n",
       "</table>\n",
       "</div>"
      ],
      "text/plain": [
       "         Name          Handle                 Timestamp  Verified  \\\n",
       "0     Binance        @binance  2024-04-03T00:00:06.000Z      True   \n",
       "1  Ash Crypto  @Ashcryptoreal  2024-04-04T00:24:48.000Z      True   \n",
       "2     Bitcoin        @Bitcoin  2024-04-03T03:19:33.000Z      True   \n",
       "\n",
       "                                             Content Comments Retweets Likes  \\\n",
       "0  The #Binance towel comes everywhere with me......     2.2K      589  2.1K   \n",
       "1  Drop your $SOL address below and\\r\\nmake sure ...     2.2K      518  1.4K   \n",
       "2                                         £52,356.70      156      141   767   \n",
       "\n",
       "  Analytics          Tags Mentions                      Emojis  \\\n",
       "0      240K  ['#Binance']       []             ['\\\\U0001f373']   \n",
       "1      104K            []       []  ['\\\\U0001f447\\\\U0001f3fc']   \n",
       "2      161K            []       []                          []   \n",
       "\n",
       "                                       Profile Image  \\\n",
       "0  https://pbs.twimg.com/profile_images/174428939...   \n",
       "1  https://pbs.twimg.com/profile_images/169999220...   \n",
       "2  https://pbs.twimg.com/profile_images/421692600...   \n",
       "\n",
       "                                          Tweet Link  \\\n",
       "0  https://twitter.com/binance/status/17753122840...   \n",
       "1  https://twitter.com/Ashcryptoreal/status/17756...   \n",
       "2  https://twitter.com/Bitcoin/status/17753624737...   \n",
       "\n",
       "                       Tweet ID  \n",
       "0  tweet_id:1775312284052554156  \n",
       "1  tweet_id:1775680884982616105  \n",
       "2  tweet_id:1775362473790447725  "
      ]
     },
     "execution_count": 3,
     "metadata": {},
     "output_type": "execute_result"
    }
   ],
   "source": [
    "# Load our data from a CSV file, handling UTF-8 encoding issues\n",
    "df_raw_data = pd.read_csv(\"./data/1000texts.csv\", encoding='utf-8-sig')\n",
    "\n",
    "# Display the first three rows of the dataframe to inspect the data\n",
    "df_raw_data.head(3)"
   ]
  },
  {
   "cell_type": "markdown",
   "metadata": {},
   "source": [
    "We start by loading the dataset, ensuring that UTF-8 encoding is used to handle any special characters in the text. \n",
    "\n",
    "The initial peek at the data with `df.head(3)` helps to confirm the structure and data types we are working with."
   ]
  },
  {
   "cell_type": "markdown",
   "metadata": {},
   "source": [
    "### Data Cleaning"
   ]
  },
  {
   "cell_type": "code",
   "execution_count": 4,
   "metadata": {},
   "outputs": [],
   "source": [
    "# Drop rows with any missing values\n",
    "df_raw_data = df_raw_data.dropna()\n",
    "\n",
    "# Convert the 'Content' column into a list of sentences\n",
    "sentences = df_raw_data['Content'].tolist()"
   ]
  },
  {
   "cell_type": "markdown",
   "metadata": {},
   "source": [
    "Next, we clean the data by removing rows with missing values to maintain the quality and consistency of our dataset. \n",
    "\n",
    "We extract the tweet content into a list to facilitate the subsequent batch processing."
   ]
  },
  {
   "cell_type": "markdown",
   "metadata": {},
   "source": [
    "### Model Details"
   ]
  },
  {
   "cell_type": "markdown",
   "metadata": {},
   "source": [
    "For our annotation, we will be using [`twitter-roberta-base-sentiment`](https://huggingface.co/cardiffnlp/twitter-roberta-base-sentiment) model on huggingface.\n",
    "\n",
    "This model is a RoBERTa-based neural network trained on approximately 58 million tweets and fine-tuned for sentiment analysis, making it highly adept at understanding the nuances of language used in tweets.\n",
    "\n",
    "**Labels Explained**\n",
    "- 0: Negative\n",
    "- 1: Neutral\n",
    "- 2: Positive\n",
    "\n",
    "These labels correspond to the sentiment expressed in each tweet."
   ]
  },
  {
   "cell_type": "markdown",
   "metadata": {},
   "source": [
    "### API Configuration"
   ]
  },
  {
   "cell_type": "markdown",
   "metadata": {},
   "source": [
    "The api requires us to group the sentences in 10."
   ]
  },
  {
   "cell_type": "code",
   "execution_count": 5,
   "metadata": {},
   "outputs": [],
   "source": [
    "# Group sentences into sub-lists of 10 for batch processing\n",
    "grouped_list = [sentences[n:n+10] for n in range(0, len(sentences), 10)]"
   ]
  },
  {
   "cell_type": "markdown",
   "metadata": {},
   "source": [
    "### Set Up API for Annotation"
   ]
  },
  {
   "cell_type": "code",
   "execution_count": 19,
   "metadata": {},
   "outputs": [],
   "source": [
    "# API token and endpoint for the annotation Hugging Face's model\n",
    "API_TOKEN = \"###\"  # actual API token goes here\n",
    "API_URL = \"https://api-inference.huggingface.co/models/cardiffnlp/twitter-roberta-base-sentiment\"\n",
    "headers = {\"Authorization\": f\"Bearer {API_TOKEN}\"}  # Authorization header for the API request"
   ]
  },
  {
   "cell_type": "markdown",
   "metadata": {},
   "source": [
    "We configure the API with the required endpoint and authentication details. We use the API_TOKEN gotten from Hugging Face."
   ]
  },
  {
   "cell_type": "markdown",
   "metadata": {},
   "source": [
    "### Batch Processing Setup"
   ]
  },
  {
   "cell_type": "code",
   "execution_count": 13,
   "metadata": {},
   "outputs": [],
   "source": [
    "# Group sentences into sub-lists of 10 for batch processing\n",
    "grouped_list = [sentences[n:n+10] for n in range(0, len(sentences), 10)]"
   ]
  },
  {
   "cell_type": "markdown",
   "metadata": {},
   "source": [
    "Tweets are grouped in batches of ten to optimize the API calls."
   ]
  },
  {
   "cell_type": "markdown",
   "metadata": {},
   "source": [
    "### Annotation Execution"
   ]
  },
  {
   "cell_type": "code",
   "execution_count": 14,
   "metadata": {},
   "outputs": [],
   "source": [
    "# Define a function to send data to the sentiment analysis API and get the response\n",
    "def query(payload):\n",
    "    response = requests.post(API_URL, headers=headers, json=payload)\n",
    "    return response.json()"
   ]
  },
  {
   "cell_type": "code",
   "execution_count": 15,
   "metadata": {},
   "outputs": [],
   "source": [
    "# Initialize an empty list to store outputs\n",
    "query_output = []\n",
    "\n",
    "# Loop through each group of sentences and perform sentiment analysis\n",
    "for i in range(len(grouped_list)):\n",
    "    query_output.append(query(grouped_list[i]))\n"
   ]
  },
  {
   "cell_type": "markdown",
   "metadata": {},
   "source": [
    "We define a function to send each batch to the API and store the responses. Each response includes sentiment scores and labels for the batch of tweets processed."
   ]
  },
  {
   "cell_type": "markdown",
   "metadata": {},
   "source": [
    "### Understanding the Output"
   ]
  },
  {
   "cell_type": "code",
   "execution_count": 18,
   "metadata": {},
   "outputs": [
    {
     "data": {
      "text/plain": [
       "[[{'label': 'LABEL_1', 'score': 0.6629162430763245},\n",
       "  {'label': 'LABEL_2', 'score': 0.30983710289001465},\n",
       "  {'label': 'LABEL_0', 'score': 0.02724670246243477}],\n",
       " [{'label': 'LABEL_1', 'score': 0.7137852907180786},\n",
       "  {'label': 'LABEL_2', 'score': 0.22422194480895996},\n",
       "  {'label': 'LABEL_0', 'score': 0.06199278309941292}],\n",
       " [{'label': 'LABEL_1', 'score': 0.7219901084899902},\n",
       "  {'label': 'LABEL_0', 'score': 0.19005246460437775},\n",
       "  {'label': 'LABEL_2', 'score': 0.08795742690563202}],\n",
       " [{'label': 'LABEL_2', 'score': 0.9080163240432739},\n",
       "  {'label': 'LABEL_1', 'score': 0.08823398500680923},\n",
       "  {'label': 'LABEL_0', 'score': 0.0037496844306588173}],\n",
       " [{'label': 'LABEL_2', 'score': 0.5220183730125427},\n",
       "  {'label': 'LABEL_1', 'score': 0.3415689766407013},\n",
       "  {'label': 'LABEL_0', 'score': 0.1364126354455948}],\n",
       " [{'label': 'LABEL_1', 'score': 0.5850756168365479},\n",
       "  {'label': 'LABEL_0', 'score': 0.24756111204624176},\n",
       "  {'label': 'LABEL_2', 'score': 0.16736333072185516}],\n",
       " [{'label': 'LABEL_0', 'score': 0.9226970672607422},\n",
       "  {'label': 'LABEL_1', 'score': 0.07211362570524216},\n",
       "  {'label': 'LABEL_2', 'score': 0.005189328920096159}],\n",
       " [{'label': 'LABEL_2', 'score': 0.8740758299827576},\n",
       "  {'label': 'LABEL_1', 'score': 0.12418636679649353},\n",
       "  {'label': 'LABEL_0', 'score': 0.0017378255724906921}],\n",
       " [{'label': 'LABEL_0', 'score': 0.5106410384178162},\n",
       "  {'label': 'LABEL_1', 'score': 0.44458267092704773},\n",
       "  {'label': 'LABEL_2', 'score': 0.04477625712752342}],\n",
       " [{'label': 'LABEL_2', 'score': 0.5888667106628418},\n",
       "  {'label': 'LABEL_1', 'score': 0.40630367398262024},\n",
       "  {'label': 'LABEL_0', 'score': 0.004829647950828075}]]"
      ]
     },
     "execution_count": 18,
     "metadata": {},
     "output_type": "execute_result"
    }
   ],
   "source": [
    "query_output[0]"
   ]
  },
  {
   "cell_type": "markdown",
   "metadata": {},
   "source": [
    "The output from the API provides a score for each sentiment category per tweet, indicating the confidence level of each sentiment prediction. This allows us to determine the most likely sentiment expressed in each tweet."
   ]
  },
  {
   "cell_type": "markdown",
   "metadata": {},
   "source": [
    "### Label Extraction and Assignment"
   ]
  },
  {
   "cell_type": "code",
   "execution_count": 20,
   "metadata": {},
   "outputs": [],
   "source": [
    "# Initialize an empty list to hold the highest sentiment labels\n",
    "highest_labels = []\n",
    "\n",
    "# Extract the highest sentiment label from each result\n",
    "for group in query_output:\n",
    "    for result in group:\n",
    "        highest = max(result, key=lambda x: x['score'])\n",
    "        highest_labels.append(highest['label'].split('_')[1])\n",
    "\n",
    "# Add the highest sentiment labels back to the dataframe\n",
    "df_raw_data['label'] = highest_labels\n"
   ]
  },
  {
   "cell_type": "markdown",
   "metadata": {},
   "source": [
    "After processing, we extract the highest scoring label for each tweet and add this label back into our DataFrame. This step converts the raw output into a practical annotation of the dataset."
   ]
  },
  {
   "cell_type": "markdown",
   "metadata": {},
   "source": [
    "### Saving the Results"
   ]
  },
  {
   "cell_type": "code",
   "execution_count": 21,
   "metadata": {},
   "outputs": [],
   "source": [
    "# Define the final dataframe to be saved\n",
    "df_data_final = df_raw_data[['Content', 'label']]\n",
    "\n",
    "# Define the file path for the new CSV\n",
    "file_path = os.path.join('data', 'labeled_texts_1000.csv')\n",
    "\n",
    "# Save the dataframe to a CSV file, without the index, and handle UTF-8 encoding\n",
    "#df_data_final.to_csv(file_path, index=False, encoding='utf-8-sig')"
   ]
  },
  {
   "cell_type": "markdown",
   "metadata": {},
   "source": [
    "The fully annotated dataset is saved as a CSV file, preserving the original text alongside the newly assigned sentiment labels. This file can now be used for further analysis and training predictive models."
   ]
  },
  {
   "cell_type": "markdown",
   "metadata": {},
   "source": [
    "### Citation"
   ]
  },
  {
   "cell_type": "markdown",
   "metadata": {},
   "source": [
    "\n",
    "Barbieri, F., Camacho-Collados, J., Espinosa Anke, L., & Neves, L. (2020). TweetEval: Unified Benchmark and Comparative Evaluation for Tweet Classification. In Findings of the Association for Computational Linguistics: EMNLP 2020 (pp. 1644–1650). Association for Computational Linguistics.\n",
    "\n"
   ]
  },
  {
   "cell_type": "markdown",
   "metadata": {},
   "source": [
    "## 2. Preprocessing"
   ]
  },
  {
   "cell_type": "markdown",
   "metadata": {},
   "source": [
    "### Select only English tweets from data"
   ]
  },
  {
   "cell_type": "code",
   "execution_count": null,
   "metadata": {},
   "outputs": [],
   "source": [
    "## language detection\n",
    "#def detect_lang(text):\n",
    "#    try:\n",
    "#        return detect(text)\n",
    "#    except LangDetectException:\n",
    "#        return None\n",
    "#\n",
    "#df_texts_orig = pd.read_csv('data/labeled_texts_1000.csv', encoding='utf-8-sig')\n",
    "#df_texts_orig.dropna(inplace=True)\n",
    "#\n",
    "## detect language and add a new column\n",
    "#df_texts_orig['lang'] = df_texts_orig['Content'].apply(detect_lang)\n",
    "#\n",
    "## select only English texts\n",
    "#df_eng = df_texts_orig[df_texts_orig['lang'] == 'en'].reset_index(drop=True)\n",
    "#\n",
    "#df_eng.to_csv('data/labeled_texts_eng.csv', index=False)"
   ]
  },
  {
   "cell_type": "markdown",
   "metadata": {},
   "source": [
    "Annotated data was first filtered to only retain English tweets, as this uniformity is crucial for preprocessing and ensures that model training is conducted with a single language. The `langdetect` library was employed to identify these English tweets; however, since the detection results can vary slightly with each execution, the outcomes were saved to a CSV file to maintain consistency. This file is then loaded in subsequent steps for further use. Additionally, any entries without data were removed initially."
   ]
  },
  {
   "cell_type": "markdown",
   "metadata": {},
   "source": [
    "### Load Data"
   ]
  },
  {
   "cell_type": "code",
   "execution_count": 466,
   "metadata": {},
   "outputs": [
    {
     "name": "stdout",
     "output_type": "stream",
     "text": [
      "['The #Binance towel comes everywhere with me...\\r\\n\\r\\nIncluding breakfast 🍳', 'Drop your $SOL address below and\\r\\nmake sure you are following me\\r\\n\\r\\nDon’t ask why 👇🏼', 'It only takes one good altcoin to change the world. ✨', 'disrespectful is one of my top 3 fav', 'Some Congressional Republicans call the Affordable Connectivity Program wasteful.\\r\\n\\r\\nI call it necessary.\\r\\n\\r\\nIt’s time Congress extended it so the 23 million households across America that rely on the program can stay connected.', 'Donald Trump won’t do what an American president must do.\\r\\n\\r\\nHe refuses to denounce political violence. \\r\\n\\r\\nI’ll say what Trump won’t: Political violence is never, ever acceptable in America.', 'There is a massive #Bitcoin breakout coming.\\r\\n\\r\\nAre you ready?', 'Ok so the vote is in. I’ll do a 25 tkt giveaway on station head in 10 mins. \\r\\n\\r\\nIf I feel like it I’ll come on spaces & give out another 5-10 after that. \\r\\n\\r\\nThe Generous Queen 👸🏽', 'My whole heart', 'I’m tired of people using me as their punching bag… LEAVE ME TF ALONE!! It’s my day off', 'April 03, 2024 @ 09:21 AM (UTC)\\r\\nCurrent Price of Bitcoin\\r\\n\\r\\n(BTC-USD):        $66,484.80\\r\\n(BTC-EUR):        €61,757.73', 'HOW is Pitbull not in the big 3?????????', \"$35 a month insulin for seniors.\\r\\n$35 inhalers for asthma.\\r\\n$2,000 a year cap on prescription drugs for seniors starting next year.\\r\\n\\r\\nWith Senator Sanders' help, we’re showing how health care should be a right – not a privilege – in America.\", 'Cryptoooo', 'The world is a stage. Joker: Folie à Deux trailer coming April 9. 🃏', 'Video shows abducted US girl fatally shot by police', 'https://share.stationhead.com/kgXBpFtPyx8MAY THE BEST BRAVEST BADDEST BARBZ WIN', 'Bitcoin is going to $100,000\\r\\n\\r\\nETH is going to $10,000\\r\\n\\r\\nAltcoins will pump 10x \\r\\n\\r\\nHalving in 15 days. \\r\\n\\r\\nYou are not bullish enough.', 'what conan lyric feels like this', 'The more Tether prints, the higher #Bitcoin goes.', 'Which of these artists is the biggest hit-maker ?', '#Bitcoin: Navigating the High Seas of Finance, Steering the Ship of Economic Evolution. ⛵💰🌊', 'album moments🌀I hear you… feeling optimistic about this week https://dualipa.lnk.to/radicaloptimism', \"Not in the path of totality for the total solar #eclipse? On April 8, we'll bring totality to you by broadcasting from several locations along its trajectory, including @NASAGlenn—our only center in the eclipse’s path.\\r\\n\\r\\nHow to watch: http://go.nasa.gov/3vAvTbo\", \"It's a tough gig being the Binance intern.\\r\\n\\r\\n(gm)\", 'There is no bigger red flag in an adult than lack of children. \\r\\n\\r\\nIf you’re 46 and not yet bored of weed and alcohol - you’re immature and soulless. \\r\\n\\r\\nHow can you be trusted to vote?\\r\\n\\r\\nYou have a warped world view with zero vested interest in the future. \\r\\n\\r\\nThe poorest people alive…', '1 whole bitcoin hodlers are becoming RARE', 'Dogecoin as Tipping Option? 👀', 'Introducing a new Simple Earn Flexible Products promotion!\\r\\n\\r\\nSubscribe to either SUI or USDT Simple Earn Flexible Products to grab your share of 20,000 SUI while also earning bonus APR.\\r\\n\\r\\nGet started today ⤵️', '$69,416.50#Bitcoin  #BTC  $BTC $USD', 'Through laws I wrote and signed, I enacted tax credits that save an average of $800 per person per year, reducing health care premiums for millions of families.\\r\\n\\r\\nThose credits expire next year.\\r\\n\\r\\nCongress, make that $800 expanded affordable health care tax credit permanent.', 'You already made your statement, Donald.', 'Tag a light mode user 👇', 'Coinbase & BlackRock will pump crypto higher!', 'Pitbull, Chingy, and Baby Bash', 'My station head seems to not be working guys. What a shocker', 'If I say I’m 25 then I’m 25 the fuk', 'Psalm 📷 by Saint', 'The next #Bitcoin halving is just 2 weeks out.\\r\\n\\r\\nAnd historically, the most gains are always realized after the halving.\\r\\n\\r\\nAre you prepared?', 'Moment Taiwan maternity staff rush to keep babies safe during earthquake', '13,900 eggs.\\r\\n\\r\\n$200,000 in rewards.\\r\\n\\r\\n1 #Bitcoin.\\r\\n\\r\\nGet started with the #Binance egg drop 👇', 'Congratulations to @Int_Machines, @LunarOutpostInc, and @Astrolab_Space for being selected to move forward in developing the #Artemis lunar terrain vehicle!\\r\\n\\r\\nThis Moon rover will allow future astronauts to travel far on the lunar surface: https://go.nasa.gov/440SeM9', 'I am outraged and heartbroken by the deaths of seven humanitarian workers from World Central Kitchen, including one American, in Gaza yesterday.\\r\\n \\r\\nIncidents like yesterday’s simply should not happen.\\r\\n\\r\\nHere is my full statement.', '#Bitcoin is a Symbol of Digital Revolution and Financial Freedom. 💡🌐💸', 'Miss SHANEL DOES what must be done!!!!!', \"Is whale watching on your bucket list?\\r\\n\\r\\nIf so, you'll be glad to know that you don't have to travel to do it.\\r\\n\\r\\nWell, not for crypto whale watching anyway.\", 'I want HONEST criticism on this AI portfolio:\\r\\n\\r\\n25% $BTC15% $TAO15% $RNDR10% $GRT10% @limewire5% $AKT5% $AIT5% $PAAL5% ', 'ARE YOU STILL WITH ME, 🇦🇷? ⭐️⭐️⭐️ #GUTSWorldTour', \"Kamala and I continue to call on Congress to restore the protections of Roe in every state.\\r\\n\\r\\nThe majority of Americans support a woman's right to choose – including in Florida where voters will have the opportunity to support a reproductive freedom ballot initiative this fall.\", 'The category is : albums that deserved way more success', 'White House wants Moon to have its own time zone', 'Introducing the #BinanceClubhouse!\\r\\n\\r\\nA global hub for all Binance users to connect, work, and talk all things crypto.\\r\\n\\r\\nStay tuned for more info to come 🤝', 'Yesterday’s extreme Florida Supreme Court decision puts desperately needed medical care even further out of reach for millions of women in Florida and across the South. \\r\\n\\r\\nIt’s outrageous—and it was made possible by Trump ending Roe v. Wade.', '£51,987.06#Bitcoin  #BTC  $BTC $GBP', 'Ready to rock with @ThirdRockRadio for the April 8 #eclipse? Submit your favorite solar-themed songs to be added to a Sun, Moon and \"Eyes\" playlist: http://thirdrockradio.net/solar-songs/', 'Baby steps, sir 😩😅', '.@findingfletcher’s ‘In Search of the Antidote’ Debuts at No. 3 on Top Album Sales Chart', 'Only 3 more sleeps till #WrestleMania 40. Talking to @TheRock and @WWERomanReigns on the show tonight. #FinalBoss  #TribalChief', 'One #crypto that will show a monster God Candle this summer', 'Deadly air strike shows system to protect aid workers in crisis, agencies say', '#Binance will list Wormhole $W with Seed Tag Applied.➡️ https://binance.com/en/support/announcement/49b5a226723e407cb7044d749bfda5b2?ref=AZTKZ9XS&utm_source=BinanceTwitter&utm_medium=GlobalSocial&utm_campaign=GlobalSocial…', 'Happy 90th birthday @janegoodallinst! And please give my regards to Mr. H. #JaneAt90 #GoodAllDay', 'Gaza aid convoy strike: What do we know?', 'Thank you NY for a night to remember!', 'Watch TOMORROW X TOGETHER Bring ‘Deja Vu’ to ‘Kelly Clarkson Show’', 'It’s not that no one told you.', 'If the prior administration and extreme Republicans in Congress had succeeded in gutting the ACA, 45 million people nationwide would have lost their health insurance.', 'HELLOOO HAVE WE EVER SEEN THIS?', 'which album is making more noise this Friday?', 'Barbz since yall like yappyity yapping i took screenshots of who been on here. Yall asses report to station head I’m doing a #GAGCITY GIVEAWAY right now. In 10 mins. Who wanna win tickets?!?!!!🎫 🎟️ LET’S GO!!!!!!!!! Should I give away 50 tickets or 25 winners get a plus 1?', 'so about the cake! do we think conan would be proud 🥰', 'I remember this. I remember him withdrawing me from the tournament when I was 6 years old.\\r\\n\\r\\nI beat the first two adults, then lost 3 in a row.\\r\\n\\r\\nI asked: Will I be able to beat them at chess when Im grown up?\\r\\n\\r\\nHe replied: Son, once youre grown up, youll beat anyone at anything', 'The #Bitcoin halving is now only about 17 days away 👀', 'All eyes are on the sky on April 8 for the total solar #eclipse! Did you know you can help us @DoNASAScience while experiencing the big event? Listen in from @NASASun scientists in this episode of our Curious Universe podcast:https://go.nasa.gov/4aie3cf', 'R.I.P. Gale Sparrow.', '#BITCOIN WILL HIT $100,000 IN NEXT 3 MONTHS OR I AM DELETING MY \" X \" ACCOUNT', 'Trading is now live for @ethena_labs $ENA on #Binance➡️ https://binance.com/en/trade/ENA_USDT?type=spot&ref=AZTKZ9XS&utm_source=BinanceTwitter&utm_medium=GlobalSocial&utm_campaign=GlobalSocial…', 'Vechain’s importance isn’t talked about enough. $VET', 'Inhalers cost less than $5 to make.\\r\\n\\r\\nBut drug companies charge Americans up to $600 to increase their profits.\\r\\n\\r\\nMy Administration has been cracking down on Big Pharma – and now, three of the four largest inhaler manufacturers are capping out-of-pocket costs at $35.', 'The category is : most controversial music videos', 'Polls are opening up in states across the country. Head to http://IWillVote.com to confirm your polling place.', 'The final deadline for 7 Spot #Ethereum ETFs is in 50 days!', 'CAN YOU GUYS GIVE ME A RUNDOWN ON EVERYTHING HE SAID ABOUT THE UNRELEASED TRACKS', 'Google looks to AI paywall option - report', 'Solar Eclipse 2024: How to Watch & Stream Live from Anywhere', 'GagCity was everything!!! Nicki, Monica, and 50 cent did what needed to be done!!! 💕 #gagcitydc', \"LIVE NOW: How will future @NASAArtemis astronauts drive across the surface of the Moon?\\r\\n\\r\\nWe're announcing the companies that will advance the capabilities of the lunar terrain vehicle, a rover for exploration during the #Artemis V missions and beyond.\", 'Time to supply you with some crypto knowledge.\\r\\n\\r\\nLiterally.\\r\\n\\r\\nMaximum, total, and circulating supply explained 👇', \"For anyone who received a checkmark today, you can earn money for the stuff you're already posting. No extra effort required.\\r\\n\\r\\nApply to be monetized in Settings > Monetization\", 'Explore new taker fee promotions on #Binance! \\r\\n\\r\\nYou can now trade $USDC spot and margin trading pairs to enjoy discounted taker fees from 10 April, 2024.  \\r\\n\\r\\nLearn more ⤵️', 'Tune in as I deliver remarks on lowering health care costs for Americans.', 'Oh this is EXTREMELY  GAGGY babe', 'Like what ?', 'Truck crash spills live salmon into wrong Oregon river', 'Celebrate the upcoming #Bitcoin halving with the #Binance Futures Ultimate Challenge.\\r\\n\\r\\nJoin the daily price prediction and weekly task challenges for a chance to win #BTC rewards and a Tesla Model Y!\\r\\n\\r\\nJoin now ➡️ https://binance.com/en/events/bitcoin-halving?ref=AZTKZ9XS&utm_source=BinanceTwitter&utm_medium=GlobalSocial&utm_campaign=GlobalSocial…', '🚨 BREAKING 🚨GRAYSCALE HAS TRANSFERRED 1983 BTC WORTH $131.4 MILLION TO COINBASE', '#Bitcoin always pumps after the halving.\\r\\n\\r\\n- 1st Halving: +8,000%\\r\\n- 2nd Halving: +3,000%\\r\\n- 3rd Halving: +800%\\r\\n\\r\\nIn 15 days, the 4th halving is here.\\r\\n\\r\\nAre you mentally prepared?', 'Today, I had a candid conversation with President Xi Jinping of the People’s Republic of China on a range of issues, including areas of cooperation and areas of difference.\\r\\n\\r\\nI emphasized the importance of maintaining peace and stability across the Taiwan Strait and in the South…', 'Same reason why you felt comfortable calling me a Mexican when I’m Dominican and I asked you why you feel comfortable calling me a Mexican when ice and jharell Jerome Zoe Saldana are Dominicans and you don’t do that to them. You do it to me because you know that’s what people use…', '#GagCityBaltimore IS TAKING IT!!!!!!!!!!!!!!!!!!!!!!!! DMV I MISSED YOUUUUUUUUUUUUUUUUUUUU!!!!!!!!!!YALL DONT KNOW MAN. 😩🛸🏙️ thank you. Idk what to say. The best night I’ve ever had on earth AND #GagCity. May God bless each & every one of you. I’ll never forget you. #HeavyOnIt', '#Binance respectfully requests that Tigran Gambaryan, who has no decision-making power in the company, is not held responsible while current discussions are ongoing between Binance and Nigerian government officials.#BringTigranHomeRead more 👇', 'After 204 days, 3,264 orbits, and dozens of @ISS_Research experiments in space, @lunarloral is heading home.\\r\\n\\r\\nUndocking and return coverage (on NASA+ and other platforms) begins at 8pm ET, Friday, April 5 (0000 UTC April 6): https://go.nasa.gov/3xwI9di', \"Don't buy #Bitcoin for your first name.\\r\\n\\r\\nBuy #Bitcoin for your last name.\", 'Billie Eilish, Pearl Jam, Nicki Minaj Among 200 Artists Calling for Responsible AI Music Practices', 'School shooting brings up tough questions for Finland', 'Instead of seniors with diabetes paying as much as $400 a month for their insulin they so badly need, they now only have to pay $35 a month. Period.\\r\\n \\r\\nI want to extend those savings to everyone who needs lifesaving insulin, whether you’re a senior or not.', \"Trade responsibly.\\r\\n\\r\\nEmploying risk management strategies is an important step to reducing your portfolio's risk.\\r\\n\\r\\nSo we've listed out 5 strategies, which you can find right here 👇\", '#Binance has expanded Portfolio Margin to non-VIP users! \\r\\n\\r\\nOptimise your portfolio with enhanced capital efficiency, risk management, and trading strategies made more accessible.\\r\\n\\r\\nLearn more 👇', '💥BREAKING: The Spot #Bitcoin ETF had positive inflow of: +$40,300,000 yesterday!', '#Binance Charity partners with the Children of Heroes Foundation!\\r\\n\\r\\nThis collaboration will launch “I Am da Vinci”, a 12-day therapeutic camp, to support children who have lost their parents in the war.\\r\\n\\r\\nRead more ⤵️', 'Florida’s bans – and laws like them in states across America – are putting the health and lives of millions of women at risk.\\r\\n\\r\\nThey take away women’s freedom to make their own health care decisions and threaten physicians for providing the care they were trained to provide.', \"Don't Panic 🫡\", \"We've officially hit 1M posts on #Binance Square!\\r\\n\\r\\nThank you for sharing content on your feeds, and spreading crypto knowledge worldwide 🤝Keep building ➡️ http://binance.com/feed?ref=AZTKZ9XS&utm_source=BinanceTwitter&utm_medium=GlobalSocial&utm_campaign=GlobalSocial…\", 'That’s not what you said. You said nobody called me ghetto and now you moving the goal post… You know why I’m at where I’m at right now? Because I took all those no’s and recognized what I had to CHANGE. I had to change the way I talk, the way I act and the way I respond and how…', 'Honestly a great product!\\r\\n\\r\\nFeel more energized and stronger ever since I’ve taken it!', \"Lizzo clarifies she is not quitting music industry, just 'negative energy'\", 'Olivia Rodrigo Kisses Chappell Roan During Guts World Tour’s Boston Stop', \"Yesterday, Florida’s Supreme Court upheld a state abortion ban, likely triggering the Governor's more extreme law eliminating access before many even know they're pregnant.\\r\\n\\r\\nOutrageous.@VP and I remain committed to protecting reproductive freedom in Florida and across the U.S.\", 'Ukraine gives award to foreign vigilantes for hacks on Russia', 'I got 45 mins to give away my own personal tkts to #SOLDOUTMINAJ shows guys. But I’m doing it on station head so nanabooboo Barbz don’t start. I miss you 🤭', '\"The Flies,\" our newest class of @NASA_Astronauts, officially graduated basic training last month—and what\\'s a graduation without a few superlatives?\\r\\n\\r\\nIf you want to join the next astronaut class, our applications are still open! Get yours in by April 16: https://go.nasa.gov/astro2024', 'JUST IN: Coinbase CEO says its #Bitcoin Lightning Network integration \"should be launching soon\" ⚡️ 👀', 'Don’t pinch me please', 'Rashee Rice: Super Bowl champion admits role in Texas hit-and-run', 'This week, America lost a hero.\\r\\n\\r\\nWhen Lou Conter passed away at the age of 102, America said farewell to the last known survivor of the U.S.S. Arizona, which was stationed on Battleship Row at Pearl Harbor on December 7, 1941.\\r\\n\\r\\nToday, our hearts are with those who knew him and…', 'I think there might be some confusion on what was said. I asked why he feels so comfortable calling me Mexican? I have no Mexican parents. My mom is Trini.. she came out of a whole black woman. My father is Dominican…I’m Dominican just like you. I also used other Dominicans as…', 'All I wanted…\\r\\n\\r\\nto give my fans an album & tour that touched them in every way & reminded them of why & how we fell in love in the\\r\\n 1st place. To give them the tour that they never knew they NEEDED- prove to them how much I value THEM & how much I value the ARTS \\U0001fa77', 'Beyoncé & Jennifer Hudson Host Mini ‘Dreamgirls’ Reunion at 2024 iHeartRadio Music Awards', 'Why this amateur scientist measured snowfall for 50 years', 'Happy Tipping Tuesday Shibes!\\r\\n\\r\\nTip in Dogecoin 🐕🐶💸', 'Doge is the og tipping currency of the Internet', 'April is a BIG month for sky gazing 🤩Big planets: Jupiter will be visible all month; Mars and Saturn will rise together on April 10 & 11\\r\\nBig eclipse: On April 8, catch the last total solar eclipse in the U.S. for 20 years\\r\\nBig Moon: Catch a full Moon on April 23', 'Irish basketball teams ordered to replay last 0.3 seconds of quarter-final tie', 'Will Beyoncé Finally Win Album of the Year Grammy With ‘Cowboy Carter’?', 'Worst migraines ever for like 3 weeks now. 💀Why won’t these things go away? \\r\\n\\r\\nI have tried everything. What is your secret?', \"Tennessee passes 'chemtrail' bill banning airborne chemicals\", 'Here’s my advice to you Raymonte… IT TAKES TIME!!! Right now I get brand deals for over $5 million for a campaign… I got social media famous in 2014…my first brand deal from Fashion Nova was in 2016 and $200 a post. You could reach any height no matter how ghetto or where you…', 'something is cooking at @MyDogeOfficial 👀', 'Mysterious streak of light seen across southern California sky', 'Here Are the Performers and Presenters for 2024 CMT Music Awards', 'Botswana offers to send 20,000 elephants to Germany', 'Two letters: DC >>>> #GagCityDC', 'French couple who kept 159 cats banned from keeping pets', '🚨 BREAKING 🚨1,000,000,000 USDT JUST GOT \\r\\nMINTED AT TETHER TREASURY\\r\\n\\r\\nYESTERDAY ALSO $1 BILLION USDT \\r\\nWAS MINTED. \\r\\n\\r\\nARE WHALES PREPARING FOR A \\r\\nHUGE #BITCOIN PUMP ?', 'Rebel Wilson book release put back in UK and Australia', \"World Central Kitchen founder José Andrés says Israel targeted staff in Gaza 'car by car'\", 'Who were the seven aid workers killed in Gaza?', 'Listen, lots of my friends have made tons and tons of money on crypto while I cling to my little bag of silver. I realize that crypto has been more successful in the last several years than what I think would be. And I obviously admit that and people shouldn’t take investment…', 'Super valid. \\r\\n\\r\\nWorth a podcast someday.', 'Taylor Swift Is Officially a Billionaire', 'Will Truth Social post a financial bailout for Trump?', 'Three British aid workers killed in Israeli strike in Gaza named', \"Tesla 'disaster' with fewest deliveries since 2022\", 'Best doge meme wins Đ69.420! 🏆Like & Repost this post to participate. 🐕Upload your meme in the comments.💬', 'Trump sues Truth Social co-founders over alleged mismanagement', 'Ukraine lowers combat call-up age to boost numbers', '2024 MLB Season: How to Watch Baseball Games Online for Free Without Cable', \"Congratulations to BUID: 79*****52 on being our first winner of the Tesla Car Lucky Draw in second installment of #FuturesChallenge 🎉 \\r\\n\\r\\nDon't worry, there are 3 weeks left to get your hands on your very own Tesla! \\r\\n\\r\\nParticipate now ➡️ https://binance.com/en/futures-activity/futures-challenge…\", 'Tuesday already? Watch @LizaKoshy and me play #PASSWORD tonight at 10/9C on @NBC after #WeakestLink!', 'I went to #GagCityDC alone and ended up w the sweetest girl next to me who was also alone & so fun  AND it was her bday 😭😭😭😭\\U0001fa77\\U0001fa77\\U0001fa77 it was just a magical and fun night overall. I’m so overwhelmed and grateful', 'R.I.P. Michael McMartin.', \"Time to look at this month's market insights!\\r\\n\\r\\nOur research team analyzed the state of the crypto market and provided insights on Bitcoin ETF inflows, Ethereum's Dencun upgrade, Solana's DEX volumes, and more.\\r\\n\\r\\nCheck it out ⬇️\", \"#X is bringing the tip jar to the web app!\\r\\n\\r\\nIt was an iOS/Android feature for years and now it's finally finding its way to the web version!\\r\\n\\r\\nHere, you can see a full list of the supported services!\", 'Cool Cool', 'Israeli government says it will block Al Jazeera from broadcasting', \"New Senegal president Bassirou Diomaye Faye and his two wives\\r\\n\\r\\nIn our African culture, divorce is a taboo. A man isn't allowed to divorce a woman unless she has committed infidelity, only that is unforgivable\\r\\n\\r\\nAs for a man wanting to divorce a woman because she's no longer young,…\", 'The deluxe tracks from “GUTS (spilled)” on this week’s Billboard Hot 100:\\r\\n\\r\\n#14 “obsessed”\\r\\n#58 “so american”\\r\\n#75 “stranger”\\r\\n#90 “scared of my guitar”\\r\\n#99 “girl i’ve always been”', 'Janet Jackson Returns to Japan for Triumphant Together Again Tour Chronicling Legendary Career', '🔸Bitcoin has closed over $60,000 for 33 days in a row.\\r\\n\\r\\nConsolidation then... 🚀', 'Ohhhhh I gots to have these😍😍😍💕', 'We wear our solar glasses in space. 😎While millions of people on Earth watch the total solar #eclipse on April 8, astronauts aboard the space station will watch from 250 miles above. They’ll have three opportunities to view the ground shadow as they orbit Earth!…', '#X will soon let you save the trends from the Explore tab!', 'Very cool', 'Country Garden: China property giant suspends shares in Hong Kong', 'JUST IN: 🇺🇸 US government sends over 30,170 #Bitcoin worth $2 billion to Coinbase using Silk Road hack funds, Arkham data shows 👀', 'Struggling to level with VIPs? Now’s your chance to trade like a VIP9 on USDC-Margined contracts!\\r\\n\\r\\nEnjoy ZERO maker fee and only 0.017% taker fee for all users！\\r\\n\\r\\nRead more ➡️ https://binance.com/en/support/announcement/binance-introduces-limited-time-trading-fee-discount-for-usdc-margined-perpetual-contracts-2024-04-03-fc7732cf48cd49cf95e53aa479ed4deb…', '.#PASSWORD ON NOW!!!! #NBC and #PEACOCK', 'Bet on the Future. #Bitcoin', 'him refusing to speak on the meaning behind boys & girls ?!?? 😭😭', 'Global Citizen Festival to Return to Central Park in 2024', 'coneheads!! it’s time for u to find out which found heaven song u are!! ✪', 'The Houston Texans are making the moves the Dallas Cowboys should have if they were really ALL IN.', 'Person in Texas diagnosed with rare bird flu after contact with cattle', 'I’m a freak I need it!', 'shut down that hospital PLEASE', 'How Michael Rubin — And His Posh Parties — Unite The Sports And Music Worlds', 'I know dumb ass Richy Jackson choreo when I see it', '“where’d you go go alley rose” idk conan just text the gc', \"🚨 ATTENTION KATYCATS AND ALL OUR FRIENDS\\r\\nThe industry has always been cruel to Katy Perry! We need to bring this to everyone's attention!! \\r\\nReply to my tweet with#JUSTICEFORKATYPERRY \\r\\n\\r\\nGoal: 100 replies!!!\", 'Endeavor Going Private in Deal With Majority Shareholder Silver Lake', 'Chile: Woman steals gun from guard and opens fire', 'nicki concert was literally EVERYTHING🥹', 'I’ve been hearing people ask at what point in a potential downfall should they leave the US. Now I hear the same from Canadians and Europeans.\\r\\n\\r\\nThe issues with all of this is where will you go? We all need to fight to keep our countries in order or there will be nowhere to run.', '.@Hozier Notches Second Hot Rock & Alternative Songs No. 1 With ‘Too Sweet’', 'Cigar night Q&A tonight at 8PM Universal Tate Time.https://rumble.com/v4mw9tr-cigar-night-q-and-a-with-tristan-tate-ep.11.html…', 'Stefano Cherchi: Jockey dies two weeks after fall at Canberra races', 'Hunter Schafer Opens Up About Dating Rosalía in 2019: ‘She’s Family No Matter What’', 'It’s everybody tonight with they pink on for mother 😢\\U0001fa77🫶🏽 #GagCityDC @NICKIMINAJ', 'Elon a la Benjamin Franklin “in a Tesla” \\r\\n\\r\\nMy Midjourney prompt was: Benjamin Franklin driving a Tesla 😆✨', \"Why there's a revolution on the way in glass making\", '#firebloodchallenge it Taste like Orange Juice 🍊 @alexstaofficial @Cobratate', 'Made in America Festival Canceled for Second Consecutive Year', \"World Central Kitchen founder José Andrés criticises Israel over aid workers' deaths\", 'Hot 100 First-Timers: Allison Russell Debuts With Hozier Team-Up ‘Wildflower and Barley’', 'The list goes on and on and on', 'Ye and Ty Dolla $ign\\'s \"Vultures\" listening parties won\\'t go ahead.', 'Coinbase is now officially integrating the #Bitcoin Lightning Network 👏Coinbase has over 100 MILLION users 🚀', 'BIG BREAKING 🚨ETHEREUM ETF APPROVAL 🚨SEC asks for public comment for Grayscale, Bitwise and Fidelity spot Ethereum ETFs', 'GloRilla Recalls the ‘Beautiful Feeling’ of Visiting the White House: ‘I Still Haven’t Accepted the Reality of It’', \"Following their first playoff appearance in decades, the Marlins tried to demote GM Kim Ng. She turned that down and left the organization. The Marlins are behind early today and if they lose to the Angels, they'll be 0-7 to start this season.\", 'Ukraine war: Deepest Ukraine drone attack into Russian territory injures 12', 'Damn nigga you bought this from God????', 'Lizzo Clarifies What She Meant With ‘I Quit’ Statement: ‘I’m Going to Keep Being Me’', \"Andrew Tate's COLDEST moment in fighting\", 'John Summit, Dom Dolla, Kaskade & More to Headline Desert Nights’ Coachella Parties', '💵 💵 💵 💵 💵 💵 💵 💵 💵 💵  1,000,000,000 #USDT (1,000,027,499 USD) minted at Tether Treasuryhttps://whale-alert.io/transaction/tron/6f142b21fe6a11f413e68c71cb91c6e448f407408547b0f49d3da3e0cb6a3fad…', '.@jonmcreynolds & Marvin Winans’ ‘Able’ Tops Gospel Airplay Chart', \"Seeing sht like this back to back at EVERY show puts into perspective who it is NICKI MINAJ is in REAL LIFE, so going back & forth with føøls on here trying to prove a point is so useless. Nothing “negative” on here should even phase y'all, let them live in their delusion.\", 'Beyoncé Thanks Jack White for Inspiring ‘Cowboy Carter’', 'We are not slowing down! 🚄 ⚽️⚽️⚽️', 'Lady Gaga’s Harley Quinn Speaks!: Listen to the First Taste of Singer’s Character in ‘Joker: Folie à Deux’', 'UK surfer Laura Crane in class of her own at big wave spot Nazare', 'Congrats', 'Julia Garner is playing a female Silver Surfer in #FantasticFour \\r\\n\\r\\n(via @Deadline)', 'BIG BREAKING 🚨COINBASE GOES BIG ON #BITCOIN \\r\\n\\r\\n Coinbase partners with Lightspark to integrate Bitcoin Lightning Network.', 'I hate pending transactions. Please, just take the money.', '100/10 ! Amazing show @NICKIMINAJ 🥰🥰🥰🥰🥰🥰🥰 #GagCityBaltimore', 'Top 8 Most Profitable Crypto Narratives in 2024\\r\\n\\r\\n1. Memecoin - 1313%\\r\\n2. RWA - 286%\\r\\n3. AI - 222%\\r\\n4. DeFi - 99%\\r\\n5. DePIN - 81%\\r\\n6. Layer 1 - 70%\\r\\n7. Gaming - 64%\\r\\n8. Layer 2 - 39%', 'if i was famous i’d make a fanpage for myself and post “rares” that literally no one has ever seen because I TOOK THEM and everyone would be like “how does this person always have rare pics😢” bc i am her duh', 'I can’t say nothing every body gets offended over every little thing', 'I wish Gaga would stop bringing her hair & makeup friends with her for her movie projects too so we could see…how do I put this nicely…', 'FAKE NATIONALIST ZIONIST AGENTS \\r\\n\\r\\nNot a word from these fake nationalists about the 3 former BRITISH MILITARY members killed by Israel. \\r\\n\\r\\nIsrael First', 'Every dip is just the universe\\'s way of asking: \\r\\n\\r\\n\"Do you have the courage to double down on your dreams?\"', 'raymonte is not wrong.', 'I am currently 18h 53m 16s of light travel time from Earth (2024:095:000000:1L)', 'no offense bardi its cus i have a dominican parent & a black one 😭🖤', 'What is your most anticipated performance of 2024?', 'Race vs Ethnicity vs Nationality be beating my community ass.', \"It's cute when kids say what they want to be when they grow up. You're gonna write emails on the computer buddy\", \"#KatyPerry's “Harleys In Hawaii” has surpassed 500 MILLION streams on Spotify.  It’s her 15th song to reach this Milestone! 💪🏍️ ☀️💥5⃣0⃣0⃣Ⓜ️✖️1⃣5⃣🎶🔥👑\\U0001fa77\", 'Fun Fact: All of Lady Gaga’s lead roles are for films rated R', 'Pouria Zeraati: Three accused of TV presenter attack have left UK', 'Starship will be on Mars within the decade and I can’t wait to help build the booster that’ll send it on its way😤🔥🚀', 'Katy Perry’s lead single between April and May. The music video is ready. Xx', \"It's a stormy day at the spaceport!\\r\\n\\r\\nWhat's the weather like for you? ⤵️\", 'It’s crazy how it all happened when she was 33… just like Jesus', 'the fact that it never charted on the hot 100 is insane', 'Look how cute we are 😍🥹\\U0001fa77@caliboycomplex @socialenemy_ @SleezeMaraj', 'Doja Cat Says She Doesn’t ‘Care’ About Music Leaks: ‘There’s Nothing I Can Do About It’', 'Will you buy a Tesla with Dogecoin?', 'Names of three British aid workers killed in Israeli strike in Gaza are John Chapman, James Henderson and James Kirby, BBC establishes https://bbc.in/3xsDKIm', 'Are we on the timeline or on the DMs? We were talking in DMs and now you’re back on the timeline. You can’t gaslight me and I won’t let you confuse people by bringing up things that are irrelevant to the initial discussion. You say people never called me ghetto. I responded…', 'All of the Barbies are bad It Girls and we ain’t playing tag ! 💕🤩 #GagCityBaltimore', 'BIG BREAKING 🚨#Bitcoin to reach $150K by the end of this year, per Morgan Creek Capital Management CEO Mark Yusko', 'How FOX Sports’ Resident Deadheads Brought Jam Bands To Big Games', '𝕏 is winning 🫡', 'CRYING. OVER. THIS. 🥹💜 \\r\\nwe love you @ChappellRoan', 'Katchatheevu: Tiny Sri Lankan island sparks political row in India', \"when gaga did house of gucci she got dragged for having an accent, for joker she's getting dragging for not having one\", 'Gaga Daily would’ve loved today 🥺💔', '“IT’S TIME FOR KATYCATS TO MOVE” -@katyperry #justiceforkatyperry', 'It’s been 4 years and you’re STILL a Brokie', 'I reiterate my firm call for an immediate ceasefire in the Gaza Strip. I express my deep sorrow for the volunteers who were killed while distributing humanitarian aid in Gaza. I pray for them and their families.', 'Katy Perry’s Teenage Dream album cover is actually a painting', 'coneheads!! join cone for a live q&a on @TalkShopLive now!! ⭐️ 🖤https://talkshop.live/watch/SLXv-rgKp6…', 'New Shakira collaboration on the way. Xx', 'JUST IN: Apple exploring the creation of home robots as \"next big thing.\"', 'what if I said house of gucci has the best poster…', 'We need Katy’s documentary about what happened from 2017-2018', 'New look at ‘MOANA 2’, set 3 years after the first movie.\\r\\n\\r\\nIn theaters on November 27.', 'Taylor Swift Competing With Travis Kelce for a 2024 Webby Award: Full Nominations Announced', 'Two margaritas deep, I heard a song playing called you can go your own way, and I was like wow they are really singing their ass off. Looked it up it’s two band members breaking up I am in TEARS! YOU CAN GO YOUR OWN WAY 😭😭 watched the live performance. he can’t even look at her', '.@shakira’s ‘Las Mujeres Ya No Lloran’ hit number one on Top Latin Albums and Latin Pop Albums 💎', 'Sister ship @NASAVoyager 1 is 22h 32m 47s of light travel time from Earth (2024:094:120000:1L)', 'Justice for Katy Perry 💔😿', 'Conan’s gonna be personally at the gates of the arena asking people if they are in a relationship and if they say yeah he’ll be like “good for you, get out.”', \"USA Today attended @NICKIMINAJ's #GagCityDC and gave their review of her show:\\r\\n\\r\\n— “For her first U.S. run in eight years, Minaj has crafted her most grandiose production…[she] is still the Queen of Rap for a reason.”\", 'Nine Milestones Beyoncé Could Reach at 2025 Grammys', 'Israel’s PM says its forces \"unintentionally hit innocent people\" in Gaza, after strike on aid workers kills seven \\r\\n \\r\\nFollow latest updates https://bbc.in/3VD3g80', 'The most sold car on planet earth in 2023 was a Tesla!', \"Thanks to free media this particular chapter of the genocide in Palestine is happening in-front of everybody's eyes. \\r\\n\\r\\nPiers, Rogan, Trump and other big names are now condemning what is happening.\\r\\n\\r\\nBut on DAY ONE @Cobratate was telling Piers what would happen.\\r\\n\\r\\nHe knew.\", 'When Barbie touch downnnn…🤪\\U0001fa77@NICKIMINAJ I’m ready for you babes.', 'Beyoncé’s \"Cowboy Carter\" is galloping to No. 1 in the U.K.', 'I’m here! #GagCityBaltimore', '\"Remembered as a hero\"\\r\\n \\r\\nFamily pays tribute to James Kirby, one of three Britons killed in Israeli strike on Gaza aid convoy https://bbc.in/49CnXo5', 'The Everything App gets closer every single day. We’re building new ways for everyone to find community and connect to one another.', 'Feid Announces Joint Album With Yandel: Here’s What We Know', 'Which pussy can mek mi run?', '.@katyperry\\'s \"Never Really Over\" is now certified Diamond in Brazil. 🇧🇷', \"does conan sell the found heaven necklace separately because i don't collect cds i'm a vinyl girlie\", 'First look at ‘MUFASA THE LION KING’.\\r\\n\\r\\nIn theaters on December 20', 'Funimation has officially closed', 'She sounds exactly like The Countess i am screaming', 'am i the only one that didn’t notice conan start singing a song from found heaven by accident during the live? the sheer panic in his eyes 😭', 'WHAT DOES IT MEAN', 'JUST IN:\\r\\n\\r\\nU.S. SEC Calls for Comments on Spot ETH ETFs', 'I don’t give a damn HOW pretty it is. Australia will NEVER see me!!!!', '🇺🇸 ‘Las Mujeres Ya No Lloran’ on US Billboard:\\r\\n\\r\\n#1. Top Latin Albums\\r\\n#1. Top Latin Pop Albums\\r\\n#2. Top Album Sales\\r\\n#2. Top Current Album Sales\\r\\n#4. Top Vinyl Albums\\r\\n#13. Billboard 200\\r\\n#30. Top Streaming Albums', 'New look at ‘Moana 2’ out November 27th.', 'the sleeper hit of the year… this song watches those other “hits” come and go while it stays smashing on the charts😭', 'ATTA BABY @REALPACMAN24 ⛳️40 $500 WINNERS 💰💰🔘Repost this video🔘Reply saying something nice to somebody🔘Put the easiest way to pay you in the post as well#PMSLive', 'high heels on my tippies 💅🏼💝 #PinkFridayNails', 'JUST IN: 🇺🇸 US Government transfers 30,174 #Bitcoin worth $2.1 billion seized from Silk Road to Coinbase.', 'PlayStation 5 Deals: The Limited-Edition ‘Spider-Man 2’ Console Bundle Is $110 Off at Amazon', 'conan still being in a friend group with his ex oh my god', 'i don’t know how she’ll top this cover', 'ATTA BABY @REALPACMAN24 ⛳️40 $500 WINNERS 💰💰🔘Repost this video🔘Reply saying something nice to somebody🔘Put the easiest way to pay you in the post as well#PMSLive', 'I don’t give a damn HOW pretty it is. Australia will NEVER see me!!!!', '🇺🇸 ‘Las Mujeres Ya No Lloran’ on US Billboard:\\r\\n\\r\\n#1. Top Latin Albums\\r\\n#1. Top Latin Pop Albums\\r\\n#2. Top Album Sales\\r\\n#2. Top Current Album Sales\\r\\n#4. Top Vinyl Albums\\r\\n#13. Billboard 200\\r\\n#30. Top Streaming Albums', 'New look at ‘Moana 2’ out November 27th.', 'the sleeper hit of the year… this song watches those other “hits” come and go while it stays smashing on the charts😭', 'WHAT DOES IT MEAN', 'JUST IN:\\r\\n\\r\\nU.S. SEC Calls for Comments on Spot ETH ETFs', 'Funimation has officially closed', 'She sounds exactly like The Countess i am screaming', 'am i the only one that didn’t notice conan start singing a song from found heaven by accident during the live? the sheer panic in his eyes 😭', 'First look at ‘MUFASA THE LION KING’.\\r\\n\\r\\nIn theaters on December 20', \"does conan sell the found heaven necklace separately because i don't collect cds i'm a vinyl girlie\", '.@katyperry\\'s \"Never Really Over\" is now certified Diamond in Brazil. 🇧🇷', 'The Everything App gets closer every single day. We’re building new ways for everyone to find community and connect to one another.', 'Feid Announces Joint Album With Yandel: Here’s What We Know', 'I’m here! #GagCityBaltimore', '\"Remembered as a hero\"\\r\\n \\r\\nFamily pays tribute to James Kirby, one of three Britons killed in Israeli strike on Gaza aid convoy https://bbc.in/49CnXo5', 'When Barbie touch downnnn…🤪\\U0001fa77@NICKIMINAJ I’m ready for you babes.', 'Beyoncé’s \"Cowboy Carter\" is galloping to No. 1 in the U.K.', 'The most sold car on planet earth in 2023 was a Tesla!', \"Thanks to free media this particular chapter of the genocide in Palestine is happening in-front of everybody's eyes. \\r\\n\\r\\nPiers, Rogan, Trump and other big names are now condemning what is happening.\\r\\n\\r\\nBut on DAY ONE @Cobratate was telling Piers what would happen.\\r\\n\\r\\nHe knew.\", \"USA Today attended @NICKIMINAJ's #GagCityDC and gave their review of her show:\\r\\n\\r\\n— “For her first U.S. run in eight years, Minaj has crafted her most grandiose production…[she] is still the Queen of Rap for a reason.”\", 'Nine Milestones Beyoncé Could Reach at 2025 Grammys', 'Israel’s PM says its forces \"unintentionally hit innocent people\" in Gaza, after strike on aid workers kills seven \\r\\n \\r\\nFollow latest updates https://bbc.in/3VD3g80', 'Justice for Katy Perry 💔😿', 'Conan’s gonna be personally at the gates of the arena asking people if they are in a relationship and if they say yeah he’ll be like “good for you, get out.”', 'Taylor Swift Competing With Travis Kelce for a 2024 Webby Award: Full Nominations Announced', 'Two margaritas deep, I heard a song playing called you can go your own way, and I was like wow they are really singing their ass off. Looked it up it’s two band members breaking up I am in TEARS! YOU CAN GO YOUR OWN WAY 😭😭 watched the live performance. he can’t even look at her', '.@shakira’s ‘Las Mujeres Ya No Lloran’ hit number one on Top Latin Albums and Latin Pop Albums 💎', 'Sister ship @NASAVoyager 1 is 22h 32m 47s of light travel time from Earth (2024:094:120000:1L)', 'New look at ‘MOANA 2’, set 3 years after the first movie.\\r\\n\\r\\nIn theaters on November 27.', 'JUST IN: Apple exploring the creation of home robots as \"next big thing.\"', 'what if I said house of gucci has the best poster…', 'We need Katy’s documentary about what happened from 2017-2018', 'Katy Perry’s Teenage Dream album cover is actually a painting', 'coneheads!! join cone for a live q&a on @TalkShopLive now!! ⭐️ 🖤https://talkshop.live/watch/SLXv-rgKp6…', 'New Shakira collaboration on the way. Xx', 'It’s been 4 years and you’re STILL a Brokie', 'I reiterate my firm call for an immediate ceasefire in the Gaza Strip. I express my deep sorrow for the volunteers who were killed while distributing humanitarian aid in Gaza. I pray for them and their families.', '“IT’S TIME FOR KATYCATS TO MOVE” -@katyperry #justiceforkatyperry', 'Katchatheevu: Tiny Sri Lankan island sparks political row in India', \"when gaga did house of gucci she got dragged for having an accent, for joker she's getting dragging for not having one\", 'Gaga Daily would’ve loved today 🥺💔', 'CRYING. OVER. THIS. 🥹💜 \\r\\nwe love you @ChappellRoan', 'BIG BREAKING 🚨#Bitcoin to reach $150K by the end of this year, per Morgan Creek Capital Management CEO Mark Yusko', 'How FOX Sports’ Resident Deadheads Brought Jam Bands To Big Games', '𝕏 is winning 🫡', 'Katchatheevu: Tiny Sri Lankan island sparks political row in India', \"when gaga did house of gucci she got dragged for having an accent, for joker she's getting dragging for not having one\", 'Gaga Daily would’ve loved today 🥺💔', '“IT’S TIME FOR KATYCATS TO MOVE” -@katyperry #justiceforkatyperry', 'It’s been 4 years and you’re STILL a Brokie', 'I reiterate my firm call for an immediate ceasefire in the Gaza Strip. I express my deep sorrow for the volunteers who were killed while distributing humanitarian aid in Gaza. I pray for them and their families.', 'Katy Perry’s Teenage Dream album cover is actually a painting', 'coneheads!! join cone for a live q&a on @TalkShopLive now!! ⭐️ 🖤https://talkshop.live/watch/SLXv-rgKp6…', 'New Shakira collaboration on the way. Xx', 'JUST IN: Apple exploring the creation of home robots as \"next big thing.\"', 'what if I said house of gucci has the best poster…', 'We need Katy’s documentary about what happened from 2017-2018', 'New look at ‘MOANA 2’, set 3 years after the first movie.\\r\\n\\r\\nIn theaters on November 27.', 'Taylor Swift Competing With Travis Kelce for a 2024 Webby Award: Full Nominations Announced', 'Two margaritas deep, I heard a song playing called you can go your own way, and I was like wow they are really singing their ass off. Looked it up it’s two band members breaking up I am in TEARS! YOU CAN GO YOUR OWN WAY 😭😭 watched the live performance. he can’t even look at her', '.@shakira’s ‘Las Mujeres Ya No Lloran’ hit number one on Top Latin Albums and Latin Pop Albums 💎', 'Sister ship @NASAVoyager 1 is 22h 32m 47s of light travel time from Earth (2024:094:120000:1L)', 'Justice for Katy Perry 💔😿', 'Conan’s gonna be personally at the gates of the arena asking people if they are in a relationship and if they say yeah he’ll be like “good for you, get out.”', \"USA Today attended @NICKIMINAJ's #GagCityDC and gave their review of her show:\\r\\n\\r\\n— “For her first U.S. run in eight years, Minaj has crafted her most grandiose production…[she] is still the Queen of Rap for a reason.”\", 'Nine Milestones Beyoncé Could Reach at 2025 Grammys', 'Israel’s PM says its forces \"unintentionally hit innocent people\" in Gaza, after strike on aid workers kills seven \\r\\n \\r\\nFollow latest updates https://bbc.in/3VD3g80', 'The most sold car on planet earth in 2023 was a Tesla!', \"Thanks to free media this particular chapter of the genocide in Palestine is happening in-front of everybody's eyes. \\r\\n\\r\\nPiers, Rogan, Trump and other big names are now condemning what is happening.\\r\\n\\r\\nBut on DAY ONE @Cobratate was telling Piers what would happen.\\r\\n\\r\\nHe knew.\", 'When Barbie touch downnnn…🤪\\U0001fa77@NICKIMINAJ I’m ready for you babes.', 'Beyoncé’s \"Cowboy Carter\" is galloping to No. 1 in the U.K.', 'I’m here! #GagCityBaltimore', '\"Remembered as a hero\"\\r\\n \\r\\nFamily pays tribute to James Kirby, one of three Britons killed in Israeli strike on Gaza aid convoy https://bbc.in/49CnXo5', 'The Everything App gets closer every single day. We’re building new ways for everyone to find community and connect to one another.', 'Feid Announces Joint Album With Yandel: Here’s What We Know', 'Which pussy can mek mi run?', '.@katyperry\\'s \"Never Really Over\" is now certified Diamond in Brazil. 🇧🇷', \"does conan sell the found heaven necklace separately because i don't collect cds i'm a vinyl girlie\", 'First look at ‘MUFASA THE LION KING’.\\r\\n\\r\\nIn theaters on December 20', 'Funimation has officially closed', 'She sounds exactly like The Countess i am screaming', 'am i the only one that didn’t notice conan start singing a song from found heaven by accident during the live? the sheer panic in his eyes 😭', 'JUST IN:\\r\\n\\r\\nU.S. SEC Calls for Comments on Spot ETH ETFs', 'I don’t give a damn HOW pretty it is. Australia will NEVER see me!!!!', '🇺🇸 ‘Las Mujeres Ya No Lloran’ on US Billboard:\\r\\n\\r\\n#1. Top Latin Albums\\r\\n#1. Top Latin Pop Albums\\r\\n#2. Top Album Sales\\r\\n#2. Top Current Album Sales\\r\\n#4. Top Vinyl Albums\\r\\n#13. Billboard 200\\r\\n#30. Top Streaming Albums', 'New look at ‘Moana 2’ out November 27th.', 'the sleeper hit of the year… this song watches those other “hits” come and go while it stays smashing on the charts😭', 'ATTA BABY @REALPACMAN24 ⛳️40 $500 WINNERS 💰💰🔘Repost this video🔘Reply saying something nice to somebody🔘Put the easiest way to pay you in the post as well#PMSLive', 'high heels on my tippies 💅🏼💝 #PinkFridayNails', 'JUST IN: 🇺🇸 US Government transfers 30,174 #Bitcoin worth $2.1 billion seized from Silk Road to Coinbase.', 'PlayStation 5 Deals: The Limited-Edition ‘Spider-Man 2’ Console Bundle Is $110 Off at Amazon', 'conan still being in a friend group with his ex oh my god', 'i don’t know how she’ll top this cover', 'Nah I love the Barbz fr', 'Chance The Rapper & Wife Kirsten Corley Announce Divorce After 5 Years of Marriage', 'One child dead and two seriously wounded in Finland school shooting after pupil, 12, opened fire, police say', 'Community Notes now active on India!', 'Best concert EVER!! I cried danced and allllllll!!!!!!! 🦄🦄🦄 #GagCityBaltimore', 'CTS Eventim to Buy Vivendi’s Ticketing & Events Businesses', 'My PF2 tour FIT @NICKIMINAJ I am definitely permanently signing my contract as a resident into GAG CITY again amazing show', 'What’s Your Favorite Shakira No. 1 Billboard Latin Pop Airplay Hit? Vote!', 'Microsoft: Technology giant splits Teams and Office globally', 'BREAKING: Bloomberg is dying. 🪦Media sites are continuously experiencing a decline in traffic.', 'I am the most famous man in the world and avoid speaking to famous people because theyre all gay and weird.', 'My analysis of the Putin interview.\\r\\n\\r\\nI am only street smart.\\r\\n\\r\\nIve never professed to be anything else.\\r\\n\\r\\nBut these street smarts have taken me to the highest echelons of finance and fame without selling my soul, leaving me pitted in a mortal battle against The matrix for my very…', 'If you wanna laugh just remember:\\r\\n\\r\\nThere is a “man” being cucked into buying a gift for the used, non-virgin women he’s dating for Valentine’s Day.', 'JUST IN: Coinbase partners with Lightspark to integrate #Bitcoin Lightning Network.', 'Every Shakira Album, Ranked: Critic’s Picks', 'I would never recommend to any of my clients to do any sort of business with Pique.', 'Anyone from the UK here? Who is Lucien Laviscount’s ex and why is she writing a column in a British tabloid about Lucien and Shakira?', 'Look how she ate that 😭😭😭', 'boys & girls was the song that took him the longest to write…', 'if burgerdiseases is anything like affluenza im gonna scream', 'ALL THE RESULTS FROM THE FOUND HEAVEN QUIZ!!', 'There will never be more than 276^3 #bitcoin.', 'Instagram? Down\\r\\n\\r\\nWhatsapp? Down\\r\\n\\r\\nKaty Perry: still standing 🙌🏻', \"Where we're going, we don't need roads. 🚘@NASA has selected Intuitive Machines, Lunar Outpost, and Venturi Astrolab to advance capabilities for a lunar terrain vehicle that #Artemis astronauts will use to travel around the lunar surface.\\r\\n\\r\\nREAD MORE 👇\", 'Interesting 🤔 \\r\\n\\r\\nAnd what’s going on with engineering?', 'Jimmy Butler update', 'WHAT. THE. FUCK.', '“Katy Perry is about 2 serve biggest musical comeback since Mariah Carey with The Emancipation of Mimi. Her latest album, mostly finished, has wowed music industry insiders: \"It\\'s mostly a ‘return to form.’ ‘Songs are more mature, but have Katy Perry signature quirk.’ “\\r\\n\\r\\n—…', 'Beyoncé’s ‘Cowboy Carter’ Songwriting Credits: Here’s Who Wrote Each Song', 'Witness is one of the best songs in Katy’s career. We all want to be seen and we all are looking for a witness in all this mess. @katyperry u genius', 'All I was trying to say is that her being ghetto or getting called ghetto doesn’t hinder her career. Essence wrote an article and asked why was my viral birthday trip not sponsored by any brands  and yall said it was because I’m “ Ghetto “ and not “ marketable “ so I’m giving an…', \"I was today years old when I found out Ethiopia is 8 years behind everyone else so it's currently 2016 there?! 😭😭😭\", 'In case you thought government trying to force home sales for “asylum seekers” was a myth, this is already happening in Britain!', \"You can't win the game completely alone.\\r\\n\\r\\nNo one has.\\r\\n\\r\\nEvery great man always had other great men by their side.\", 'Clothes of French toddler Emile Soleil found near remains in French Alps', '#GagCityDc was a movie @NICKIMINAJ thank you🎀😩', 'In a jail cell for an unknown period of time\\r\\n\\r\\nFacing the largest of battles\\r\\n\\r\\nIt was the perfect time for any traitors on my team to betray me\\r\\n\\r\\nBut my team remained solid\\r\\n\\r\\nFlawless\\r\\n\\r\\nI am the perfect judge of character\\r\\n\\r\\nSurrounded by impeccable men\\r\\n\\r\\nTeams like mine cannot lose.', 'Lady Gaga’s most liked Instagram posts so far this year', 'Katy Perry x American Idol', '20 million views for a POSTER from one twitter account in 24 hours is actually insane if you think about it', 'Afrobeats star Davido to sue over Kenyan April Fool’s joke', \"Minnie took AWF 😭😭😭😭 y'all not about to see her minussy out like that\", 'Wow, 5 million followers! I remain so grateful to each and every one of you for supporting me on this journey and for believing in me through every life transition. \\r\\n\\r\\nThank you all 🙏', 'Theyre in trouble...', 'joker trailer didn’t release yet, we’re not even close to october and we’re already defending gaga for this harley role.. we’ve got a big storm coming.', 'I’ve seen @NICKIMINAJ twice!\\r\\nTonight in Bmore and last night in DC\\r\\nI can say unequivocally that I MUST SEE HER AGAIN BUT FRONT ROW FROM NOW ON!\\r\\nI WILL forever remember these past two nights!\\r\\nShe’s the undeniable Queen of Rap!\\r\\nHer fanbase is unmatched!\\r\\nI’m hooked!', 'conan fans when they remember conan is a male 😭😭😭😭😭', 'the fact that conan is still in the same friend group with his ex GIRL LEAVEEEE IF I WERE HIM I WOULDNT TAKE IT ANYMORE ESPECIALLY HOW AWKWARD THAT COULD BE', 'i think conan started singing one of the songs cause he started singing and then made wide eyes and then stopped LMFAO', 'The former President of PayPal is now helping the largest US #Bitcoin exchange integrate the Lightning Network ⚡️Bullish 🚀', 'the fact that Tony kept all these cards from Gaga I’m so emo😭', 'How Interscope Pioneered the Modern Label’s Approach to Sports', 'the last signed copies of found heaven are available here ⭐️https://talkshop.live/watch/SLXv-mngKp6u…', 'i love the one that actually looks mentally ill', 'Shakira New Tour - Announcement this Month', 'A Star Is Born. House of Gucci. Joker II. Lady Gaga conquering Hollywood is just insane. 😭', 'Katy Perry deserves respect.', 'Golden Globes Sign Five-Year Deal With CBS; Here Are All the Key Dates for the 2025 Show', 'Media: The demand for Tesla products is fading.\\r\\n\\r\\nReality: Tesla Model Y was the best selling car on Earth in 2023.', 'Roofs blown away and trees uprooted after US storms', '#GagCityBaltimore #GAGCITY 🎀💓', 'This is so wrong, too. Netanyahu is trying to prevent Israelis from seeing the reality on the ground in Gaza. That’s what autocrats do, not democratic leaders.', 'There’s An Extended Episode of ‘Vanderpump Rules’ Online -- Here’s How to Watch & Stream the Show Without Cable', '𝕮𝖔𝖘𝖒𝖎𝖈 𝕮𝖍𝖗𝖔𝖓𝖎𝖈𝖑𝖊𝖘\\r\\nSpaceX Achieves Ambitious Goal: 12 Falcon 9 Missions in a Single Month\\r\\n\\r\\nIn pursuit of its ambitious objective to conduct 150 missions in 2024, SpaceX has reached a significant milestone by completing 12 Falcon 9 missions in a single month. SpaceX…', 'Microsoft splits Teams and Office globally', 'Hard to kill.', '#GagCityBaltimore #GAGCITY 🥰\\U0001fa77 we love you #NickiMinaj', 'Elon Musk at the screening of \"A Brief History Of The Future\" in New York', 'i think bourgeoisieses is supposed to be a mashup of the words “bourgeoisie” and “diseases” kinda like affluenza being a mix of “affluence” and “influenza”', 'Hello 1.4B people - welcome to @CommunityNotes!', '\"Judas\" received 492,957 streams this Tuesday 🌟🖤', 'Inside the ‘Evolution’ of Record Label Radio Staffs, as Layoffs Hit Promotions Departments Hard', 'Other notable adds on US Rhythmic Radio this week\\r\\n\\r\\n•Enough (Miami) @iamcardib (3)\\r\\n•Get It Sexyy @SexyyRed314_ (3)\\r\\n•Punteria @shakira ft. @iamcardib (3)\\r\\n•Spaghettii @Beyonce ft. #LindaMartell & @ShaboozeysJeans (1)\\r\\n•Tyrant @Beyonce ft. @DollyParton (1)\\r\\n•Ya Ya @Beyonce (1)…', 'some of y’all were really expecting her to sound like this in a movie as serious as joker 😭😭', 'WAIT SO IT IS THE FINAL FLIGHT??????', 'This morning, at the gas station, there was a guy in front of me trying to get $4 worth of gas. His card kept getting declined and you could see how embarrassed he was. After the third time of watching this happen I decided to jump in and offer to pay for his gas… except I…', 'HE SAID NO CONMENTS TO BOYS & GIRLS BRUH WTF', 'When Richard said he was going to retire soon in season 1', 'Joker: Folie à Deux, featuring Joaquin Phoenix and Lady Gaga, has been given an R rating due to:\\r\\n\\r\\n- Occasional instances of strong violence\\r\\n- Frequent use of explicit language\\r\\n- Depictions of sexuality\\r\\n- Brief scenes of full nudity', 'this is actually nuts LMAO', 'Mental fragility is promoted at every opportunity and people wonder why depression increases.  \\r\\n\\r\\nBecause it’s taboo to tell people to think stronger, be stronger or act stronger.  \\r\\n\\r\\nWe’re told to cave instantly to all of our emotions all of the time.  \\r\\n\\r\\nIt’s dangerous.', 'conan was at billie’s party…no photo….conan met his lost twin dua…no photo…conan met lorde…no photo…', \"Looks like that LG7 process is going in reverse, she was recording in January, mastering in February and... writing in March???, Gaga what's happening?\", 'We’re tipping our hats to #KatyPerry’s look at the #iHeartAwards2024. 😉', 'I don’t believe most presidential polls, partly because I’ve personally NEVER been polled in my entire life — not even once. \\r\\n\\r\\nHow about you — have you ever been polled about who you support for president? 🤔', 'Katy Perry for the next episode of American Idol.', 'JUST IN: Coinbase to integrate #BTC Lightning Network!', 'Must-Have Makeup: 9 New Beauty Products to Buy for Spring 2024', 'Republican Speaker Johnson makes fresh push for Ukraine aid', 'oh bitch she ate it up times 10 tonight for baltimore', 'From William Wallace screaming \"FREEDOM\" to being afraid of words.\\r\\n\\r\\nScots, what happened?', 'Doge is Everywhere 🌍💫', 'Usher Reveals His Super Bowl Strategy — And The Halftime Veteran Who ‘Gave Me Some Notes’', \"Kirsten Dunst: 'I didn't even think to ask for equal pay'\", 'Is it Gods will for you to demonstrate that you have no souls?\\r\\n\\r\\nWere you chosen by God to show that you’re heartless monsters?\\r\\n\\r\\nIs it Gods intention for the entire world to be disgusted by your actions?', 'Nicki has arrived on stage in #GagCityDC', \".@taylorswift13's Songwriting and Production Analyzed: 13 Secrets to Her Chart Success\", 'Shakira is set to appear on ‘Hot Ones’ this Thursday.', '‘JOKER: FOLIE À DEUX’ has been rated R for “some strong violence, language throughout, some sexuality, and brief full nudity.”\\r\\n\\r\\nIn theaters October 4, 2024.', '.@katyperry\\'s \"Never Really Over\" is now certified Diamond in Brazil.', \"We're looking for a designer/frontend engineer to join the London team. If you're great at UI design and you can implement your designs in React, please apply so we can pixel-peep together.\", '“(Entre Paréntesis)” by Shakira and Grupo Frontera has reached 10 million views on YouTube, but deserves waayyyyyy more. 🤠 Watch → http://youtu.be/PEgoHBnZXzE', '\"Lady Gaga iS dEsPeRaTe FoR ThAt OsCaR\"\\r\\n\\r\\nMeanwhile Lady Gaga', 'forget first episode, glee got me from its very first line', 'Previous version of FSD have had a very hard time dealing with this kind of stuff.\\r\\n\\r\\nFSD 12 nailed it.', 'Now Amanda can hear the news', \"JUST IN: 🇺🇸 FED Chair Jerome Powell says don't expect interest rate cuts until more confidence on inflation.\", 'Not Shakira dragging North Americans’ uncultured asses 😭', 'China property giant Country Garden suspends shares in Hong Kong', 'Katy Perry x American Idol', 'JUST IN: 🇺🇸 BlackRock and Fidelity now own a combined 402,697 #BTC worth $26.7 billion for their spot #Bitcoin ETFs 👀', 'Every change to our voting system seems designed to make it harder to know if cheating happened.', 'i’m loving the friendship of sza & katy perry', 'the way you guys use Mexican as an insult is fucking weird', 'Silver is up 8% in a week. And here is a video of the “genius” inventor of ethereum. Call me crazy but I’m sticking with the store of wealth from back in the far before time when mental illness wasn’t praised as a virtue.', 'You’re right on a lot but wrong on crypto', 'The upcoming Cheech & Chong MW3 & Warzone Operator Bundle has a weapon tracer that will turn enemies into joints.', 'Dua Lipa Teases Snippets of New Album ‘Radical Optimism’: ‘It’s the Beauty of the Chaos’', \"Florida's top court ushers in six-week abortion ban, but voters will have their say\", 'About to go on station head to give out tkts', 'YG and His 4Hunnid Label Partner With BMG', '\"This is a battle for the future of civilization. If free speech is lost even in America, tyranny is all that lies ahead.\"', 'This Playlist is designed to give you POWER.\\r\\n\\r\\nFIRE BLOOD.\\r\\n\\r\\nBADMANNNN RIDDIMS\\r\\n\\r\\nThe Power is GUARANTEED.\\r\\n\\r\\nBut what will you use this power for?\\r\\n\\r\\nThis Playlist holds some of the exact RIDDIMS I listened to on my ascent to 4x World Champion.\\r\\n\\r\\nIt holds the music that powered up my…', 'Man charged with murder of Irish woman in New York', 'Baltimore did they big one with the Barbie Dangerous Lemon Drop 😭 #GagCityBaltimore', 'Save the date! #BillboardLatinWeek is returning to Miami this October. 😎🌴', '“Whenever, Wherever” had its biggest streaming day of 2024 on Spotify yesterday (479,768 streams), and “La Tortura” had its biggest streaming day ever on the platform (408,059).\\r\\n\\r\\n[source: @Shakira_Vitium]', 'Lady Gaga screaming “JOKERS” two days after she announced she was going to be in Joker 2… so iconic', 'Could Ethiopian emperor’s stolen clothes be found in Manchester?', 'Kirsten Dunst on Jonathan Glazer’s Oscars speech: “My interpretation was he was saying that genocide is bad.” https://wp.me/pc8uak-1lDWTx', '🚨 🚨 🚨 🚨 🚨 🚨 🚨 🚨 🚨 🚨  4,824 #BTC (317,962,687 USD) transferred from unknown wallet to Coinbase Institutionalhttps://whale-alert.io/transaction/bitcoin/9a4c7bf86a8b2dabd9755bc282f57ef2b49c85168c137fe1a2458011cad952dd…', 'conan is getting 2 streams for found heaven', \"we're literally in 4 different eras currently\", \"This song is so hated in this fandom, but it's a fuking masterpiece\", '\"Sunlight is the best disinfectant.\"', 'the final fight is about wishing you were the one that said the last thing before the relationship ended so i guess that’s why it’s so short i imagine it like a back and forth and then it ends abruptly cuz he didn’t got the last word so you just listen to it again and again', 'If anybody needs Elmo, Elmo will be right here coloring! 🖍️👍', 'highkey need gaga to do some comedy after the joker 2 cycle', 'THE WAY IT LOOKS LIKE THEYRE ON A STAGE WITH A SPOTLIGHT ON THEM BUT ITS ACTUALLY LIGHT FROM A PRISON WINDOW OH TODD YOUR MIND…', '‘They met in a diner in Ft. Lauderdale, a greasy spoon that Trump knew well. He would often send a flunky there for chili fries ‘best ones south of Palm Beach’ he liked to say. He was a connoisseur of salt & fat. His two fav food groups. For someone who sculpted his…', 'This been making me fall out 😭', \"The start of today's game will be delayed. Further updates will be provided as they become available.\", 'All you got to do is smile that smile❤️', 'The Secrets Behind the Best Sports Synchs', 'Nicki you really GAGGED ME ! 💖🦄I love you so much . See you tomorrow 🥹 @NICKIMINAJ #GAGCITY #GagCityDC', 'it’s starting to sink in conan album so soon guys oh my word', 'Many people can’t comprehend how you can have a relationship with God and not be religious. But the truth is, many of us got much closer to God once we evolved beyond organized religion.', 'Best part of this picture is being around all the @SpaceX team that makes commercial missions like @PolarisProgram possible.', 'LOCAL ARTIST IN KENYA PRODUCE ARTWORK OF TATE BROTHERS ON A VAN USED FOR FOOD AID@Cobratate @TateTheTalisman', 'Twitter 1.0 - Where everyone made money, except the content creators & the advertising companies.\\r\\n\\r\\n𝕏 - Where revenue sharing with creators, & high conversions for the advertising companies, are the top priorities.', 'Rod Wave Arrested on Weapons Charges as Police Accuse Him of Ties to Florida Gang Shooting', 'Josh Allen now gets the chance to prove he doesn’t need Stefon Diggs anymore just like Patrick Mahomes proved he didn’t need Tyreek Hill.', 'I still believe that all the best bangers are ahead of us.', \"Billie Eilish and Nicki Minaj want stop to 'predatory' music AI\", 'Billboard Bubbling Under Hot 100: #20(new) (Entre Paréntesis), @Shakira and Grupo Frontera.', 'Wasn’t nervous tonight. \\r\\nThank you for that #GAGCITYDC #GAGCITYDMV \\r\\nWhen you can do that for a person, you have a real light \\r\\nw/in you. God bless you all. \\r\\n\\r\\nThis show was EFFING INCREDIBLE. IDC IDC IDFCCCC\\r\\n\\r\\nAnd the REALEST N!gg@ of ALL time blessed us AGAIN!!!!!@50cent 🙏🏽🏆♥️', 'Lady Gaga updates her bio on Instagram.', 'Olive Garden and LongHorn Steakhouse have reported last week that households with incomes above $150,000 had more transactions at its restaurants in the most recent quarter than a year ago, whereas transactions among those making less than $50,000 fell, per Axios.', 'Consistency is incredibly valuable', 'ASIB: “she’s just playing herself”\\r\\nHOG: “the accent is wrong”\\r\\nJ2: “she’s using her normal voice” \\r\\n\\r\\nY’all are DRAINING', 'does any one know where i could find some Unsolicited advice? preferably from people with weird personality disorders who dont know anything', 'in retrospect, calling the never ending song grocery store “food heaven” was insane', \"Fun fact\\r\\n\\r\\nIn the movie The Matrix, Neo's passport has an expiration date set to 9/11/2001\", 'We can have equal treatment or equal outcomes. Pick one.', '“Nothing can make you happier than having kids”\\r\\n - Elon Musk', 'Billionaires with the guts to stand up against woke mobs:@elonmusk@jk_rowlingIs there anybody else?', 'neither of these two ever sign up for a normal movie so this is gonna be the most heart-wrenching love story of all time trust and believe', \"IT'S ON! 💥 @erakulis_app is a project very close to my heart. Born from my desire to promote a balanced and healthy lifestyle for everyone. Now, the tools to care for your body and mind are right at your fingertips!\\r\\n\\r\\nFind out more: http://erakulis.com\", 'Julia Garner has been cast as a female Silver Surfer in ‘FANTASTIC FOUR’.\\r\\n\\r\\n(Source: Deadline)', 'Immediately following the initial attacks on the World Trade Center, tunnels were closed, and traffic fleeing Manhattan via bridges reached a standstill. \\r\\n\\r\\nMany civilians, especially in those neighborhoods closest to the attacks, were desperate to escape the island but had no way…', \"Netanyahu is a fucking monster.\\r\\n\\r\\nThat's the tweet.\", 'the fact that he confirmed that he signed all of the cds and vinyls on his couch is so☹️☹️ conan you are so loved', 'Just lectured my son about misplacing his glasses while he was anxiously looking for them. \\r\\n\\r\\nHe said, mommy you’re making me more nervous. Can we talk afterwards. \\r\\n\\r\\nGood for him because I was wrong. I aided in his dysregulation. I mess up, too.', 'JUST IN: Cathie Wood’s ARK Invest says #Bitcoin“is an insurance policy against rouge regimes.”', 'Man is going viral for saying that Soulja Boy is more of a rap legend than Nipsey Hussle.', 'We love and support you Elon 🤗', 'If the Left is so dumb, why do they keep winning the most important elections', \"NEWS 🚨: NASA's Parker Solar Probe makes 1st-of-its-kind observation within a coronal mass ejection\", 'Rod Wave was arrested today for possession of a firearm by a convicted felon.', '.@katyperry in new promotional photos for @AmericanIdol 🌺', 'Beyoncé’s \"Texas Hold ‘Em\" is on the rebound in the U.K.', \"Al Hilal: Sudanese champions play on 'to distract people from war'\", 'like she ate this! #GagCityBaltimore NICKI I LOVE YOU !', 'I remember 2 years ago when I bought a 5,4million dollar Bugatti it was a big deal.\\r\\n\\r\\nNow I have 75,000,000 dollars of cars in the middle of a global bank freeze Matrix attack and dont even give a fuck.\\r\\n\\r\\nI own the largest online http://university.com in the world.\\r\\n\\r\\nIts amazing…', 'Andrew Tate - Midnight Drive', 'Latin Music Week Returns to Miami In October 2024 🌴 #LatinMusicWeek', 'Horse airlifted after nearly 24 hours stuck in a river', 'Nicki Minaj brings out her artist Tate Kobang (@1buttnaked) to perform “RNB” and “Bankrolls” in his hometown Baltimore 🔥', 'Tip Jar will be soon available on web. It will significantly benefit creators on the platform.\\r\\n\\r\\nvia @nima_owji', 'Why This Company Wants To Recycle Instrument Strings Across the Globe', 'Politicians condemn disorder after Derry parade', 'The Last Goodbye: Los Temerarios Close 40-Year Career With Record-Setting Tour', 'i wonder what will be the canonical explanation for why Gaga’s Harley is blonde with brunette roots\\r\\n\\r\\ndoes Harley happen to like bleaching her hair just like Stefani does? \\r\\n\\r\\ndoes she change her hair because Arthur is into blondes?', 'FINALLYYY those messy highlights are out the wayyyy', 'When I learned this scene was based on a true story I almost threw up…', 'Miley Cyrus and Post Malone are rumored to have a collaboration in the works.', '“The first person who benefits from an act of charity is the benefactor himself, by seeing the changes in himself and in his manners, by finding peace, by watching a smile form on the lips of another person.”', 'BREAKING:\\r\\n\\r\\nPresident Trump said \"When I win, tax cuts for all and an economic boom!\"', 'KP6:\\r\\n\\r\\n- 500k copies sold in its first week \\r\\n- 5 deluxe versions and alternate covers \\r\\n- fraudulent radio play and streams \\r\\n- satanic accusations \\r\\n- 6 tv performances \\r\\n- 4 viral songs \\r\\n- 3 #1 hits \\r\\n- streaming farms', 'I STILL can’t believe it’s over, this was truly one of the most memorable nights. I loved every second, every moment. Thank you to all the barbs who’ve been so supportive and true to themselves you all are the best I love you guys ☁️\\U0001fa77 #gagcitydc #gagcitydmv @NICKIMINAJ', 'Yup. I’m that journalist! Both HuffPost & Observer are FANTASTIC news outlets. My condemnation for generating hate clicks against Perry was for my former self, not these great news outlets.', \"Americans are the only ones who cares about accent like what the fuck is a New York accent y'all fuckers sounds the same\", 'Grateful for these last four years and excited for this next chapter. #BAYOUBARBIEOUT', 'Lady Gaga at the Venice Film Festival (2018)', 'Joker has been portrayed by numerous male actors and nobody had an issue with it. Y’all always feel entitled to these opinions when it comes to female characters. Just say you love to pit women against each other and go.', 'the dead wife at the beginning of the movie', 'Jon Bernthal shares a new ‘DAREDEVIL BORN AGAIN’ BTS photo with Charlie Cox and Deborah Ann Woll', 'BREAKING: Judge denies Trump immunity claim in hush money case.', '.@munilong Is ‘Made for’ No. 1 on R&B/Hip-Hop Airplay Chart', 'What Will It Take To Get the Music Industry to Go Green? Live Veteran Amy Morrison Has Ideas', 'Student escapes Sudan war to start university course', 'This has to be one of my fav segments of the show 🥹 she knows how to speak to the soul \\U0001fa77 #GagCityBaltimore', 'A Complete Guide to Every 2024 Coachella Party & Event (Updating)', \"Marc Brys: Appointment of new Cameroon boss surprises country's FA\", 'SHAGGY THE GOAT Part 2 | Tate Confidential Ep 225\\r\\n\\r\\nWatch now:', 'Watch the full Tate Confidential episode exclusively on Rumble:', 'Hot 100 First-Timers: Artemas Debuts With Viral Hit ‘I Like the Way You Kiss Me’', 'This graph now has more views than his last 3 episodes combined. ☠️', 'Actor and comedian Joe Flaherty dead at 82', 'Here Are the Lyrics to Shakira & Cardi B’s Flirty ‘Punteria’ Translated to English', 'How Big a First Week Will Beyoncé Lasso With ‘Cowboy Carter’?', 'Please pray for Xavier. He’s in surgery right now to remove the neuroblastoma cancer from his chest and spine.\\r\\n\\r\\nThank you all for loving our boy.#XaviersFight 💜🎗️💛', 'First clip from ‘THE BEAR’ Season 3\\r\\n\\r\\nReleasing in June on Hulu.', 'Can’t believe this was the era when little monsters abandoned her…', 'this actually changed the evolution of editing this is why tiktok edits are the way they are today', 'My opinion of Colorado State University just increased.', 'NEWS: Cathie Wood says she still has a $2,000 price target for $TSLA shares.\\r\\n\\r\\n“Now is not the time to run for the hills,” she said on CNBC.', 'ariana has blocked a fan because they uploaded a post with a taylor drag!', 'Thank you @katyperry for this hot girl tip of the day! 😂\\U0001fa77 #iHeartAwards2024', '“Swifties only hate Kanye bc of Taylor” no we hate him bc he’s a vile human and what he did to Taylor is a reflection of that', 'lady gaga explaining the plot of joker 2', 'At 24, Shakira created this worldwide hit that everybody remembers to this day.\\r\\n\\r\\nNow, at that age (or even older), you are dragging her on the internet and no one will remember that 😘', \"Boy's message in a bottle found in Denmark\", '💕 #GAGCITYDC was def one of them ones. All the right clothing, etc.', 'Signed: Lewis Capaldi Connects With PPL; Lil Mosey Synchs Up With Cinq', 'this is actually insane.', '🚨 | Conan Gray’s upcoming album “Found Heaven” is 36:42 minutes long. There are 13 tracks on the album including 5 earlier released songs.❗️The album comes out TOMORROW!', '.@shakira makes history this week, thanks to her new album ‘Las Mujeres Ya No Lloran.’\\r\\n\\r\\nThe set debuts at No. 1 on the #TopLatinAlbums chart, becoming her seventh No. 1. She ties @jennirivera and @SelenaLaLeyenda for the most in history among women.\\r\\n\\r\\nDetails:…', 'What Does a Head of Sustainability In the Music Business Actually Do?', 'Travis when he read  \\r\\n“Happy belated Independence Day from your local neighborhood independent girlies 😎See you tonight Kansas Cityy”', 'listen guys i fear we ate', 'Rebel Wilson Believes Adele ‘Hates’ Her Because of ‘Fat Amy’ Comparisons: ‘People Would Confuse Us’', 'Solar eclipse path: A guide on where and how to watch it in North America', 'John Sinclair, Former MC5 Manager and Activist, Dies at 82', 'Told you so, Barbz. Love you', 'Finland shooting: Child, 13, wounds three in Vantaa school shooting', 'Jordan Davis, Morgan Wallen & Big Loud Publishing Lead 2024 AIMP Nashville Country Awards Honorees', \"I may be a tall, sexy, genius-level IQ, humble, BILLIONAIRE.\\r\\n\\r\\nBut that doesn't mean I am one of those elitist snobs, I sometimes wash one of my 63 supercars myself.\\r\\n\\r\\nTop G.\\r\\n\\r\\nThe G stands for Man of the People.\", '#GagCityDC 💖🤍 @NICKIMINAJ love you long time!', 'Simon Coveney stepping down from Irish Cabinet', 'Bizarrap’s Best Music Sessions, Ranked: Critics’ Picks', 'A History of Disses at No. 1 on the Billboard Hot 100, From ‘You’re So Vain’ to ‘Like That’', 'Lil Yachty, Who Worked at McDonald’s As a Teen, Stars in a New Ad for the Golden Arches', 'Arthur Wharton: Preston North End honours trailblazing black footballer', 'It’s crazy because when I became famous people said I’m ghetto, talked shit about my accent, call me dumb because the way I speak, say I got no couth, talk about my teeth , my braids, my two buns… and to this day no matter what I accomplished I still get called a stripper all…', 'Musicians Vote to Ratify New Contract With Film Studios, Including Streaming Residuals', 'They got us before we even got in😭\\U0001fa77 #GagCityBaltimore @kash_leeda @lifeewithsav', 'The Houston Texans have a Top __ offense', 'Beyoncé’s ‘Cowboy Carter’ Legendary Inspirations & New Collaborators All Up in Streams: Linda Martell, Dolly Parton, Brittney Spencer & More', 'TOMORROW FOUND HEAVEN RELEASES!!! flashback to the beginning of this current era... where were you when this dropped? cause lives were changed that day', 'ice spice was hanging with cardi and taking pictures?', '.@StevenVictor on Changing ‘How the Modern Athlete Looks Tomorrow’ With His Expansion Into Sports Management', 'This is insufferable. Literally keep it to yourself. I legit could never go out to eat or be around someone like this. I don’t care about your disordered relationship with food. Shut up.', 'How to Watch Women’s March Madness 2024 Final Four Games Online Without Cable', 'Here Are the 6 Best Earplugs to Help Protect Your Hearing at Concerts', 'ALERT:  New York judge Juan Merchan denies Trump claim of presidential immunity in NY criminal case. \\r\\n\\r\\nJudge says, among other things, Trump “had myriad opportunities to raise the claim of presidential immunity well before March 7”', 'YG Entertainment Names Yang Min-seok Sole CEO', 'Yo @UberEats @Uber_Support I’ve never seen worse customer service in my life.', 'Jean-Paul Vignon, Stylish French Vocalist & Actor, Dies at 89', 'and if i say his whole discography', \".@shakira's ‘Las Mujeres Ya No Lloran’ Storms In at No. 1 on Top Latin Albums and Latin Pop Albums\", \"Three station crew members, including @NASA astronaut Loral O'Hara, are scheduled to begin their return to Earth on Friday, April 5. NASA TV will provide live coverage of their departure and landing.\", 'this is the most popstar someone has pop starred in recent years 😭', 'Kanye West Sued by Ex-Donda Academy Staffer Who Says Rapper Threatened to Lock Students in Cages', 'Watch: Taiwan earthquake shakes man in rooftop pool', 'Sabrina Carpenter Channels the ’90s for SKIMS’ Sultry Underwear Campaign', '17 SOLD OUT SHOWS 🎀🦄 come thru  #GagCityBaltimore #PinkFriday2Tour #PinkFriday2 #NickiMinaj NICKI ITS YO WORLD 🌎 AINT IT 💘🦄', 'Three of the seven aid workers killed in Israeli strike in Gaza were British, charity World Central Kitchen confirmshttps://bbc.in/3vxW0jd', 'Travis Kelce Shares What He’s Learned From Taylor Swift About Music: ‘It’s Very Eye-Opening’', 'MGK Shares the Lengthy Process of Getting a Blackout Tattoo', 'Thousands brave rain for White House Easter egg roll', 'Spotify Plans More Price Increases in 2024: Report', 'Casey Wasserman on Music, Sports & the ‘False Theory’ of Stars Who Can Do Both', \"i'm so not ready for miss you oh my god. it's about him reflecting on the people he liked before in the past which only made him realize that he missed the way these past crushes treated him than the ex he was currently dating at the time?!?!?\", 'Nosiviwe Mapisa-Nqakula: South Africa parliament speaker resigns over corruption probe', 'These Are the Sports Anthems of the Future', 'The first trailer for ‘Joker 2’ starring Joaquin Phoenix and Lady Gaga will be released on April 9th.', 'Pharrell Faces Neptunes Dispute, Lucian Grainge Blasts Diddy Claims & More Top Music Law News', '‘Joker: Folie à Deux’ starring Joaquin Phoenix & Lady Gaga is rated R for:\\r\\n\\r\\n• some strong violence\\r\\n• language throughout\\r\\n• some sexuality\\r\\n• brief full nudity', 'Rabbit emerges from the ocean. I have now seen everything I need to see in life.', 'Boof+Barbz= PERFECTION 💪🏽', 'The Red Clay Strays Set European Concert Dates', '#CTESPN had it first 📈🎬Most trusted source in all of sports', 'Travis Kelce Says So Far This Year He’s the ‘Happiest I’ve Ever Been’', '\"If civilization doesn\\'t grow, nothing else matters.\"', 'Drew Goddard is set to write & direct a new ‘MATRIX’ movie.', 'AHHHHH BOURGEOUSIESES IS AFFLUENZA PT2 CONFIRMED', 'Frank Ocean’s ‘Lost’ Hits 1 Billion Spotify Streams', 'The Unlikely Rise of Nebulossa: From Running a Beauty Clinic to Representing Spain at Eurovision', '“Harleys In Hawaii”, de Katy Perry, ultrapassou a marca de 500 MILHÕES de streams no Spotify. 🌺', 'From Queen to Lil Jon, How Sports Anthems Are Born', '& now a special announcement from this week’s guest on @hotones, @shakira. 🔥', 'Obsessed with this photo series called \"From Window\" by Masahisa Fukase. He took photos of his wife from their apartment window almost everyday as she left 🥹', 'Nicole Richie & Joel Madden’s Kids Are Their Parents’ Lookalikes at Red Carpet Debut', 'Keityn, Feid & More Honored at 2024 ASCAP Latin Music Awards: Complete Winners List', \"Father of crash victims tells funeral his world is 'now so empty'\", \".@Tyllaaaaaaa's ‘Water’ Surges to No. 1 on Hot R&B Songs Chart\", 'vocals !!!!!! #GagCityDC', 'German trial witness says he saw Madeleine McCann suspect in rape videos', 'Taylor Swift Is Getting Her Own SiriusXM Radio Channel: Here’s How to Tune In', 'Dozens dead in Istanbul nightclub fire', '.@KenBurns Talks Beyoncé’s ‘Cowboy Carter,’ Compares New Album to Beatles’ ‘White Album’: ‘She’s Got Guts!’', 'Ppl spending their hard earned money baby. You betta f$&!ng believe it!!!!!! 🙏🏽🫶🏽🫵', 'Travis Kelce Opens Up About 2024 Kelce Jam Music Festival, His ‘Last Hoo-rah’ Post-Super Bowl', 'Ukraine war: Deepest Ukraine drone attack into Russian territory injures 12', 'Hot 100 First-Timers: Tito Double P & Joel De La P Arrive With Peso Pluma Collab ‘La People II’', '‘ALIEN’ will re-release in theaters on April 26', 'Taylor Swift and SZA were among the record-setters at the 2024 #iHeartAwards.', '“Harleys In Hawaii” by Katy Perry has reached 500 MILLION streams on Spotify.\\r\\n\\r\\nIt’s her 15th song to achieve this.', '.@chelseacutler Opens Up About Her ‘Yellowstone’ Themed Album ‘Stellaria,’ Mental Health & More', 'remembering that after friday we won’t have new music for about a year', \"NEW: #Bitcoin ETFs saw a record volume of $111 BILLION in March.\\r\\n\\r\\nThat's TRIPLE the inflows from February  🤯\", 'Eminem Pranks Fans With April Fools’ Day Album Announcement', 'Meet the Major League Executives Bringing Music to Sports', '.@fireboydml has major plans for 2024 👀 He teases his next album, going on tour & diving into acting with #BillboardNews.\\r\\n\\r\\nWatch his full interview: http://blbrd.cm/5vh5zha', 'We have an incredible team of engineers building the App that will change.... Everything.', '.@patrickmayberry Takes ‘Lead’ on Christian Airplay Chart for First Time: ‘I Hope the Message Keeps Going’', 'full nudityyy and it better be from ga', '.@ericchurch on New Whiskey JYPSI Release, Upcoming Nashville Residency: ‘It Was Important to Us That We Could Be Creative’', 'Venice Launches New ‘Career Assistant’ Tool for Artists', 'this was sooo…', 'The 10-member space station crew worked on cargo, spacesuits, and human research on Tuesday as weekend crew departure preps continue.', \"The Polaris Dawn Dragon is headed to vacuum chamber testing! SpaceX teams celebrate Dragon's departure with @rookisaacman, @KiddPoteet, @Gillis_SarahE, and @annawmenon ahead of launching to orbit this summer\", 'The Cast Of Real Housewives of Potomac are in gag city tonight!#RHOP#GagCityDC', 'Kristen Wiig’s Old ‘SNL’ Dressing Room Gets Completely Taken Over in New Promo', 'Soca Superstar @Kestheband Breaks Down Five Favorite Tracks From First Album in 10 Years: ‘It’s Time to Position Ourselves in a Global Way’', 'Bassirou Diomaye Faye: Senegal election offers hope to frustrated young Africans', 'There was plenty of drama when Ziggy and Mackenzie Sol entered a sing-off on #AmericanIdol.', 'Louis Conter: Last survivor of attack on Pearl Harbor ship dies aged 102', 'Lizard Eliminated After ‘Sink or Swim’ Experience on ‘The Masked Singer’: ‘I’m Not Used to Losing’', 'At least 29 people now confirmed to have died in fire at Istanbul nightclub undergoing renovations', '20 Best Travel Deals to Help You Get Away on a Budget', 'QGTM!!!! History in the \\r\\nf$&@!ng making. Thank you a million times over. 🏆#GAGCITYDC shall go in the #GAGCITY HISTORY BOOKS.', 'Michelle Obama Praises Beyoncé’s ‘Cowboy Carter’ While Encouraging Fans to Register to Vote: ‘We All Have Power’', 'K-pop star Karina and actor Lee Jae-wook split shortly after going public', 'Act Fast! The iPad Pro, iPad Air & iPad Mini Are On Sale at Amazon — Save Up to $100 Off', 'I love this & other Katy Perry accounts. But I need to make this clear: There was no press event-was a private preview for some industry people, and I wasn’t there. All VERY positive reactions to batch of songs they heard. Album not 100 percent finished but Katy is coming soon!!', 'Ye has been sued by another former Donda Academy staffer, alleging a sexually abusive environment. #BillboardNews', 'BREAKING: The #Bills are trading WR Stefon Diggs to the #Texans, per @AdamSchefter.', 'Adele Reschedules 2024 ‘Weekends’ Las Vegas Residency Shows Postponed By Illness', 'just a few sec of this scene added in the teaser trailer could make me faint', 'Crawler-transporter 2 update as we prepare for future @NASAArtemis missions! ⤵️', \"James Kirby: Cousins pay tribute to 'selfless hero'\", 'Magic Johnson Posts Heartfelt Celebration of ‘Living Icon’ Beyoncé’s ‘Cowboy Carter’', 'Jon Batiste Hopes His Work on Beyoncé’s ‘Cowboy Carter’ Helps ‘Dismantle the Genre Machine’', 'The First Amendment.\\r\\n\\r\\nCongress shall make no law respecting an establishment of religion, or prohibiting the free exercise thereof; or abridging the freedom of speech, or of the press; or the right of the people peaceably to assemble, and to petition the Government for a redress…', 'Bless ft @youngthug #WvW \\r\\n\\r\\nPRE-SAVE 🔗 http://lilwayne.lnk.to/WvW', 'where it all began ⭐️', 'First poster for ‘Joker 2’ starring Joaquin Phoenix and Lady Gaga.', 'Billie Piper Says Classmate Amy Winehouse Was Bullied in School', 'Slipknot, Avenged Sevenfold, Disturbed to Headline 2024 Rocklahoma Festival', 'Cash Cobain Speaks Out on NYC Concert Canceled for ‘Reasons Out of My Control’', 'Karol G in Latin America: All the Guests on her Mañana Será Bonito Tour', 'Bizarrap & Natanael Cano Drop Explosive, Two-Song Collaboration ‘BZRP Music Session #59’: Stream It Here', 'Shakira has surpasses Billie Eilish to become the #21 (+1) artist with the most monthly listeners on Spotify and #8 female artist. 🌎', \"Two investors plead guilty in insider trading scheme linked to the Trump Media deal that brought the former president's social media business public\", 'Strongest earthquake in 25 years rocks Taiwan with tsunami warnings issued for nearby countries', 'Craig Gillespie is in talks to direct ‘SUPERGIRL’.\\r\\n\\r\\nHe has previously directed ‘Cruella’ and ‘I, Tonya’\\r\\n\\r\\n(Source: Deadline)', 'Do not trust men who are easily afraid.\\r\\n\\r\\nLoyalty requires bravery.\\r\\n\\r\\nAnyone who’s easily scared will easily turn.\\r\\n\\r\\nWithout balls - your sentiment as a man means absolutely zero.\\r\\n\\r\\nAs soon as a weak man has to suffer for the person they are “loyal” to, loyalty disappears.', 'KAI Media, Company Behind K-Pop Label hello82, Raises More Funding For Expansion', 'Finland shooting: Several injured in Vantaa school shooting - police', \"Ken Griffin says U.S. is being 'irresponsible' with national debt, and politicians are spending 'at the expense of future generations,’ per FORTUNE.\", \"JUST IN:  🇨🇳🇹🇼 - 30 Chinese warplanes and 9 navy vessels have positioned around Taiwan according to Taiwan's defense ministry. 🤔\", 'Donald trump getting booed in MI today brings joy to my heart.', 'Fed Chairman Powell finally told the truth. Last week he finally admitted inflation is winning. The Fed can no longer promise I flation at 2% or that inflation is “transitory.”  Again he finally stopped lying.  Congratulations.\\r\\n\\r\\nThe problem is most people have no idea what the…', 'JUST IN: Hedge fund billionaire Steve Cohen told CNBC he owns a “very little” amount of #Bitcoin 👀', 'fellas is it antisеmitic to think that aid workers shouldn’t be airstriked ?', 'Current Joker: Folie à Deux box office predictions. \\r\\n\\r\\nWith a predicted worldwide box office of just under $800m, the film would currently be the 3rd highest grossing R-rated movie of all time behind Oppenheimer and the original Joker.', 'There is no future without kids', \"There have been a few recent articles in the press about @Disney 'winning' its proxy contest with Nelson Peltz based on early election returns that have been leaked to the media.  We don't have an investment in Disney, but I thought it useful to point out the inappropriateness of…\", \"Aileen Cannon should have been removed from the case a long time ago with her bullshit rulings blatantly causing delays that favor defendant trump.\\r\\n\\r\\nIt's a fucking joke.\", \"In the movie 'The matrix' Neo's passport has an expiration date set to 9/11/2001\", '.@katyperry\\'s \"Harleys In Hawaii\" has now surpassed 500 million streams on Spotify.', 'X Premium costs just 23 cents a day, when bought annually via web. 🇺🇸Subscribe to X Premium to support this platform.', 'Is there anything more overrated than a solar eclipse? 😂', \"Loral O'Hara, one of five @NASA_Astronauts currently on the station, is returning to Earth on April 6. She conducted one spacewalk and researched advanced space phenomena during her six-and-a-half month mission. More... https://go.nasa.gov/49oIpbz\", \"It's been 6 years since we became a public company. It’s pretty wild to think that by most metrics, Spotify is now 3x or more on where we were that day.  I am reminded of Bill Gates’ quote, “Most people overestimate what they can do in one year and underestimate what they can do…\", '2/ ... 1 of 8 bands in the 2200- to 7300-Å spectral region, then on to a photomultipler tube. By study of these emission intensity data, information on surface texture & composition of planets could be obtained, along w  information...', 'Joker 2 poster has been seen 14 million times in just 10 HOURS on one Twitter account, comparing it to other major releases first poster posts, these numbers are INCREDIBLE.', '🚨 🚨 🚨 🚨 🚨 🚨 🚨 🚨 🚨 🚨  370,000,000 #USDT (370,047,175 USD) transferred from Tether Treasury to #Bitfinexhttps://whale-alert.io/transaction/tron/7b0d296e296bc2d72a9b2727d8868e79edf24fe5d478aab71026dacdb1ecf3fb…', 'FTC responds to ESRB\\'s proposal for an AI-powered face-scanning \\'age estimation\\' system\\r\\n\\r\\n\"No\"', \"Why hasn't Judge Cannon ruled on the DoJ reconsideration motion to block the release of witness lists? I'm guessing she knows if she releases them, Smith will go to the 11th circuit. So she's sitting on it.\", 'This is evil', \"what's going on here\", 'Update on #SamplingMars: I recently collected my 24th sample from an area called \"Bunsen Peak\" (named for the @YellowstoneNPS landmark). The rock core is filled with silica and carbonate. http://go.nasa.gov/3vuGEMq', 'Knowledge is Power. #Bitcoin', 'truly mother’s daughter', 'Did you know that legacy media have notifications ON for 𝕏?', 'Hunter Schafer: Euphoria star says she no longer wants to play trans characters', 'Perfection.', 'wonder where she is now 😭', '#GagCityBaltimore', '\"Katy Perry esquecida\"\\r\\n\\r\\n.@katyperry\\'s \"Harleys In Hawaii\" has now surpassed 500 million streams on Spotify.\\r\\n\\r\\n.@katyperry\\'s \"Never Really Over\" is now certified Diamond in Brazil.\\r\\n\\r\\nGente? Que fracassada, 2 músicas solo do último álbum sendo diamante e +500M de streams do Spotify', 'Katy Perry x American Idol! 🤎✨', 'joker 2 trailer is really coming to break the internet. we’re talking hundreds of millions of views across all platforms. a global EVENT.', '#Shakira is set to appear on ‘Hot Ones’ tomorrow, April 4! ❤️\\u200d🔥', 'Started stan twitter, started the concept of \"eras\", started the whole \"mother and fanbase\" relationship like im so serious', \"LaVar Ball blames the NBA training staffs and Puma's 'raggedy' shoes for his sons' injuries \\r\\n\\r\\n“The reason they hurt is because they got away from me. And they start doing these rooty-toot workouts. Because if you keep running them hills, you're going to keep that power and that…\", 'Former Observer & HuffPost journalist claims Katy Perry’s career decline was planned by “some people,” similar to how Christina Aguilera’s career was sabotaged.\\r\\n\\r\\nThey then alleged writers “trashed” Katy to generate clicks, more money. Last year, former Pitchfork writers alleged…', 'lady gaga photographed by steven klein.', 'BREAKING:\\r\\n\\r\\nThe SEC requested public comment on major Ethereum Spot ETFs', '#BTC \\r\\n\\r\\nBitcoin is holding that Weekly Range Low (~65600) as support for now$BTC #Crypto #Bitcoin', 'What other payment options do you think should be added to the tip jar?', 'harry potter said WHAT?!? 😭', 'i’m glad gaga is keeping her OG voice nobody wants to hear that squeaky ass over-exaggerated voice', 'We’re 5 days away from the eclipse!!! Check out my eclipse guide (linked in bio) for some tips on how to see it. \\r\\n\\r\\nRemember- the difference between 99% & 100% is one that will literally change your life. \\r\\n\\r\\nThe eclipse I saw in 2017 ignited a passion to pursue astrophotography.', \"Fans from selected countries can now watch Shakira's videos on Spotify! \\r\\n\\r\\ngo and stream!\", 'Why are cities dominated by highways and cars?\\r\\n\\r\\nIt\\'s partly because of one of the most influential people you\\'ve never heard of: Norman Bel Geddes.\\r\\n\\r\\nIn 1939 he created \"Futurama\", a huge exhibition that tried to predict the future — and ended up changing the world...', 'BREAKING: Coinbase is working with Lightspark to integrate the #Bitcoin Lightning Network for all its customers ⚡️', 'From these 4 accounts alone, nearly 31 million views in 24 hours.', 'FINALLY RESTOCKED:\\r\\nLady Gaga - The Fame Monster picture disc.\\r\\nWill be included in our Friday drop as well!', 'BREAKING: The guy that rammed his car into the FBI Field Office in Atlanta the other day has social media accounts associated with Q Anon, anti-vaxx stuff, election denialism, Sidney Powell, and donald trump.\\r\\n\\r\\nSUPER SHOCKED\\r\\n\\r\\nSource: @MSNBC', \"Spotify | Top Songs (04/02) [Streams]\\r\\n\\r\\nHips Don't Lie — 1,138,286\\r\\nTQG — 1,038,174\\r\\nPuntería — 961,461\\r\\n(Entre Paréntesis) — 846,840\\r\\nCohete — 603,393\\r\\nBzrp Music Sessions, Vol. 53 — 570,837\\r\\nWhenever, Wherever — 479,768\\r\\nChantaje — 422,502\\r\\nLa Tortura — 408,059\\r\\nDia de Enero — 403,425\", \"What if I tell you that there's more adult content on Threadz & Instagram than on OnlyFans. 👀\", 'Keityn, Feid, Carlos Vives and Yng Lvcas Talk Major Wins at 2024 Latin ASCAP Awards', 'Anya Taylor-Joy confirms she secretly got married to Malcolm McRae in 2022', 'Tonight’s tank top says ‘w⭐️men’ at #GUTSWorldTourBoston!', '𝕏 = Up🟢Facebook = Down 🔴Instagram = Down 🔴WhatsApp = Down 🔴', 'we all remember where we were', 'JUST IN: 🇺🇸 BlackRock and Fidelity now own a combined 399,741 #BTC worth $26.2 billion for their spot #Bitcoin ETFs.', '🇺🇸 | Shakira is the female artist with the MOST songs currently on the US iTunes Top 100 Latin Songs, totaling 8 songs.', \"#Shakira's amazing 12th studio album 'Las Mujeres Ya No Lloran' scores the 3rd Highest New Entry on the United World Album chart, landing at #6! 💪🥉🔝🆕💥6⃣🌎📈👑❤️\\u200d🔥'Las Mujeres Ya No Lloran' featuring #CardiB, #RauwAlejandro, #ManuelTurizo, #GrupoFrontera, #Ozuna, #KarolG &…\", 'NEWS: Tesla overtook Mercedes as the second-largest seller of imported vehicles in Korea last month.\\r\\n\\r\\nIt marked the first time for Tesla to beat Mercedes-Benz in Korea in terms of sales.', 'The Ultimate Guide to Festivals Celebrating Latin Music in 2024', 'LADY GAGA IS A FUCKING MOVIE STAR', 'Te haré salir volando como un cohete! 🚀💥 I’ll make you fly like a rocket! #LMYNL → http://lnkfi.re/LMYNL', 'You’re invited! See you in Rogueport on May 23 in #PaperMarioTheThousandYearDoor, coming to #NintendoSwitch!', 'Alien mothers']\n"
     ]
    },
    {
     "data": {
      "text/plain": [
       "839"
      ]
     },
     "execution_count": 466,
     "metadata": {},
     "output_type": "execute_result"
    }
   ],
   "source": [
    "df_eng_loaded = pd.read_csv('data/labeled_texts_eng.csv')\n",
    "\n",
    "df_labels = df_eng_loaded['label']\n",
    "df_texts = df_eng_loaded['Content']\n",
    "\n",
    "texts = [text for text in df_texts]\n",
    "print(texts)\n",
    "len(texts)"
   ]
  },
  {
   "cell_type": "markdown",
   "metadata": {},
   "source": [
    "The saved English tweet data was loaded, and for future use, the labels were stored separately in a dataframe. Subsequently, each tweet was retrieved and stored in a list, with the resulting list consisting of strings as its elements."
   ]
  },
  {
   "cell_type": "markdown",
   "metadata": {},
   "source": [
    "### Text Preprocessing"
   ]
  },
  {
   "cell_type": "markdown",
   "metadata": {},
   "source": [
    "#### Emoticon to Text Conversion Function"
   ]
  },
  {
   "cell_type": "code",
   "execution_count": 2,
   "metadata": {},
   "outputs": [],
   "source": [
    "def convert_emoticons(text):\n",
    "    # Set up a dictionary of emoticons\n",
    "    all_emoji_emoticons = {**EMOTICONS_EMO}\n",
    "    \n",
    "    # Replace colons and underscores in keys with spaces, and trim spaces\n",
    "    all_emoji_emoticons = {k:v.replace(\":\",\"\").replace(\"_\",\" \").strip() for k,v in all_emoji_emoticons.items()}\n",
    "    \n",
    "    # Initialize a KeywordProcessor for replacing keywords\n",
    "    kp_all_emoji_emoticons = KeywordProcessor()\n",
    "    \n",
    "    # Add each emoticon and its corresponding word to the KeywordProcessor\n",
    "    for k, v in all_emoji_emoticons.items():\n",
    "        kp_all_emoji_emoticons.add_keyword(k, v)\n",
    "    \n",
    "    # Replace all emoticons in the text with corresponding words\n",
    "    return kp_all_emoji_emoticons.replace_keywords(text)"
   ]
  },
  {
   "cell_type": "markdown",
   "metadata": {},
   "source": [
    "This function is designed to convert emoticons in text to their corresponding words. It initializes by merging dictionaries of emoticons and emojis into a comprehensive dictionary. After formatting the keys by replacing colons and underscores with spaces, it sets up a KeywordProcessor for efficient keyword replacement. Each emoticon and its corresponding word are then added to the processor, which substitutes emoticons in the text with words. "
   ]
  },
  {
   "cell_type": "markdown",
   "metadata": {},
   "source": [
    "#### Text Normalization Function"
   ]
  },
  {
   "cell_type": "code",
   "execution_count": 3,
   "metadata": {},
   "outputs": [],
   "source": [
    "def normalize_text(text):\n",
    "    # Replace 'fav' with 'favorite'\n",
    "    text = re.sub(r'\\bfav\\b', \"favorite\", text)\n",
    "    \n",
    "    # Replace 'tkt' with 'ticket'\n",
    "    text = re.sub(r'\\btkt\\b', \"ticket\", text)\n",
    "    \n",
    "    # Replace '(gm)' with 'good morning'\n",
    "    text = re.sub(r'\\(gm\\)', 'good morning', text)\n",
    "    \n",
    "    # Replace '(r.i.p)' with 'rest in peace'\n",
    "    text = re.sub(r'\\(r.i.p\\)', 'rest in peace', text)\n",
    "    \n",
    "    # Remove parenthetical references (typically credits like via or hat tips)\n",
    "    text = re.sub(r'\\([^)]*(via|h/t)[^)]*\\)', '', text)\n",
    "    \n",
    "    # Reduce excess letter repetitions (more than two) to two\n",
    "    text = re.sub(r'([a-zA-Z])\\1{2,}', r'\\1\\1', text)\n",
    "    \n",
    "    return text"
   ]
  },
  {
   "cell_type": "markdown",
   "metadata": {},
   "source": [
    "This function normalizes text by replacing abbreviations with their full forms, converting expressions within parentheses, and removing any parenthetical references. It also limits excessive letter repetitions to two characters, streamlining the text for clarity and consistency."
   ]
  },
  {
   "cell_type": "markdown",
   "metadata": {},
   "source": [
    "#### Text Cleaning Function"
   ]
  },
  {
   "cell_type": "code",
   "execution_count": 4,
   "metadata": {},
   "outputs": [],
   "source": [
    "def clean_characters(text):\n",
    "    # Replacing special characters with space\n",
    "    cleaned_text = re.sub(r'[-_:]', ' ', text)\n",
    "\n",
    "    # Normalize line endings, replacing carriage return and newline with just newline\n",
    "    cleaned_text = re.sub(r'\\r\\n', '\\n', cleaned_text)\n",
    "\n",
    "    # Replace multiple consecutive newlines with a space\n",
    "    cleaned_text = re.sub(r'(\\n)+', lambda m: ' ', cleaned_text)\n",
    "\n",
    "    # Reduce multiple consecutive dots to a single dot\n",
    "    cleaned_text = re.sub(r'\\.{2,}', '.', cleaned_text)\n",
    "    \n",
    "    # Reduce multiple consecutive question marks to a single one\n",
    "    cleaned_text = re.sub(r'\\?{2,}', '?', cleaned_text)\n",
    "\n",
    "    # Remove characters that are not letters, numbers, basic punctuation, or newline\n",
    "    cleaned_text = re.sub(r\"[^a-zA-Z0-9 '.\\n]\", '', cleaned_text)\n",
    "\n",
    "    # Remove periods at the end of each line or end of the text\n",
    "    cleaned_text = re.sub(r'\\.(?=\\s|$)', '', cleaned_text)\n",
    "\n",
    "    # Reduce multiple spaces to a single space\n",
    "    cleaned_text = re.sub(r' {2,}', ' ', cleaned_text)\n",
    "    \n",
    "    return cleaned_text.strip()"
   ]
  },
  {
   "cell_type": "markdown",
   "metadata": {},
   "source": [
    "This function sanitizes text by replacing specific special characters with spaces and normalizing line endings. It also reduces repetitive punctuation and spaces, and removes non-essential characters to ensure clean and uniform text formatting. "
   ]
  },
  {
   "cell_type": "markdown",
   "metadata": {},
   "source": [
    "#### Tweet Cleaning Function"
   ]
  },
  {
   "cell_type": "code",
   "execution_count": 5,
   "metadata": {},
   "outputs": [],
   "source": [
    "def get_wordnet_tag(tag):\n",
    "    # Convert the NLTK POS tag to a WordNet POS tag\n",
    "    if tag.startswith('J'):\n",
    "        return 'a'\n",
    "    elif tag.startswith('N'):\n",
    "        return 'n'\n",
    "    elif tag.startswith('R'):\n",
    "        return 'r'\n",
    "    elif tag.startswith('V'):\n",
    "        return 'v'\n",
    "    else:\n",
    "        return None\n",
    "\n",
    "def clean_tweet(tweet, mode='default'):\n",
    "    # Remove URLs, mentions, reserved words (RT, FAV)\n",
    "    p.set_options(p.OPT.URL, p.OPT.MENTION, p.OPT.RESERVED)\n",
    "    cleaned_tweet = p.clean(tweet)\n",
    "\n",
    "    # Convert all emojis in the tweet to text\n",
    "    cleaned_tweet = emoji.demojize(cleaned_tweet)\n",
    "    \n",
    "    # Convert emoticons within the tweet to words\n",
    "    cleaned_tweet = convert_emoticons(cleaned_tweet)\n",
    "    \n",
    "    # Normalize text to handle abbreviations and remove unnecessary parts\n",
    "    normalized_text = normalize_text(cleaned_tweet.lower())\n",
    "\n",
    "    # BERT Tokenizer\n",
    "    if mode == 'bert':\n",
    "        tokenizer = BertTokenizer.from_pretrained('bert-base-uncased')\n",
    "        encoded_input = tokenizer.encode(normalized_text, add_special_tokens=True)\n",
    "        tokens = tokenizer.convert_ids_to_tokens(encoded_input)\n",
    "        return tokens\n",
    "\n",
    "    # Clean characters and correct formatting issues\n",
    "    sentence_cleaned = clean_characters(normalized_text)\n",
    "\n",
    "    # Tokenize the tweet\n",
    "    tokens = word_tokenize(sentence_cleaned)\n",
    "    \n",
    "    # POS tagging\n",
    "    pos_tagged = pos_tag(tokens)\n",
    "\n",
    "    # Remove Stopwords\n",
    "    stop_words_removed = [word for word in pos_tagged if word[0] not in stopwords.words('english')]\n",
    "\n",
    "    # Lemmatization\n",
    "    lemmatizer = WordNetLemmatizer()\n",
    "    lemmatized_sentence = [word if get_wordnet_tag(tag) is None else lemmatizer.lemmatize(word, get_wordnet_tag(tag)) for word, tag in stop_words_removed]\n",
    "    \n",
    "    return lemmatized_sentence"
   ]
  },
  {
   "cell_type": "markdown",
   "metadata": {},
   "source": [
    " This function first stripping away URLs, mentions, and reserved words. It then standardizes emojis and emoticons to text, and normalizes abbreviations and other text irregularities. It can optionally use the BERT tokenizer and then return for embedding with BERT, or proceed to clean the text, tokenize, remove stopwords, and apply lemmatization."
   ]
  },
  {
   "cell_type": "markdown",
   "metadata": {},
   "source": [
    "#### Multiple Tweet Cleaning Function"
   ]
  },
  {
   "cell_type": "code",
   "execution_count": 6,
   "metadata": {},
   "outputs": [],
   "source": [
    "def get_cleaned_tweets(tweets, mode='default'):\n",
    "    if mode == 'bert':\n",
    "        result = []\n",
    "        for tweet in tweets:\n",
    "            tokens = clean_tweet(tweet, mode)\n",
    "            if len(tokens) <= 512:\n",
    "                result.append(tokens)\n",
    "\n",
    "        return result\n",
    "\n",
    "    return [clean_tweet(tweet, mode) for tweet in tweets]"
   ]
  },
  {
   "cell_type": "markdown",
   "metadata": {},
   "source": [
    "This function iterates through all tweets, calling the previously defined `clean_tweet` function for each one. If the mode is set to 'bert', it only saves tweets with token lengths of 512 or less to ensure compatibility with BERT models."
   ]
  },
  {
   "cell_type": "markdown",
   "metadata": {},
   "source": [
    "#### Clean All Tweets and Get Results"
   ]
  },
  {
   "cell_type": "code",
   "execution_count": 478,
   "metadata": {},
   "outputs": [],
   "source": [
    "cleaned_tweets = get_cleaned_tweets(texts)\n",
    "cleaned_tweets[:3]"
   ]
  },
  {
   "cell_type": "code",
   "execution_count": 479,
   "metadata": {},
   "outputs": [],
   "source": [
    "cleaned_tweets_bert = get_cleaned_tweets(texts, mode='bert')\n",
    "cleaned_tweets_bert[:3]"
   ]
  },
  {
   "cell_type": "markdown",
   "metadata": {},
   "source": [
    "Call cleaning functions on all datasets, ensuring that each dataset undergoes the necessary preprocessing steps. Additionally, it performs cleaning tasks tailored for BERT processing on all datasets, preparing them for compatibility with BERT models."
   ]
  },
  {
   "cell_type": "markdown",
   "metadata": {},
   "source": [
    "### Save Preprocessing Output"
   ]
  },
  {
   "cell_type": "code",
   "execution_count": 34,
   "metadata": {},
   "outputs": [],
   "source": [
    "# save dataframe as a CSV file\n",
    "preprocessed_data = [' '.join(document) for document in cleaned_tweets]\n",
    "df_preprocessed = pd.DataFrame(preprocessed_data, columns=['Content'])\n",
    "df_preprocessed['Label'] = df_labels\n",
    "df_preprocessed.to_csv('data/preprocessed_data.csv', index=False, encoding='utf-8-sig')"
   ]
  },
  {
   "cell_type": "code",
   "execution_count": 35,
   "metadata": {},
   "outputs": [],
   "source": [
    "# save dataframe as a CSV file for BERT\n",
    "preprocessed_data_bert = [' '.join(document) for document in cleaned_tweets_bert]\n",
    "df_preprocessed_bert = pd.DataFrame(preprocessed_data_bert, columns=['Content'])\n",
    "df_preprocessed_bert['Label'] = df_labels\n",
    "df_preprocessed_bert.to_csv('data/preprocessed_data_bert.csv', index=False, encoding='utf-8-sig')"
   ]
  },
  {
   "cell_type": "markdown",
   "metadata": {},
   "source": [
    "To facilitate further processing, each preprocessed tweet's tokens are concatenated into a string and stored in a dataframe along with the corresponding label for each dataset. These dataframes are then saved as CSV files locally. Since the BERT-specific data requires separate handling, it is saved in a distinct file."
   ]
  },
  {
   "cell_type": "markdown",
   "metadata": {},
   "source": [
    "### Load Preprocessing Outputs"
   ]
  },
  {
   "cell_type": "code",
   "execution_count": 119,
   "metadata": {},
   "outputs": [
    {
     "name": "stdout",
     "output_type": "stream",
     "text": [
      "                                             Content  Label\n",
      "0  binance towel come everywhere include breakfas...      1\n",
      "1  drop sol address make sure follow dont ask bac...      1\n",
      "2         take one good altcoin change world sparkle      2\n",
      "3                   disrespectful one top 3 favorite      2\n",
      "4  congressional republican call affordable conne...      1\n",
      "                                             Content  Label\n",
      "0  [CLS] the # bin ##ance towel comes everywhere ...      1\n",
      "1  [CLS] drop your $ sol address below and make s...      1\n",
      "2  [CLS] it only takes one good alt ##co ##in to ...      2\n",
      "3  [CLS] di ##sr ##es ##pe ##ct ##ful is one of m...      2\n",
      "4  [CLS] some congressional republicans call the ...      1\n"
     ]
    }
   ],
   "source": [
    "# read the CSV file\n",
    "df_preprocessed_loaded = pd.read_csv('data/preprocessed_data.csv', encoding='utf-8-sig')\n",
    "print(df_preprocessed_loaded.head())\n",
    "\n",
    "# read the CSV file\n",
    "df_preprocssed_bert_loaded = pd.read_csv('data/preprocessed_data_bert.csv', encoding='utf-8-sig')\n",
    "print(df_preprocssed_bert_loaded.head())"
   ]
  },
  {
   "cell_type": "markdown",
   "metadata": {},
   "source": [
    "Verify that the preprocessed data saved as CSV files can be loaded back correctly by loading the CSV files."
   ]
  },
  {
   "cell_type": "markdown",
   "metadata": {},
   "source": [
    "# 3. Feature Extraction"
   ]
  },
  {
   "cell_type": "markdown",
   "metadata": {},
   "source": [
    "### Read preprocessed data"
   ]
  },
  {
   "cell_type": "code",
   "execution_count": 481,
   "metadata": {},
   "outputs": [
    {
     "data": {
      "text/html": [
       "<div>\n",
       "<style scoped>\n",
       "    .dataframe tbody tr th:only-of-type {\n",
       "        vertical-align: middle;\n",
       "    }\n",
       "\n",
       "    .dataframe tbody tr th {\n",
       "        vertical-align: top;\n",
       "    }\n",
       "\n",
       "    .dataframe thead th {\n",
       "        text-align: right;\n",
       "    }\n",
       "</style>\n",
       "<table border=\"1\" class=\"dataframe\">\n",
       "  <thead>\n",
       "    <tr style=\"text-align: right;\">\n",
       "      <th></th>\n",
       "      <th>Content</th>\n",
       "      <th>Label</th>\n",
       "    </tr>\n",
       "  </thead>\n",
       "  <tbody>\n",
       "    <tr>\n",
       "      <th>0</th>\n",
       "      <td>binance towel come everywhere include breakfas...</td>\n",
       "      <td>1</td>\n",
       "    </tr>\n",
       "    <tr>\n",
       "      <th>1</th>\n",
       "      <td>drop sol address make sure follow dont ask bac...</td>\n",
       "      <td>1</td>\n",
       "    </tr>\n",
       "    <tr>\n",
       "      <th>2</th>\n",
       "      <td>take one good altcoin change world sparkle</td>\n",
       "      <td>2</td>\n",
       "    </tr>\n",
       "    <tr>\n",
       "      <th>3</th>\n",
       "      <td>disrespectful one top 3 favorite</td>\n",
       "      <td>2</td>\n",
       "    </tr>\n",
       "    <tr>\n",
       "      <th>4</th>\n",
       "      <td>congressional republican call affordable conne...</td>\n",
       "      <td>1</td>\n",
       "    </tr>\n",
       "  </tbody>\n",
       "</table>\n",
       "</div>"
      ],
      "text/plain": [
       "                                             Content  Label\n",
       "0  binance towel come everywhere include breakfas...      1\n",
       "1  drop sol address make sure follow dont ask bac...      1\n",
       "2         take one good altcoin change world sparkle      2\n",
       "3                   disrespectful one top 3 favorite      2\n",
       "4  congressional republican call affordable conne...      1"
      ]
     },
     "execution_count": 481,
     "metadata": {},
     "output_type": "execute_result"
    }
   ],
   "source": [
    "# Read preprocessed data for BERT\n",
    "df_data = pd.read_csv('data/preprocessed_data.csv')\n",
    "\n",
    "# Extract content and labels into separate variables\n",
    "documents = df_data['Content']\n",
    "labels = df_data['Label']\n",
    "df_data.head()"
   ]
  },
  {
   "cell_type": "markdown",
   "metadata": {},
   "source": [
    "Load the saved preprocessed data, then divide it into tweet data and labels, and store them in variables."
   ]
  },
  {
   "cell_type": "markdown",
   "metadata": {},
   "source": [
    "### Split Dataset"
   ]
  },
  {
   "cell_type": "code",
   "execution_count": 482,
   "metadata": {},
   "outputs": [
    {
     "name": "stdout",
     "output_type": "stream",
     "text": [
      "train data length:  671\n",
      "test data length:  168\n",
      "train data label length:  671\n",
      "test data label length:  168\n"
     ]
    }
   ],
   "source": [
    "# Split the data into training and testing datasets\n",
    "X_train, X_test, y_train, y_test = train_test_split(documents, labels, test_size = 0.2, random_state = 42)\n",
    "\n",
    "# print the length of the training and testing datasets\n",
    "print(\"train data length: \", len(X_train))\n",
    "print(\"test data length: \", len(X_test))\n",
    "print(\"train data label length: \", len(y_train))\n",
    "print(\"test data label length: \", len(y_test))"
   ]
  },
  {
   "cell_type": "markdown",
   "metadata": {},
   "source": [
    "Split the dataset into training and testing sets for model traing."
   ]
  },
  {
   "cell_type": "markdown",
   "metadata": {},
   "source": [
    "### TF-IDF Vectorization"
   ]
  },
  {
   "cell_type": "code",
   "execution_count": 490,
   "metadata": {},
   "outputs": [
    {
     "name": "stdout",
     "output_type": "stream",
     "text": [
      "  (0, 287)\t0.37250219779291666\n",
      "  (0, 2003)\t0.3346270858732312\n",
      "  (0, 1261)\t0.23449073678596027\n",
      "  (0, 1186)\t0.21306868044902347\n",
      "  (0, 1851)\t0.2967519739535457\n",
      "  (0, 933)\t0.1944725173965879\n",
      "  (0, 2757)\t0.37250219779291666\n",
      "  (0, 791)\t0.37250219779291666\n",
      "  (0, 2488)\t0.3503466776092838\n",
      "  (0, 306)\t0.3503466776092838\n",
      "  (1, 2050)\t0.6017449021898648\n",
      "  (1, 731)\t0.5659545863075479\n",
      "  (1, 1829)\t0.3984962226458127\n",
      "  (1, 1395)\t0.3984962226458127\n",
      "  (2, 1695)\t0.427856938567264\n",
      "  (2, 1511)\t0.29354166402363363\n",
      "  (2, 2234)\t0.32684506390804846\n",
      "  (2, 1061)\t0.34923077040400946\n",
      "  (2, 1062)\t0.3103785037551525\n",
      "  (2, 1186)\t0.48946241853942346\n",
      "  (2, 1851)\t0.3408500455617201\n",
      "  (2, 933)\t0.2233716107496086\n",
      "  (3, 620)\t0.27548363383663\n",
      "  (3, 169)\t0.2156824053883861\n",
      "  (3, 1078)\t0.22118118289947156\n",
      "  :\t:\n",
      "  (668, 1706)\t0.336510799382073\n",
      "  (668, 2662)\t0.336510799382073\n",
      "  (668, 578)\t0.336510799382073\n",
      "  (668, 216)\t0.32141200519011487\n",
      "  (668, 2385)\t0.3001314500023342\n",
      "  (668, 1401)\t0.3001314500023342\n",
      "  (668, 2512)\t0.2920409584071295\n",
      "  (668, 2408)\t0.2788508948145536\n",
      "  (668, 1049)\t0.2683188324398709\n",
      "  (668, 283)\t0.3001314500023342\n",
      "  (668, 50)\t0.22737275124285666\n",
      "  (669, 195)\t0.3077128172471069\n",
      "  (669, 2033)\t0.3077128172471069\n",
      "  (669, 1673)\t0.3077128172471069\n",
      "  (669, 2248)\t0.3077128172471069\n",
      "  (669, 848)\t0.3077128172471069\n",
      "  (669, 2472)\t0.3077128172471069\n",
      "  (669, 549)\t0.2894108110477479\n",
      "  (669, 1034)\t0.5528506619898367\n",
      "  (669, 982)\t0.2060933298221358\n",
      "  (670, 441)\t0.5823297225335508\n",
      "  (670, 362)\t0.43368165713891044\n",
      "  (670, 1435)\t0.2507525493816699\n",
      "  (670, 1663)\t0.5966478816055192\n",
      "  (670, 988)\t0.23226445890296266\n"
     ]
    }
   ],
   "source": [
    "vectorizer = TfidfVectorizer()\n",
    "tfidf_matrix_train = vectorizer.fit_transform(X_train)\n",
    "tfidf_matrix_test = vectorizer.transform(X_test)\n",
    "print(tfidf_matrix_train)"
   ]
  },
  {
   "cell_type": "markdown",
   "metadata": {},
   "source": [
    "Using the training dataset, create a TF-IDF matrix. Additionally, utilize the trained vectorizer to transform the test set into a TF-IDF matrix format."
   ]
  },
  {
   "cell_type": "markdown",
   "metadata": {},
   "source": [
    "### Word Embedding"
   ]
  },
  {
   "cell_type": "markdown",
   "metadata": {},
   "source": [
    "#### Split data into tokens"
   ]
  },
  {
   "cell_type": "code",
   "execution_count": 484,
   "metadata": {},
   "outputs": [
    {
     "data": {
      "text/plain": [
       "[['barbie',\n",
       "  'touch',\n",
       "  'downn',\n",
       "  'zany',\n",
       "  'face',\n",
       "  'pink',\n",
       "  'heart',\n",
       "  'im',\n",
       "  'ready',\n",
       "  'babes'],\n",
       " ['katy', 'perry', 'deserve', 'respect'],\n",
       " ['gagcitybaltimore',\n",
       "  'gagcity',\n",
       "  'smile',\n",
       "  'face',\n",
       "  'heart',\n",
       "  'pink',\n",
       "  'heart',\n",
       "  'love',\n",
       "  'nickiminaj']]"
      ]
     },
     "execution_count": 484,
     "metadata": {},
     "output_type": "execute_result"
    }
   ],
   "source": [
    "train_tokenized = [[word for word in sentence.split()] for sentence in X_train]\n",
    "test_tokenized = [[word for word in sentence.split()] for sentence in X_test]\n",
    "train_tokenized[:3]"
   ]
  },
  {
   "cell_type": "markdown",
   "metadata": {},
   "source": [
    "Tokenize the existing dataset to train a Word2Vec model and convert tokens into vector format."
   ]
  },
  {
   "cell_type": "markdown",
   "metadata": {},
   "source": [
    "#### Train Word2Vec model (skip-gram)"
   ]
  },
  {
   "cell_type": "code",
   "execution_count": 485,
   "metadata": {},
   "outputs": [],
   "source": [
    "model_skipGram = Word2Vec(sentences=train_tokenized, vector_size=100, window=5,  min_count=1, workers=4, sg=1)\n",
    "# save the trained Word2Vec model\n",
    "model_skipGram.save('model/modelSkipGram.bin')"
   ]
  },
  {
   "cell_type": "markdown",
   "metadata": {},
   "source": [
    "Utilize the Word2Vec model for word embedding. Set the vector size to 100, window size to 5, and use the skip-gram model. Additionally, for future usability, save the trained skip-gram model locally."
   ]
  },
  {
   "cell_type": "code",
   "execution_count": 486,
   "metadata": {},
   "outputs": [
    {
     "name": "stdout",
     "output_type": "stream",
     "text": [
      "<class 'numpy.ndarray'>\n"
     ]
    },
    {
     "data": {
      "text/plain": [
       "array([-0.00445902,  0.01634065, -0.00694207, -0.00438483,  0.00841007,\n",
       "       -0.0122282 ,  0.01560146,  0.02137432,  0.00281858, -0.01503637,\n",
       "       -0.00110781, -0.01888506,  0.00046454, -0.00904677, -0.00177177,\n",
       "       -0.00321957, -0.00127397, -0.00705675, -0.00690071, -0.00512672,\n",
       "        0.00035832,  0.00559705,  0.01083606, -0.00673679,  0.00461121,\n",
       "        0.00367394, -0.01101265, -0.01190888, -0.01766353, -0.00350581,\n",
       "        0.00612117,  0.01447187, -0.01335434, -0.00912677,  0.00399898,\n",
       "        0.01932062, -0.01316629, -0.00678729, -0.01554591, -0.01363334,\n",
       "        0.01360925, -0.00446401, -0.01233801, -0.00099011,  0.00692743,\n",
       "       -0.00152671, -0.0014241 ,  0.00385705, -0.00923963,  0.01355584,\n",
       "        0.00750908, -0.00633434, -0.00908377, -0.00489546, -0.01763797,\n",
       "        0.01174945, -0.00062873,  0.0018901 , -0.00615397,  0.00089383,\n",
       "        0.01231476, -0.00051145,  0.00167257,  0.0108922 , -0.0204607 ,\n",
       "        0.00915872,  0.01578411,  0.00890062, -0.01402486,  0.01197256,\n",
       "       -0.00557585,  0.01212987,  0.00615577, -0.01417369,  0.00835999,\n",
       "        0.00512542, -0.00779449,  0.00015109, -0.02150529,  0.01517376,\n",
       "       -0.00537614,  0.00106884, -0.00234453,  0.00484977,  0.00594922,\n",
       "        0.01486705,  0.00880414,  0.01428989,  0.00746782, -0.00883138,\n",
       "        0.01734133,  0.0048317 ,  0.01022022,  0.01073653,  0.00864605,\n",
       "        0.00588199,  0.01468926, -0.0081348 , -0.00084842, -0.0054339 ],\n",
       "      dtype=float32)"
      ]
     },
     "execution_count": 486,
     "metadata": {},
     "output_type": "execute_result"
    }
   ],
   "source": [
    "# load the trained model\n",
    "model_sg = Word2Vec.load('model/modelSkipGram.bin')\n",
    "print(type(model_sg.wv['binance']))\n",
    "model_sg.wv['binance']"
   ]
  },
  {
   "cell_type": "markdown",
   "metadata": {},
   "source": [
    "Load the trained Word2Vec model from local storage and verify its functionality. You can confirm that each word is transformed into a 100-dimensional vector."
   ]
  },
  {
   "cell_type": "markdown",
   "metadata": {},
   "source": [
    "#### Convert all words to vectors"
   ]
  },
  {
   "cell_type": "code",
   "execution_count": 487,
   "metadata": {},
   "outputs": [
    {
     "data": {
      "text/plain": [
       "(671, 100)"
      ]
     },
     "execution_count": 487,
     "metadata": {},
     "output_type": "execute_result"
    }
   ],
   "source": [
    "def convert_to_vector(model, tokenized_sentence):\n",
    "    vector = []\n",
    "    for word in tokenized_sentence:\n",
    "        if word in model.wv:\n",
    "            vector.append(model.wv[word])\n",
    "    \n",
    "    # return the average of the vectors\n",
    "    output = np.mean(vector, axis=0) if vector else np.zeros(model.vector_size)\n",
    "    \n",
    "    return output\n",
    "\n",
    "train_word_vectors = np.array([convert_to_vector(model_sg, sentence) for sentence in train_tokenized])\n",
    "test_word_vectors = np.array([convert_to_vector(model_sg, sentence) for sentence in test_tokenized])\n",
    "train_word_vectors.shape"
   ]
  },
  {
   "cell_type": "markdown",
   "metadata": {},
   "source": [
    "Utilize the trained Word2Vec model to convert the tokenized tweet data into vectors. Perform this transformation for both the training and testing datasets, and store them in array format."
   ]
  },
  {
   "cell_type": "markdown",
   "metadata": {},
   "source": [
    "### Contextual Embeddings Using BERT"
   ]
  },
  {
   "cell_type": "markdown",
   "metadata": {},
   "source": [
    "This documentation provides a detailed guide to preprocessing text data and extracting contextual embeddings using the BERT model. This process enhances the representation of text for advanced NLP tasks"
   ]
  },
  {
   "cell_type": "markdown",
   "metadata": {},
   "source": [
    "#### Load preprocessed data for BERT"
   ]
  },
  {
   "cell_type": "code",
   "execution_count": 27,
   "metadata": {},
   "outputs": [],
   "source": [
    "# Read preprocessed data for BERT\n",
    "df_data_bert = pd.read_csv('data/preprocessed_data_bert.csv')"
   ]
  },
  {
   "cell_type": "code",
   "execution_count": 28,
   "metadata": {},
   "outputs": [
    {
     "data": {
      "text/plain": [
       "0    [CLS] the # bin ##ance towel comes everywhere ...\n",
       "1    [CLS] drop your $ sol address below and make s...\n",
       "2    [CLS] it only takes one good alt ##co ##in to ...\n",
       "3    [CLS] di ##sr ##es ##pe ##ct ##ful is one of m...\n",
       "4    [CLS] some congressional republicans call the ...\n",
       "Name: Content, dtype: object"
      ]
     },
     "execution_count": 28,
     "metadata": {},
     "output_type": "execute_result"
    }
   ],
   "source": [
    "# Extract content and labels into separate variables\n",
    "X_bert = df_data_bert['Content']\n",
    "y_bert = df_data_bert['Label']\n",
    "X_bert.head()"
   ]
  },
  {
   "cell_type": "markdown",
   "metadata": {},
   "source": [
    "Load the data saved for BERT embeddings from the preprocessing stage, then divide it into tweet data and labels to prepare for BERT embedding."
   ]
  },
  {
   "cell_type": "markdown",
   "metadata": {},
   "source": [
    "#### Tokenization and Input Formatting"
   ]
  },
  {
   "cell_type": "code",
   "execution_count": 12,
   "metadata": {},
   "outputs": [
    {
     "data": {
      "text/plain": [
       "['[CLS]',\n",
       " 'the',\n",
       " '#',\n",
       " 'bin',\n",
       " '##ance',\n",
       " 'towel',\n",
       " 'comes',\n",
       " 'everywhere',\n",
       " 'with',\n",
       " 'me',\n",
       " '.',\n",
       " '.',\n",
       " '.',\n",
       " 'including',\n",
       " 'breakfast',\n",
       " ':',\n",
       " 'cooking',\n",
       " ':',\n",
       " '[SEP]']"
      ]
     },
     "execution_count": 12,
     "metadata": {},
     "output_type": "execute_result"
    }
   ],
   "source": [
    "# Tokenize all the processed results\n",
    "tokenized_results = [[token for token in sentence.split()] for sentence in X_bert]\n",
    "tokenized_results[0]"
   ]
  },
  {
   "cell_type": "markdown",
   "metadata": {},
   "source": [
    "Tokenize the data that was saved as strings during preprocessing."
   ]
  },
  {
   "cell_type": "code",
   "execution_count": 13,
   "metadata": {},
   "outputs": [
    {
     "data": {
      "text/plain": [
       "[101,\n",
       " 1996,\n",
       " 1001,\n",
       " 8026,\n",
       " 6651,\n",
       " 10257,\n",
       " 3310,\n",
       " 7249,\n",
       " 2007,\n",
       " 2033,\n",
       " 1012,\n",
       " 1012,\n",
       " 1012,\n",
       " 2164,\n",
       " 6350,\n",
       " 1024,\n",
       " 8434,\n",
       " 1024,\n",
       " 102]"
      ]
     },
     "execution_count": 13,
     "metadata": {},
     "output_type": "execute_result"
    }
   ],
   "source": [
    "# Load pre-trained model tokenizer (vocabulary)\n",
    "tokenizer = BertTokenizer.from_pretrained('bert-base-uncased')\n",
    "\n",
    "# Convert tokens to their respective IDs in the BERT vocabulary\n",
    "indexed_tokens_list = [tokenizer.convert_tokens_to_ids(tokens) for tokens in tokenized_results]\n",
    "indexed_tokens_list[0]"
   ]
  },
  {
   "cell_type": "markdown",
   "metadata": {},
   "source": [
    "Utilize the pretrained BERT tokenizer to convert each token into its corresponding ID. Each word and tag will have its respective ID, and for BERT embedding, all tokens need to be converted into such numerical representations."
   ]
  },
  {
   "cell_type": "markdown",
   "metadata": {},
   "source": [
    "### Prepare Model Inputs"
   ]
  },
  {
   "cell_type": "markdown",
   "metadata": {},
   "source": [
    "#### Create Segment IDs and Attention Masks"
   ]
  },
  {
   "cell_type": "code",
   "execution_count": 14,
   "metadata": {},
   "outputs": [],
   "source": [
    "# Initialize lists for segment IDs and attention masks\n",
    "token_type_list = []\n",
    "attention_mask_list = []\n",
    "\n",
    "# Generate segment IDs and attention masks for each sentence\n",
    "for indexed_sentence in indexed_tokens_list:\n",
    "    # For each sentence, all tokens belong to the same segment, so use 0\n",
    "    segment_ids = [0] * len(indexed_sentence)\n",
    "    token_type_list.append(segment_ids)\n",
    "    \n",
    "    # If you're not padding, all tokens are real, so the attention mask is all 1s\n",
    "    attention_mask = [1] * len(indexed_sentence)\n",
    "    attention_mask_list.append(attention_mask)\n"
   ]
  },
  {
   "cell_type": "markdown",
   "metadata": {},
   "source": [
    "Segment IDs indicate to the model different segments of the input, while attention masks allow the model to ignore padding during processing."
   ]
  },
  {
   "cell_type": "markdown",
   "metadata": {},
   "source": [
    "#### Add Padding"
   ]
  },
  {
   "cell_type": "code",
   "execution_count": 15,
   "metadata": {},
   "outputs": [],
   "source": [
    "# Initialize padded lists\n",
    "padded_input_ids = []\n",
    "padded_attention_mask = []\n",
    "\n",
    "# Find the maximum sequence length in your batch\n",
    "max_length = max(len(tokens) for tokens in indexed_tokens_list)\n",
    "\n",
    "for tokens in indexed_tokens_list:\n",
    "    # Calculate the number of padding tokens needed\n",
    "    num_padding_tokens = max_length - len(tokens)\n",
    "    \n",
    "    # Pad the input IDs with zeros (assuming 0 is your padding token)\n",
    "    padded_tokens = tokens + [0] * num_padding_tokens\n",
    "    padded_input_ids.append(padded_tokens)\n",
    "    \n",
    "    # Pad the attention mask where actual tokens are marked with 1 and padding tokens with 0\n",
    "    padded_mask = [1] * len(tokens) + [0] * num_padding_tokens\n",
    "    padded_attention_mask.append(padded_mask)\n"
   ]
  },
  {
   "cell_type": "markdown",
   "metadata": {},
   "source": [
    "Uniform input length is crucial for batch processing in neural networks. This step pads shorter sequences with zeros."
   ]
  },
  {
   "cell_type": "markdown",
   "metadata": {},
   "source": [
    "#### Extract Contextual Embeddings"
   ]
  },
  {
   "cell_type": "markdown",
   "metadata": {},
   "source": [
    "This section describes loading the pre-trained BERT model, converting data into tensors, and running the model to extract contextual embeddings."
   ]
  },
  {
   "cell_type": "code",
   "execution_count": 16,
   "metadata": {},
   "outputs": [],
   "source": [
    "import torch\n",
    "\n",
    "# Load the BERT model\n",
    "model_bert = BertModel.from_pretrained('bert-base-uncased', output_hidden_states=True)\n",
    "model_bert.eval()  # Set the model to evaluation mode\n",
    "\n",
    "# Convert the lists of integers into tensors\n",
    "input_ids_tensor = torch.tensor(padded_input_ids)\n",
    "attention_mask_tensor = torch.tensor(padded_attention_mask)\n",
    "\n",
    "# Run the model and get the outputs\n",
    "with torch.no_grad():\n",
    "    outputs = model_bert(input_ids_tensor, attention_mask=attention_mask_tensor)\n",
    "    hidden_states = outputs[2]  # Hidden states from all BERT layers\n",
    "    word_embeddings = outputs.last_hidden_state  # The last layer's output"
   ]
  },
  {
   "cell_type": "code",
   "execution_count": 17,
   "metadata": {},
   "outputs": [],
   "source": [
    "# write the embeddings to a file\n",
    "np.save('data/word_embeddings.npy', word_embeddings)"
   ]
  },
  {
   "cell_type": "markdown",
   "metadata": {},
   "source": [
    "## 4. Model Selection"
   ]
  },
  {
   "cell_type": "markdown",
   "metadata": {},
   "source": [
    "### Classification Model for TF-IDF"
   ]
  },
  {
   "cell_type": "markdown",
   "metadata": {},
   "source": [
    "#### Cross-validation with various classifiers on training dataset"
   ]
  },
  {
   "cell_type": "code",
   "execution_count": 503,
   "metadata": {},
   "outputs": [
    {
     "name": "stdout",
     "output_type": "stream",
     "text": [
      "SVM: [0.71111111 0.70895522 0.67164179 0.67910448 0.64925373]\n",
      "NB: [0.68888889 0.64925373 0.62686567 0.64179104 0.60447761]\n",
      "RFC: [0.62962963 0.6641791  0.64925373 0.6641791  0.64925373]\n"
     ]
    }
   ],
   "source": [
    "# Support Vector Machine\n",
    "clf_tfidf_svc = SVC(kernel='linear', random_state=42)\n",
    "print(f\"SVM: {cross_val_score(clf_tfidf_svc, tfidf_matrix_train, y_train, cv=5)}\")\n",
    "\n",
    "# Naive Bayes\n",
    "clf_tfidf_nb = MultinomialNB()\n",
    "print(f\"NB: {cross_val_score(clf_tfidf_nb, tfidf_matrix_train, y_train, cv=5)}\")\n",
    "\n",
    "# Random Forest Classifier\n",
    "clf_tfidf_rfc = RandomForestClassifier(random_state=42)\n",
    "print(f\"RFC: {cross_val_score(clf_tfidf_rfc, tfidf_matrix_train, y_train, cv=5)}\")"
   ]
  },
  {
   "cell_type": "markdown",
   "metadata": {},
   "source": [
    "Cross-validation was performed on the training dataset using TF-IDF matrix-transformed data. Performance was measured for Support Vector Machine, Naive Bayes, and Random Forest Classifier algorithms. On average, Support Vector Machine exhibited superior performance. Therefore, subsequent evaluation was conducted using SVM.\n",
    "After performing 5-fold cross-validation on the training dataset with Support Vector Machine, it was observed that the accuracy scores for all folds ranged from approximately 0.65 to 0.71. This consistent performance indicates stable and satisfactory model performance."
   ]
  },
  {
   "cell_type": "markdown",
   "metadata": {},
   "source": [
    "#### Train the classifier and get the performance on test set"
   ]
  },
  {
   "cell_type": "code",
   "execution_count": 508,
   "metadata": {},
   "outputs": [
    {
     "data": {
      "text/plain": [
       "['model/svc_tfidf.joblib']"
      ]
     },
     "execution_count": 508,
     "metadata": {},
     "output_type": "execute_result"
    }
   ],
   "source": [
    "# train the model\n",
    "clf_tfidf_svc.fit(tfidf_matrix_train, y_train)\n",
    "# save the model\n",
    "dump(clf_tfidf_svc, 'model/svc_tfidf.joblib')"
   ]
  },
  {
   "cell_type": "code",
   "execution_count": 507,
   "metadata": {},
   "outputs": [
    {
     "name": "stdout",
     "output_type": "stream",
     "text": [
      "Accuracy: 0.6547619047619048\n"
     ]
    }
   ],
   "source": [
    "# load the model\n",
    "loaded_tfidf_model = load('model/svc_tfidf.joblib')\n",
    "# predict on the test set\n",
    "y_pred_tfidf_svc = loaded_tfidf_model.predict(tfidf_matrix_test)\n",
    "print(\"Accuracy:\", accuracy_score(y_test, y_pred_tfidf_svc))"
   ]
  },
  {
   "cell_type": "markdown",
   "metadata": {},
   "source": [
    "The SVM classifier was trained using the transformed TF-IDF matrix derived from the tweet data in the training dataset. Subsequently, predictions were made on the test set, yielding an accuracy of 0.65. This accuracy is slightly lower than the scores observed during cross-validation on training dataset."
   ]
  },
  {
   "cell_type": "markdown",
   "metadata": {},
   "source": [
    "#### Evaluation"
   ]
  },
  {
   "cell_type": "code",
   "execution_count": 509,
   "metadata": {},
   "outputs": [
    {
     "name": "stdout",
     "output_type": "stream",
     "text": [
      "              precision    recall  f1-score   support\n",
      "\n",
      "           0       0.75      0.33      0.46        27\n",
      "           1       0.65      0.85      0.74        91\n",
      "           2       0.63      0.48      0.55        50\n",
      "\n",
      "    accuracy                           0.65       168\n",
      "   macro avg       0.68      0.55      0.58       168\n",
      "weighted avg       0.66      0.65      0.64       168\n",
      "\n"
     ]
    },
    {
     "data": {
      "image/png": "[encoded data removed]",
      "text/plain": [
       "<Figure size 640x480 with 2 Axes>"
      ]
     },
     "metadata": {},
     "output_type": "display_data"
    }
   ],
   "source": [
    "# Confusion matrix\n",
    "cm_tfidf_svc = confusion_matrix(y_test, y_pred_tfidf_svc)\n",
    "conf_matrix_display = ConfusionMatrixDisplay(cm_tfidf_svc, display_labels=clf_tfidf_svc.classes_)\n",
    "conf_matrix_display.plot()\n",
    "\n",
    "report_tfidf_svc = classification_report(y_test, y_pred_tfidf_svc)\n",
    "print(report_tfidf_svc)"
   ]
  },
  {
   "cell_type": "markdown",
   "metadata": {},
   "source": [
    "The model's precision, recall, F1-score values for each predicted class, along with the confusion matrix, were displayed. From a precision perspective, the performance in identifying Class 0 (Positive) was the best, while Class 2 (Negative) exhibited the lowest performance. Considering the F1-score, which incorporates recall as well, the performance in identifying Class 1 (Neutral) was the best, while Class 0 (Negative) demonstrated the least favorable performance."
   ]
  },
  {
   "cell_type": "markdown",
   "metadata": {},
   "source": [
    "### Classification Models for Word2Vec"
   ]
  },
  {
   "cell_type": "markdown",
   "metadata": {},
   "source": [
    "#### Cross-validation with various classifiers on training dataset"
   ]
  },
  {
   "cell_type": "code",
   "execution_count": 499,
   "metadata": {},
   "outputs": [
    {
     "name": "stdout",
     "output_type": "stream",
     "text": [
      "SVM: [0.5037037  0.51492537 0.51492537 0.50746269 0.50746269]\n",
      "DT: [0.51851852 0.47761194 0.52238806 0.47761194 0.53731343]\n",
      "RFC: [0.63703704 0.65671642 0.64179104 0.61940299 0.63432836]\n"
     ]
    }
   ],
   "source": [
    "# Support Vector Machine\n",
    "clf_emb_svc = SVC(kernel='linear', random_state=42)\n",
    "print(f\"SVM: {cross_val_score(clf_emb_svc, train_word_vectors, y_train, cv=5)}\")\n",
    "\n",
    "# Decision Tree\n",
    "clf_emb_dt = DecisionTreeClassifier(max_depth=5, random_state=42)\n",
    "print(f\"DT: {cross_val_score(clf_emb_dt, train_word_vectors, y_train, cv=5)}\")\n",
    "\n",
    "# Random Forest Classifier\n",
    "clf_emb_rfc = RandomForestClassifier(random_state=42)\n",
    "print(f\"RFC: {cross_val_score(clf_emb_rfc, train_word_vectors, y_train, cv=5)}\")"
   ]
  },
  {
   "cell_type": "markdown",
   "metadata": {},
   "source": [
    "After performing classification using Support Vector Machine, Decision Tree, and Random Forest algorithms on data embedded with Word2Vec, it was observed that Random Forest yielded the best performance. Therefore, the Random Forest Classifier model has been selected for further evaluation and analysis. After conducting 5-fold cross-validation with Random Forest Classifier, it was observed that similar performance was achieved across all folds. The scores, measured in accuracy, range consistently between 0.62 and 0.65 across all folds."
   ]
  },
  {
   "cell_type": "markdown",
   "metadata": {},
   "source": [
    "#### Train the classifier and get the performance on test set"
   ]
  },
  {
   "cell_type": "code",
   "execution_count": 504,
   "metadata": {},
   "outputs": [
    {
     "name": "stdout",
     "output_type": "stream",
     "text": [
      "Accuracy: 0.6547619047619048\n"
     ]
    }
   ],
   "source": [
    "# train the model\n",
    "clf_emb_rfc.fit(train_word_vectors, y_train)\n",
    "# save the model\n",
    "dump(clf_emb_rfc, 'model/rfc_emb.joblib')"
   ]
  },
  {
   "cell_type": "code",
   "execution_count": 511,
   "metadata": {},
   "outputs": [
    {
     "name": "stdout",
     "output_type": "stream",
     "text": [
      "Accuracy: 0.6547619047619048\n"
     ]
    }
   ],
   "source": [
    "# load the model\n",
    "loaded_emb_model = load('model/rfc_emb.joblib')\n",
    "# predict on the test set\n",
    "y_pred_emb_rfc = loaded_emb_model.predict(test_word_vectors)\n",
    "print(\"Accuracy:\", accuracy_score(y_test, y_pred_emb_rfc))"
   ]
  },
  {
   "cell_type": "markdown",
   "metadata": {},
   "source": [
    "The Random Forest Classifier was trained on the vectorized training dataset. Subsequently, predictions were made on the test set, and the accuracy score was computed. The accuracy on the test set is approximately 0.65."
   ]
  },
  {
   "cell_type": "markdown",
   "metadata": {},
   "source": [
    "#### Evaluation"
   ]
  },
  {
   "cell_type": "code",
   "execution_count": 28,
   "metadata": {},
   "outputs": [
    {
     "name": "stdout",
     "output_type": "stream",
     "text": [
      "              precision    recall  f1-score   support\n",
      "\n",
      "           0       0.56      0.19      0.28        27\n",
      "           1       0.65      0.90      0.76        91\n",
      "           2       0.70      0.46      0.55        50\n",
      "\n",
      "    accuracy                           0.65       168\n",
      "   macro avg       0.63      0.52      0.53       168\n",
      "weighted avg       0.65      0.65      0.62       168\n",
      "\n"
     ]
    },
    {
     "data": {
      "image/png": "[encoded data removed]",
      "text/plain": [
       "<Figure size 640x480 with 2 Axes>"
      ]
     },
     "metadata": {},
     "output_type": "display_data"
    }
   ],
   "source": [
    "# Confusion matrix\n",
    "cm_emb_rfc = confusion_matrix(y_test, y_pred_emb_rfc)\n",
    "conf_matrix_display = ConfusionMatrixDisplay(cm_emb_rfc, display_labels=clf_emb_rfc.classes_)\n",
    "conf_matrix_display.plot()\n",
    "\n",
    "report_emb_rfc = classification_report(y_test, y_pred_emb_rfc)\n",
    "print(report_emb_rfc)"
   ]
  },
  {
   "cell_type": "markdown",
   "metadata": {},
   "source": [
    "The model's precision, recall, F1-score values for each predicted class, along with the confusion matrix, were displayed. From a precision perspective, the performance in identifying Class 2 (Positive) was the best, while Class 0 (Negative) exhibited the lowest performance. Considering the F1-score, which incorporates recall as well, the performance in identifying Class 1 (Neutral) was the best, while Class 0 (Negative) demonstrated the least favorable performance."
   ]
  },
  {
   "cell_type": "markdown",
   "metadata": {},
   "source": [
    "### Clasficiation Models for BERT"
   ]
  },
  {
   "cell_type": "markdown",
   "metadata": {},
   "source": [
    "Exploring models for classifying BERT-embedded data involves evaluating Support Vector Machine, Simple Deep Neural Network, and LSTM models. The performance of each model will be assessed, and the best-performing model will be selected."
   ]
  },
  {
   "cell_type": "code",
   "execution_count": 512,
   "metadata": {},
   "outputs": [
    {
     "name": "stdout",
     "output_type": "stream",
     "text": [
      "(839, 136, 768)\n"
     ]
    },
    {
     "data": {
      "text/plain": [
       "array([[[-1.43093735e-01,  1.30348891e-01,  1.36213079e-02, ...,\n",
       "         -3.62756908e-01,  1.59109741e-01,  7.17992485e-01],\n",
       "        [-1.48548126e-01,  3.01325172e-01, -2.94709541e-02, ...,\n",
       "          2.71887451e-01,  8.92606229e-02,  5.55077419e-02],\n",
       "        [-2.34166868e-02,  1.01575308e-01,  6.60110533e-01, ...,\n",
       "         -5.04811108e-02,  1.91819862e-01,  4.64661747e-01],\n",
       "        ...,\n",
       "        [ 2.39501238e-01,  4.86051589e-02,  3.77791256e-01, ...,\n",
       "         -1.48171652e-02,  1.01658717e-01,  2.89051861e-01],\n",
       "        [ 3.55805188e-01, -2.94169672e-02,  3.13606709e-01, ...,\n",
       "         -1.40706301e-01,  2.05605067e-02,  7.92977810e-02],\n",
       "        [ 1.32612094e-01, -1.86706074e-02,  4.21028286e-01, ...,\n",
       "          3.20658572e-02,  5.72154075e-02,  3.20101231e-02]],\n",
       "\n",
       "       [[-5.80980815e-03,  2.45778374e-02, -5.97243570e-02, ...,\n",
       "         -2.53953099e-01, -5.45751378e-02,  5.95049858e-01],\n",
       "        [ 5.06367862e-01, -2.77695537e-01,  3.42172891e-01, ...,\n",
       "          3.28010738e-01,  7.32645273e-01, -3.29114705e-01],\n",
       "        [-5.61911404e-01, -6.91092491e-01,  5.74156344e-01, ...,\n",
       "         -9.06122476e-02,  6.01368546e-01, -2.06592321e-01],\n",
       "        ...,\n",
       "        [ 3.13101411e-01,  2.85622552e-02,  4.40336972e-01, ...,\n",
       "         -1.26256660e-01, -1.19238690e-01,  3.65756184e-01],\n",
       "        [ 2.34218046e-01, -1.79809332e-02,  3.57856899e-01, ...,\n",
       "         -1.55833542e-01, -2.26115994e-02,  3.39517891e-01],\n",
       "        [ 1.96541786e-01,  5.95451817e-02,  2.67033577e-01, ...,\n",
       "         -2.62903541e-01, -7.82379508e-02,  3.25682610e-01]],\n",
       "\n",
       "       [[ 1.60428315e-01,  9.44638625e-03,  1.93595678e-01, ...,\n",
       "         -3.67292941e-01,  3.96262079e-01,  5.82050622e-01],\n",
       "        [-1.56121179e-01,  6.78923652e-02, -3.15475076e-01, ...,\n",
       "          6.35171831e-01,  3.29852313e-01,  5.33472180e-01],\n",
       "        [-4.66178447e-01,  2.74583429e-01, -1.02897987e-01, ...,\n",
       "          3.24320793e-01, -1.32741019e-01,  6.44112766e-01],\n",
       "        ...,\n",
       "        [ 1.48084968e-01, -3.08279525e-02,  5.82972765e-01, ...,\n",
       "         -1.20384760e-01,  1.44439608e-01,  2.14084402e-01],\n",
       "        [ 2.91196220e-02, -1.87505037e-03,  3.05985600e-01, ...,\n",
       "          2.44514942e-02, -5.25140390e-02, -1.03110716e-01],\n",
       "        [-1.42900988e-01, -1.32782757e-01,  7.45982006e-02, ...,\n",
       "          4.17078882e-02, -7.32446790e-01,  3.01792800e-01]],\n",
       "\n",
       "       ...,\n",
       "\n",
       "       [[-3.93338650e-01, -5.89947999e-02,  2.08147034e-01, ...,\n",
       "         -3.98709863e-01,  2.65942752e-01,  1.01078117e+00],\n",
       "        [ 4.13373500e-01,  5.02062812e-02, -1.78949118e-01, ...,\n",
       "         -8.43111351e-02, -3.71438205e-01,  1.55266297e+00],\n",
       "        [ 5.48730016e-01,  4.07032967e-01,  1.71271279e-01, ...,\n",
       "         -3.72166604e-01, -5.68375468e-01,  7.66811907e-01],\n",
       "        ...,\n",
       "        [-6.54183209e-01, -4.81279373e-01,  2.57078558e-04, ...,\n",
       "         -1.93661571e-01,  1.82274982e-01,  4.14690703e-01],\n",
       "        [-1.21438682e-01, -1.49140388e-01,  4.03729498e-01, ...,\n",
       "         -6.29577264e-02, -1.32852003e-01,  2.42995486e-01],\n",
       "        [-1.47074401e-01,  1.12037454e-02,  2.53258824e-01, ...,\n",
       "         -3.47153544e-01, -1.35986581e-01,  5.93565404e-01]],\n",
       "\n",
       "       [[ 6.73063397e-02, -7.54697919e-02,  3.32897663e-01, ...,\n",
       "         -3.08883756e-01,  3.25804025e-01,  5.53711176e-01],\n",
       "        [-4.76825148e-01, -2.51554102e-01,  1.03932500e+00, ...,\n",
       "          5.86036682e-01,  1.42370903e+00, -2.22152919e-01],\n",
       "        [ 2.15731233e-01, -5.16763963e-02,  1.37393808e+00, ...,\n",
       "         -4.66528609e-02, -2.15658218e-01, -2.50681698e-01],\n",
       "        ...,\n",
       "        [ 2.34251991e-01, -3.52286756e-01,  6.69816673e-01, ...,\n",
       "          1.70116182e-02, -8.52483884e-02,  8.05548877e-02],\n",
       "        [-1.09412715e-01, -3.63042295e-01,  6.74126148e-01, ...,\n",
       "          1.35000065e-01, -9.10750031e-02, -6.02701977e-02],\n",
       "        [-1.50035217e-01, -3.87142390e-01,  6.87662482e-01, ...,\n",
       "          1.05162524e-01, -7.90745392e-02,  4.33241874e-02]],\n",
       "\n",
       "       [[-1.40894651e-01,  2.84408152e-01, -4.90011781e-01, ...,\n",
       "         -1.86432302e-01,  1.67443886e-01,  1.86385319e-01],\n",
       "        [ 1.01911135e-01,  5.81949130e-02, -8.34178776e-02, ...,\n",
       "         -1.33061498e-01,  1.64451823e-02, -2.77124494e-01],\n",
       "        [-1.35905460e-01, -5.07081211e-01, -1.32079101e+00, ...,\n",
       "          3.90025884e-01,  4.91917014e-01, -5.06110117e-02],\n",
       "        ...,\n",
       "        [ 4.14523184e-02,  5.64424321e-03, -8.77176225e-02, ...,\n",
       "          4.35746387e-02,  1.52521908e-01, -1.49790244e-02],\n",
       "        [-4.04058583e-02,  6.04908839e-02, -3.00575346e-01, ...,\n",
       "          5.48877046e-02,  2.94436872e-01,  4.79521379e-02],\n",
       "        [ 2.66545378e-02,  1.45406798e-02, -3.51756781e-01, ...,\n",
       "          1.51794264e-02,  3.02533627e-01, -1.71035249e-03]]],\n",
       "      dtype=float32)"
      ]
     },
     "execution_count": 512,
     "metadata": {},
     "output_type": "execute_result"
    }
   ],
   "source": [
    "# read the embeddings from a file\n",
    "word_embeddings = np.load('data/word_embeddings.npy')\n",
    "print(word_embeddings.shape)\n",
    "word_embeddings"
   ]
  },
  {
   "cell_type": "markdown",
   "metadata": {},
   "source": [
    "In the previous step, the data embedded using a pretrained BERT model is loaded. This data contains the hidden states of each token."
   ]
  },
  {
   "cell_type": "markdown",
   "metadata": {},
   "source": [
    "### Support Vector Machine"
   ]
  },
  {
   "cell_type": "code",
   "execution_count": 513,
   "metadata": {},
   "outputs": [],
   "source": [
    "# Average the word embeddings for each text sample\n",
    "X_bert_avg = word_embeddings.mean(axis=1)"
   ]
  },
  {
   "cell_type": "markdown",
   "metadata": {},
   "source": [
    "Each tweet's embedding value needs to be input into the model, but BERT's output consists of hidden states for multiple tokens. Therefore, the average of these embedding values was calculated and used as the input value for the model."
   ]
  },
  {
   "cell_type": "code",
   "execution_count": 514,
   "metadata": {},
   "outputs": [],
   "source": [
    "# Split data into training and testing sets\n",
    "X_train_bert, X_test_bert, y_train_bert, y_test_bert = train_test_split(X_bert_avg, y_bert, test_size=0.2, random_state=42)"
   ]
  },
  {
   "cell_type": "markdown",
   "metadata": {},
   "source": [
    "The averaged embedding values, along with their corresponding labels, were split into training and test sets."
   ]
  },
  {
   "cell_type": "code",
   "execution_count": 515,
   "metadata": {},
   "outputs": [
    {
     "data": {
      "text/plain": [
       "array([0.74074074, 0.81343284, 0.71641791, 0.69402985, 0.7238806 ])"
      ]
     },
     "execution_count": 515,
     "metadata": {},
     "output_type": "execute_result"
    }
   ],
   "source": [
    "clf_bert_svc = SVC(kernel='linear')\n",
    "cross_val_score(clf_bert_svc, X_train_bert, y_train_bert, cv=5)"
   ]
  },
  {
   "cell_type": "markdown",
   "metadata": {},
   "source": [
    "Support Vector Machine was used to perform 5-fold cross-validation on the training dataset. While there were variations in performance across folds, the performance ranged between approximately 0.7 and 0.81, indicating good performance overall."
   ]
  },
  {
   "cell_type": "code",
   "execution_count": 517,
   "metadata": {},
   "outputs": [
    {
     "data": {
      "text/plain": [
       "['model/svc_bert.joblib']"
      ]
     },
     "execution_count": 517,
     "metadata": {},
     "output_type": "execute_result"
    }
   ],
   "source": [
    "# train the model\n",
    "clf_bert_svc.fit(X_train_bert, y_train_bert)\n",
    "# save the model\n",
    "dump(clf_bert_svc, 'model/svc_bert.joblib')"
   ]
  },
  {
   "cell_type": "code",
   "execution_count": 518,
   "metadata": {},
   "outputs": [
    {
     "name": "stdout",
     "output_type": "stream",
     "text": [
      "Accuracy: 0.7916666666666666\n"
     ]
    }
   ],
   "source": [
    "# load the model\n",
    "loaded_bert_model = load('model/svc_bert.joblib')\n",
    "\n",
    "# predict on the test set\n",
    "y_pred_bert_svc = loaded_bert_model.predict(X_test_bert)\n",
    "\n",
    "# Calculate accuracy\n",
    "accuracy_bert_svc = accuracy_score(y_test_bert, y_pred_bert_svc)\n",
    "print(\"Accuracy:\", accuracy_bert_svc)"
   ]
  },
  {
   "cell_type": "markdown",
   "metadata": {},
   "source": [
    "The SVM model was trained on the training dataset. Subsequently, predictions were made on the test set, resulting in an accuracy score of 0.79. This indicates a fairly good performance."
   ]
  },
  {
   "cell_type": "code",
   "execution_count": 520,
   "metadata": {},
   "outputs": [
    {
     "name": "stdout",
     "output_type": "stream",
     "text": [
      "Classification Report:\n",
      "               precision    recall  f1-score   support\n",
      "\n",
      "           0       0.61      0.81      0.70        27\n",
      "           1       0.86      0.80      0.83        91\n",
      "           2       0.81      0.76      0.78        50\n",
      "\n",
      "    accuracy                           0.79       168\n",
      "   macro avg       0.76      0.79      0.77       168\n",
      "weighted avg       0.80      0.79      0.79       168\n",
      "\n"
     ]
    },
    {
     "data": {
      "image/png": "[encoded data removed]",
      "text/plain": [
       "<Figure size 640x480 with 2 Axes>"
      ]
     },
     "metadata": {},
     "output_type": "display_data"
    }
   ],
   "source": [
    "# Confusion matrix\n",
    "cm_bert_svc = confusion_matrix(y_test_bert, y_pred_bert_svc)\n",
    "conf_matrix_display = ConfusionMatrixDisplay(cm_bert_svc, display_labels=clf_bert_svc.classes_)\n",
    "conf_matrix_display.plot()\n",
    "\n",
    "# Detailed classification report\n",
    "class_report = classification_report(y_test_bert, y_pred_bert_svc)\n",
    "print(\"Classification Report:\\n\", class_report)"
   ]
  },
  {
   "cell_type": "markdown",
   "metadata": {},
   "source": [
    "The model's precision, recall, F1-score values for each predicted class, along with the confusion matrix, were displayed. From a precision perspective, the performance in identifying Class 1 (Neutral) was the best, while Class 0 (Negative) exhibited the lowest performance. Considering the F1-score, which incorporates recall as well, the performance in identifying Class 1 (Neutral) was the best, while Class 0 (Negative) demonstrated the least favorable performance. Overall score is higher than other models."
   ]
  },
  {
   "cell_type": "markdown",
   "metadata": {},
   "source": [
    "#### Hyper-Parameter Tuning and Cross Validation"
   ]
  },
  {
   "cell_type": "code",
   "execution_count": 36,
   "metadata": {},
   "outputs": [
    {
     "name": "stdout",
     "output_type": "stream",
     "text": [
      "Fitting 5 folds for each of 32 candidates, totalling 160 fits\n",
      "[CV] END .........................C=0.1, gamma=1, kernel=rbf; total time=   0.0s\n",
      "[CV] END .........................C=0.1, gamma=1, kernel=rbf; total time=   0.0s\n",
      "[CV] END .........................C=0.1, gamma=1, kernel=rbf; total time=   0.0s\n",
      "[CV] END .........................C=0.1, gamma=1, kernel=rbf; total time=   0.0s\n",
      "[CV] END .........................C=0.1, gamma=1, kernel=rbf; total time=   0.0s\n",
      "[CV] END ......................C=0.1, gamma=1, kernel=linear; total time=   0.0s\n",
      "[CV] END ......................C=0.1, gamma=1, kernel=linear; total time=   0.0s\n",
      "[CV] END ......................C=0.1, gamma=1, kernel=linear; total time=   0.0s\n",
      "[CV] END ......................C=0.1, gamma=1, kernel=linear; total time=   0.0s\n",
      "[CV] END ......................C=0.1, gamma=1, kernel=linear; total time=   0.0s\n",
      "[CV] END .......................C=0.1, gamma=0.1, kernel=rbf; total time=   0.0s\n",
      "[CV] END .......................C=0.1, gamma=0.1, kernel=rbf; total time=   0.0s\n",
      "[CV] END .......................C=0.1, gamma=0.1, kernel=rbf; total time=   0.0s\n",
      "[CV] END .......................C=0.1, gamma=0.1, kernel=rbf; total time=   0.0s\n",
      "[CV] END .......................C=0.1, gamma=0.1, kernel=rbf; total time=   0.0s\n",
      "[CV] END ....................C=0.1, gamma=0.1, kernel=linear; total time=   0.0s\n",
      "[CV] END ....................C=0.1, gamma=0.1, kernel=linear; total time=   0.0s\n",
      "[CV] END ....................C=0.1, gamma=0.1, kernel=linear; total time=   0.0s\n",
      "[CV] END ....................C=0.1, gamma=0.1, kernel=linear; total time=   0.0s\n",
      "[CV] END ....................C=0.1, gamma=0.1, kernel=linear; total time=   0.0s\n",
      "[CV] END ......................C=0.1, gamma=0.01, kernel=rbf; total time=   0.0s\n",
      "[CV] END ......................C=0.1, gamma=0.01, kernel=rbf; total time=   0.0s\n",
      "[CV] END ......................C=0.1, gamma=0.01, kernel=rbf; total time=   0.0s\n",
      "[CV] END ......................C=0.1, gamma=0.01, kernel=rbf; total time=   0.0s\n",
      "[CV] END ......................C=0.1, gamma=0.01, kernel=rbf; total time=   0.0s\n",
      "[CV] END ...................C=0.1, gamma=0.01, kernel=linear; total time=   0.0s\n",
      "[CV] END ...................C=0.1, gamma=0.01, kernel=linear; total time=   0.0s\n",
      "[CV] END ...................C=0.1, gamma=0.01, kernel=linear; total time=   0.0s\n",
      "[CV] END ...................C=0.1, gamma=0.01, kernel=linear; total time=   0.0s\n",
      "[CV] END ...................C=0.1, gamma=0.01, kernel=linear; total time=   0.0s\n",
      "[CV] END .....................C=0.1, gamma=0.001, kernel=rbf; total time=   0.0s\n",
      "[CV] END .....................C=0.1, gamma=0.001, kernel=rbf; total time=   0.0s\n",
      "[CV] END .....................C=0.1, gamma=0.001, kernel=rbf; total time=   0.0s\n",
      "[CV] END .....................C=0.1, gamma=0.001, kernel=rbf; total time=   0.0s\n",
      "[CV] END .....................C=0.1, gamma=0.001, kernel=rbf; total time=   0.0s\n",
      "[CV] END ..................C=0.1, gamma=0.001, kernel=linear; total time=   0.0s\n",
      "[CV] END ..................C=0.1, gamma=0.001, kernel=linear; total time=   0.0s\n",
      "[CV] END ..................C=0.1, gamma=0.001, kernel=linear; total time=   0.0s\n",
      "[CV] END ..................C=0.1, gamma=0.001, kernel=linear; total time=   0.0s\n",
      "[CV] END ..................C=0.1, gamma=0.001, kernel=linear; total time=   0.0s\n",
      "[CV] END ...........................C=1, gamma=1, kernel=rbf; total time=   0.0s\n",
      "[CV] END ...........................C=1, gamma=1, kernel=rbf; total time=   0.0s\n",
      "[CV] END ...........................C=1, gamma=1, kernel=rbf; total time=   0.0s\n",
      "[CV] END ...........................C=1, gamma=1, kernel=rbf; total time=   0.0s\n",
      "[CV] END ...........................C=1, gamma=1, kernel=rbf; total time=   0.0s\n",
      "[CV] END ........................C=1, gamma=1, kernel=linear; total time=   0.0s\n",
      "[CV] END ........................C=1, gamma=1, kernel=linear; total time=   0.0s\n",
      "[CV] END ........................C=1, gamma=1, kernel=linear; total time=   0.0s\n",
      "[CV] END ........................C=1, gamma=1, kernel=linear; total time=   0.0s\n",
      "[CV] END ........................C=1, gamma=1, kernel=linear; total time=   0.0s\n",
      "[CV] END .........................C=1, gamma=0.1, kernel=rbf; total time=   0.0s\n",
      "[CV] END .........................C=1, gamma=0.1, kernel=rbf; total time=   0.0s\n",
      "[CV] END .........................C=1, gamma=0.1, kernel=rbf; total time=   0.0s\n",
      "[CV] END .........................C=1, gamma=0.1, kernel=rbf; total time=   0.0s\n",
      "[CV] END .........................C=1, gamma=0.1, kernel=rbf; total time=   0.0s\n",
      "[CV] END ......................C=1, gamma=0.1, kernel=linear; total time=   0.0s\n",
      "[CV] END ......................C=1, gamma=0.1, kernel=linear; total time=   0.0s\n",
      "[CV] END ......................C=1, gamma=0.1, kernel=linear; total time=   0.0s\n",
      "[CV] END ......................C=1, gamma=0.1, kernel=linear; total time=   0.0s\n",
      "[CV] END ......................C=1, gamma=0.1, kernel=linear; total time=   0.0s\n",
      "[CV] END ........................C=1, gamma=0.01, kernel=rbf; total time=   0.0s\n",
      "[CV] END ........................C=1, gamma=0.01, kernel=rbf; total time=   0.0s\n",
      "[CV] END ........................C=1, gamma=0.01, kernel=rbf; total time=   0.0s\n",
      "[CV] END ........................C=1, gamma=0.01, kernel=rbf; total time=   0.0s\n",
      "[CV] END ........................C=1, gamma=0.01, kernel=rbf; total time=   0.0s\n",
      "[CV] END .....................C=1, gamma=0.01, kernel=linear; total time=   0.0s\n",
      "[CV] END .....................C=1, gamma=0.01, kernel=linear; total time=   0.0s\n",
      "[CV] END .....................C=1, gamma=0.01, kernel=linear; total time=   0.0s\n",
      "[CV] END .....................C=1, gamma=0.01, kernel=linear; total time=   0.0s\n",
      "[CV] END .....................C=1, gamma=0.01, kernel=linear; total time=   0.0s\n",
      "[CV] END .......................C=1, gamma=0.001, kernel=rbf; total time=   0.0s\n",
      "[CV] END .......................C=1, gamma=0.001, kernel=rbf; total time=   0.0s\n",
      "[CV] END .......................C=1, gamma=0.001, kernel=rbf; total time=   0.0s\n",
      "[CV] END .......................C=1, gamma=0.001, kernel=rbf; total time=   0.0s\n",
      "[CV] END .......................C=1, gamma=0.001, kernel=rbf; total time=   0.0s\n",
      "[CV] END ....................C=1, gamma=0.001, kernel=linear; total time=   0.0s\n",
      "[CV] END ....................C=1, gamma=0.001, kernel=linear; total time=   0.0s\n",
      "[CV] END ....................C=1, gamma=0.001, kernel=linear; total time=   0.0s\n",
      "[CV] END ....................C=1, gamma=0.001, kernel=linear; total time=   0.0s\n",
      "[CV] END ....................C=1, gamma=0.001, kernel=linear; total time=   0.0s\n",
      "[CV] END ..........................C=10, gamma=1, kernel=rbf; total time=   0.0s\n",
      "[CV] END ..........................C=10, gamma=1, kernel=rbf; total time=   0.0s\n",
      "[CV] END ..........................C=10, gamma=1, kernel=rbf; total time=   0.0s\n",
      "[CV] END ..........................C=10, gamma=1, kernel=rbf; total time=   0.0s\n",
      "[CV] END ..........................C=10, gamma=1, kernel=rbf; total time=   0.0s\n",
      "[CV] END .......................C=10, gamma=1, kernel=linear; total time=   0.0s\n",
      "[CV] END .......................C=10, gamma=1, kernel=linear; total time=   0.0s\n",
      "[CV] END .......................C=10, gamma=1, kernel=linear; total time=   0.0s\n",
      "[CV] END .......................C=10, gamma=1, kernel=linear; total time=   0.0s\n",
      "[CV] END .......................C=10, gamma=1, kernel=linear; total time=   0.0s\n",
      "[CV] END ........................C=10, gamma=0.1, kernel=rbf; total time=   0.0s\n",
      "[CV] END ........................C=10, gamma=0.1, kernel=rbf; total time=   0.0s\n",
      "[CV] END ........................C=10, gamma=0.1, kernel=rbf; total time=   0.0s\n",
      "[CV] END ........................C=10, gamma=0.1, kernel=rbf; total time=   0.0s\n",
      "[CV] END ........................C=10, gamma=0.1, kernel=rbf; total time=   0.0s\n",
      "[CV] END .....................C=10, gamma=0.1, kernel=linear; total time=   0.0s\n",
      "[CV] END .....................C=10, gamma=0.1, kernel=linear; total time=   0.0s\n",
      "[CV] END .....................C=10, gamma=0.1, kernel=linear; total time=   0.0s\n",
      "[CV] END .....................C=10, gamma=0.1, kernel=linear; total time=   0.0s\n",
      "[CV] END .....................C=10, gamma=0.1, kernel=linear; total time=   0.0s\n",
      "[CV] END .......................C=10, gamma=0.01, kernel=rbf; total time=   0.0s\n",
      "[CV] END .......................C=10, gamma=0.01, kernel=rbf; total time=   0.0s\n",
      "[CV] END .......................C=10, gamma=0.01, kernel=rbf; total time=   0.0s\n",
      "[CV] END .......................C=10, gamma=0.01, kernel=rbf; total time=   0.0s\n",
      "[CV] END .......................C=10, gamma=0.01, kernel=rbf; total time=   0.0s\n",
      "[CV] END ....................C=10, gamma=0.01, kernel=linear; total time=   0.0s\n",
      "[CV] END ....................C=10, gamma=0.01, kernel=linear; total time=   0.0s\n",
      "[CV] END ....................C=10, gamma=0.01, kernel=linear; total time=   0.0s\n",
      "[CV] END ....................C=10, gamma=0.01, kernel=linear; total time=   0.0s\n",
      "[CV] END ....................C=10, gamma=0.01, kernel=linear; total time=   0.0s\n",
      "[CV] END ......................C=10, gamma=0.001, kernel=rbf; total time=   0.0s\n",
      "[CV] END ......................C=10, gamma=0.001, kernel=rbf; total time=   0.0s\n",
      "[CV] END ......................C=10, gamma=0.001, kernel=rbf; total time=   0.0s\n",
      "[CV] END ......................C=10, gamma=0.001, kernel=rbf; total time=   0.0s\n",
      "[CV] END ......................C=10, gamma=0.001, kernel=rbf; total time=   0.0s\n",
      "[CV] END ...................C=10, gamma=0.001, kernel=linear; total time=   0.0s\n",
      "[CV] END ...................C=10, gamma=0.001, kernel=linear; total time=   0.0s\n",
      "[CV] END ...................C=10, gamma=0.001, kernel=linear; total time=   0.0s\n",
      "[CV] END ...................C=10, gamma=0.001, kernel=linear; total time=   0.0s\n",
      "[CV] END ...................C=10, gamma=0.001, kernel=linear; total time=   0.0s\n",
      "[CV] END .........................C=100, gamma=1, kernel=rbf; total time=   0.0s\n",
      "[CV] END .........................C=100, gamma=1, kernel=rbf; total time=   0.0s\n",
      "[CV] END .........................C=100, gamma=1, kernel=rbf; total time=   0.0s\n",
      "[CV] END .........................C=100, gamma=1, kernel=rbf; total time=   0.0s\n",
      "[CV] END .........................C=100, gamma=1, kernel=rbf; total time=   0.0s\n",
      "[CV] END ......................C=100, gamma=1, kernel=linear; total time=   0.0s\n",
      "[CV] END ......................C=100, gamma=1, kernel=linear; total time=   0.0s\n",
      "[CV] END ......................C=100, gamma=1, kernel=linear; total time=   0.0s\n",
      "[CV] END ......................C=100, gamma=1, kernel=linear; total time=   0.0s\n",
      "[CV] END ......................C=100, gamma=1, kernel=linear; total time=   0.0s\n",
      "[CV] END .......................C=100, gamma=0.1, kernel=rbf; total time=   0.0s\n",
      "[CV] END .......................C=100, gamma=0.1, kernel=rbf; total time=   0.0s\n",
      "[CV] END .......................C=100, gamma=0.1, kernel=rbf; total time=   0.0s\n",
      "[CV] END .......................C=100, gamma=0.1, kernel=rbf; total time=   0.0s\n",
      "[CV] END .......................C=100, gamma=0.1, kernel=rbf; total time=   0.0s\n",
      "[CV] END ....................C=100, gamma=0.1, kernel=linear; total time=   0.0s\n",
      "[CV] END ....................C=100, gamma=0.1, kernel=linear; total time=   0.0s\n",
      "[CV] END ....................C=100, gamma=0.1, kernel=linear; total time=   0.0s\n",
      "[CV] END ....................C=100, gamma=0.1, kernel=linear; total time=   0.0s\n",
      "[CV] END ....................C=100, gamma=0.1, kernel=linear; total time=   0.0s\n",
      "[CV] END ......................C=100, gamma=0.01, kernel=rbf; total time=   0.0s\n",
      "[CV] END ......................C=100, gamma=0.01, kernel=rbf; total time=   0.0s\n",
      "[CV] END ......................C=100, gamma=0.01, kernel=rbf; total time=   0.0s\n",
      "[CV] END ......................C=100, gamma=0.01, kernel=rbf; total time=   0.0s\n",
      "[CV] END ......................C=100, gamma=0.01, kernel=rbf; total time=   0.0s\n",
      "[CV] END ...................C=100, gamma=0.01, kernel=linear; total time=   0.0s\n",
      "[CV] END ...................C=100, gamma=0.01, kernel=linear; total time=   0.0s\n",
      "[CV] END ...................C=100, gamma=0.01, kernel=linear; total time=   0.0s\n",
      "[CV] END ...................C=100, gamma=0.01, kernel=linear; total time=   0.0s\n",
      "[CV] END ...................C=100, gamma=0.01, kernel=linear; total time=   0.0s\n",
      "[CV] END .....................C=100, gamma=0.001, kernel=rbf; total time=   0.0s\n",
      "[CV] END .....................C=100, gamma=0.001, kernel=rbf; total time=   0.0s\n",
      "[CV] END .....................C=100, gamma=0.001, kernel=rbf; total time=   0.0s\n",
      "[CV] END .....................C=100, gamma=0.001, kernel=rbf; total time=   0.0s\n",
      "[CV] END .....................C=100, gamma=0.001, kernel=rbf; total time=   0.0s\n",
      "[CV] END ..................C=100, gamma=0.001, kernel=linear; total time=   0.0s\n",
      "[CV] END ..................C=100, gamma=0.001, kernel=linear; total time=   0.0s\n",
      "[CV] END ..................C=100, gamma=0.001, kernel=linear; total time=   0.0s\n",
      "[CV] END ..................C=100, gamma=0.001, kernel=linear; total time=   0.0s\n",
      "[CV] END ..................C=100, gamma=0.001, kernel=linear; total time=   0.0s\n",
      "Best parameters found: {'C': 10, 'gamma': 0.01, 'kernel': 'rbf'}\n",
      "Best score: 0.7630403537866224\n"
     ]
    }
   ],
   "source": [
    "from sklearn.model_selection import GridSearchCV\n",
    "\n",
    "# Define parameter grid\n",
    "param_grid = {'C': [0.1, 1, 10, 100], 'gamma': [1, 0.1, 0.01, 0.001], 'kernel': ['rbf', 'linear']}\n",
    "\n",
    "# Grid search with 10-fold cross-validation\n",
    "grid = GridSearchCV(SVC(), param_grid, refit=True, verbose=2, cv=5)  # Set cv=10 for 10-fold CV\n",
    "grid.fit(X_train_bert, y_train_bert)\n",
    "\n",
    "# Best parameters and best score\n",
    "print(\"Best parameters found:\", grid.best_params_)\n",
    "print(\"Best score:\", grid.best_score_)\n"
   ]
  },
  {
   "cell_type": "code",
   "execution_count": 37,
   "metadata": {},
   "outputs": [
    {
     "name": "stdout",
     "output_type": "stream",
     "text": [
      "Accuracy: 0.7738095238095238\n",
      "Classification Report:\n",
      "               precision    recall  f1-score   support\n",
      "\n",
      "           0       0.61      0.74      0.67        27\n",
      "           1       0.84      0.80      0.82        91\n",
      "           2       0.77      0.74      0.76        50\n",
      "\n",
      "    accuracy                           0.77       168\n",
      "   macro avg       0.74      0.76      0.75       168\n",
      "weighted avg       0.78      0.77      0.78       168\n",
      "\n"
     ]
    },
    {
     "data": {
      "image/png": "[encoded data removed]",
      "text/plain": [
       "<Figure size 640x480 with 2 Axes>"
      ]
     },
     "metadata": {},
     "output_type": "display_data"
    }
   ],
   "source": [
    "# show the confusion matrix\n",
    "y_pred_bert_tuning = grid.best_estimator_.predict(X_test_bert)\n",
    "\n",
    "# Calculate accuracy\n",
    "accuracy_bert_tuning = accuracy_score(y_test_bert, y_pred_bert_tuning)\n",
    "print(\"Accuracy:\", accuracy_bert_tuning)\n",
    "\n",
    "# Confusion matrix\n",
    "cm_bert_tuning = confusion_matrix(y_test_bert, y_pred_bert_tuning)\n",
    "conf_matrix_display = ConfusionMatrixDisplay(cm_bert_tuning, display_labels=clf_bert_svc.classes_)\n",
    "conf_matrix_display.plot()\n",
    "\n",
    "# Detailed classification report\n",
    "class_report = classification_report(y_test_bert, y_pred_bert_tuning)\n",
    "print(\"Classification Report:\\n\", class_report)"
   ]
  },
  {
   "cell_type": "markdown",
   "metadata": {},
   "source": [
    "### Simple DNN"
   ]
  },
  {
   "cell_type": "code",
   "execution_count": 521,
   "metadata": {},
   "outputs": [],
   "source": [
    "# import keras libraries\n",
    "from tensorflow.keras.models import Sequential\n",
    "from tensorflow.keras.layers import Bidirectional, LSTM, Dense, Dropout\n",
    "from keras.callbacks import ModelCheckpoint\n",
    "from tensorflow import keras\n",
    "from tensorflow.keras.optimizers import Adam\n",
    "from keras.models import load_model\n",
    "from tensorflow.keras.utils import to_categorical"
   ]
  },
  {
   "cell_type": "markdown",
   "metadata": {},
   "source": [
    "#### Extract CLS embeddings"
   ]
  },
  {
   "cell_type": "code",
   "execution_count": 457,
   "metadata": {},
   "outputs": [
    {
     "name": "stdout",
     "output_type": "stream",
     "text": [
      "(839, 768)\n"
     ]
    },
    {
     "data": {
      "text/plain": [
       "array([[-0.14309373,  0.13034889,  0.01362131, ..., -0.3627569 ,\n",
       "         0.15910974,  0.7179925 ],\n",
       "       [-0.00580981,  0.02457784, -0.05972436, ..., -0.2539531 ,\n",
       "        -0.05457514,  0.59504986],\n",
       "       [ 0.16042832,  0.00944639,  0.19359568, ..., -0.36729294,\n",
       "         0.39626208,  0.5820506 ],\n",
       "       ...,\n",
       "       [-0.39333865, -0.0589948 ,  0.20814703, ..., -0.39870986,\n",
       "         0.26594275,  1.0107812 ],\n",
       "       [ 0.06730634, -0.07546979,  0.33289766, ..., -0.30888376,\n",
       "         0.32580402,  0.5537112 ],\n",
       "       [-0.14089465,  0.28440815, -0.49001178, ..., -0.1864323 ,\n",
       "         0.16744389,  0.18638532]], dtype=float32)"
      ]
     },
     "execution_count": 457,
     "metadata": {},
     "output_type": "execute_result"
    }
   ],
   "source": [
    "cls_embeddings = word_embeddings[:, 0, :]\n",
    "print(cls_embeddings.shape)\n",
    "cls_embeddings"
   ]
  },
  {
   "cell_type": "markdown",
   "metadata": {},
   "source": [
    "When performing BERT embedding, the embedding value of the first token, known as the CLS embedding, contains information about the entire sentence. Therefore, this time, we will extract only the first output from the BERT word_embedding output for each sentence and use it as the dataset."
   ]
  },
  {
   "cell_type": "markdown",
   "metadata": {},
   "source": [
    "#### Split Dataset"
   ]
  },
  {
   "cell_type": "code",
   "execution_count": 458,
   "metadata": {},
   "outputs": [],
   "source": [
    "# Split data into training, validation, and testing sets\n",
    "X_train_cls, X_test_cls, y_train_cls, y_test_cls = train_test_split(cls_embeddings, y_bert, test_size=0.2, random_state=42)\n",
    "X_train_cls, X_val_cls, y_train_cls, y_val_cls = train_test_split(X_train_cls, y_train_cls, test_size=0.2, random_state=42)"
   ]
  },
  {
   "cell_type": "markdown",
   "metadata": {},
   "source": [
    "The entire dataset containing CLS embeddings is split into training and test datasets. Additionally, a validation set is split for model evaluation during training the model."
   ]
  },
  {
   "cell_type": "markdown",
   "metadata": {},
   "source": [
    "#### Construct DNN Model"
   ]
  },
  {
   "cell_type": "code",
   "execution_count": 459,
   "metadata": {},
   "outputs": [
    {
     "name": "stdout",
     "output_type": "stream",
     "text": [
      "Model: \"sequential_7\"\n",
      "_________________________________________________________________\n",
      " Layer (type)                Output Shape              Param #   \n",
      "=================================================================\n",
      " dense_13 (Dense)            (None, 64)                49216     \n",
      "                                                                 \n",
      " dropout_8 (Dropout)         (None, 64)                0         \n",
      "                                                                 \n",
      " dense_14 (Dense)            (None, 3)                 195       \n",
      "                                                                 \n",
      "=================================================================\n",
      "Total params: 49,411\n",
      "Trainable params: 49,411\n",
      "Non-trainable params: 0\n",
      "_________________________________________________________________\n"
     ]
    }
   ],
   "source": [
    "# DNN model\n",
    "model_dnn = Sequential()\n",
    "model_dnn.add(Dense(64, activation='relu', input_dim=768))\n",
    "model_dnn.add(Dropout(0.5))\n",
    "model_dnn.add(Dense(3, activation='softmax'))\n",
    "\n",
    "# model compile\n",
    "optimizer = Adam(learning_rate=0.0001)\n",
    "model_dnn.compile(optimizer=optimizer,\n",
    "                  loss='sparse_categorical_crossentropy',\n",
    "                  metrics=['accuracy'])\n",
    "\n",
    "model_checkpoint_callback = ModelCheckpoint(\n",
    "    filepath='model/best_model_dnn.hdf5',\n",
    "    save_weights_only=False,\n",
    "    monitor='val_loss',\n",
    "    mode='min',\n",
    "    save_best_only=True)\n",
    "\n",
    "model_dnn.summary()"
   ]
  },
  {
   "cell_type": "markdown",
   "metadata": {},
   "source": [
    "A simple deep neural network for classification using CLS embeddings as input is implemented. Each layer consists of a Dense layer with 64 outputs, dropout, followed by another Dense layer outputting 3 classes. The first layer uses ReLU activation function, while the last layer uses softmax. Adam optimizer is used with an initial learning rate of 0.0001, and sparse_categorical_crossentropy is used as the loss function. The ModelCheckPoint callback is utilized to save the model when the validation dataset's loss is minimized, selecting it as the best model."
   ]
  },
  {
   "cell_type": "markdown",
   "metadata": {},
   "source": [
    "#### Train Model"
   ]
  },
  {
   "cell_type": "code",
   "execution_count": 460,
   "metadata": {},
   "outputs": [
    {
     "name": "stdout",
     "output_type": "stream",
     "text": [
      "Epoch 1/150\n"
     ]
    },
    {
     "name": "stdout",
     "output_type": "stream",
     "text": [
      "34/34 [==============================] - 0s 5ms/step - loss: 1.1857 - accuracy: 0.3955 - val_loss: 1.0127 - val_accuracy: 0.5037\n",
      "Epoch 2/150\n",
      "34/34 [==============================] - 0s 2ms/step - loss: 1.0434 - accuracy: 0.5075 - val_loss: 0.9684 - val_accuracy: 0.5037\n",
      "Epoch 3/150\n",
      "34/34 [==============================] - 0s 2ms/step - loss: 1.0180 - accuracy: 0.4869 - val_loss: 0.9383 - val_accuracy: 0.5185\n",
      "Epoch 4/150\n",
      "34/34 [==============================] - 0s 2ms/step - loss: 0.9547 - accuracy: 0.5485 - val_loss: 0.9239 - val_accuracy: 0.5185\n",
      "Epoch 5/150\n",
      "34/34 [==============================] - 0s 2ms/step - loss: 0.9242 - accuracy: 0.5429 - val_loss: 0.8943 - val_accuracy: 0.5333\n",
      "Epoch 6/150\n",
      "34/34 [==============================] - 0s 2ms/step - loss: 0.9188 - accuracy: 0.5504 - val_loss: 0.8749 - val_accuracy: 0.5556\n",
      "Epoch 7/150\n",
      "34/34 [==============================] - 0s 2ms/step - loss: 0.8916 - accuracy: 0.5951 - val_loss: 0.8518 - val_accuracy: 0.6074\n",
      "Epoch 8/150\n",
      "34/34 [==============================] - 0s 2ms/step - loss: 0.8371 - accuracy: 0.6101 - val_loss: 0.8332 - val_accuracy: 0.6296\n",
      "Epoch 9/150\n",
      "34/34 [==============================] - 0s 2ms/step - loss: 0.8201 - accuracy: 0.6101 - val_loss: 0.8271 - val_accuracy: 0.6519\n",
      "Epoch 10/150\n",
      "34/34 [==============================] - 0s 2ms/step - loss: 0.8001 - accuracy: 0.6660 - val_loss: 0.8089 - val_accuracy: 0.6741\n",
      "Epoch 11/150\n",
      "34/34 [==============================] - 0s 3ms/step - loss: 0.7899 - accuracy: 0.6549 - val_loss: 0.8036 - val_accuracy: 0.6815\n",
      "Epoch 12/150\n",
      "34/34 [==============================] - 0s 2ms/step - loss: 0.7665 - accuracy: 0.6791 - val_loss: 0.7861 - val_accuracy: 0.7037\n",
      "Epoch 13/150\n",
      "34/34 [==============================] - 0s 2ms/step - loss: 0.7441 - accuracy: 0.6866 - val_loss: 0.7697 - val_accuracy: 0.7037\n",
      "Epoch 14/150\n",
      "34/34 [==============================] - 0s 2ms/step - loss: 0.7289 - accuracy: 0.6810 - val_loss: 0.7662 - val_accuracy: 0.6963\n",
      "Epoch 15/150\n",
      "34/34 [==============================] - 0s 2ms/step - loss: 0.7394 - accuracy: 0.6810 - val_loss: 0.7508 - val_accuracy: 0.7111\n",
      "Epoch 16/150\n",
      "34/34 [==============================] - 0s 2ms/step - loss: 0.6973 - accuracy: 0.7052 - val_loss: 0.7442 - val_accuracy: 0.7185\n",
      "Epoch 17/150\n",
      "34/34 [==============================] - 0s 3ms/step - loss: 0.7004 - accuracy: 0.7127 - val_loss: 0.7346 - val_accuracy: 0.7037\n",
      "Epoch 18/150\n",
      "34/34 [==============================] - 0s 2ms/step - loss: 0.6761 - accuracy: 0.7220 - val_loss: 0.7282 - val_accuracy: 0.6963\n",
      "Epoch 19/150\n",
      "34/34 [==============================] - 0s 3ms/step - loss: 0.6559 - accuracy: 0.7164 - val_loss: 0.7231 - val_accuracy: 0.7037\n",
      "Epoch 20/150\n",
      "34/34 [==============================] - 0s 3ms/step - loss: 0.6617 - accuracy: 0.7071 - val_loss: 0.7171 - val_accuracy: 0.6963\n",
      "Epoch 21/150\n",
      "34/34 [==============================] - 0s 2ms/step - loss: 0.6413 - accuracy: 0.7444 - val_loss: 0.7094 - val_accuracy: 0.6963\n",
      "Epoch 22/150\n",
      "34/34 [==============================] - 0s 3ms/step - loss: 0.6479 - accuracy: 0.7201 - val_loss: 0.6968 - val_accuracy: 0.6667\n",
      "Epoch 23/150\n",
      "34/34 [==============================] - 0s 2ms/step - loss: 0.6051 - accuracy: 0.7575 - val_loss: 0.6952 - val_accuracy: 0.6963\n",
      "Epoch 24/150\n",
      "34/34 [==============================] - 0s 2ms/step - loss: 0.5965 - accuracy: 0.7724 - val_loss: 0.6853 - val_accuracy: 0.7037\n",
      "Epoch 25/150\n",
      "34/34 [==============================] - 0s 2ms/step - loss: 0.5934 - accuracy: 0.7351 - val_loss: 0.6730 - val_accuracy: 0.6815\n",
      "Epoch 26/150\n",
      "34/34 [==============================] - 0s 2ms/step - loss: 0.6112 - accuracy: 0.7425 - val_loss: 0.6823 - val_accuracy: 0.6815\n",
      "Epoch 27/150\n",
      "34/34 [==============================] - 0s 2ms/step - loss: 0.6108 - accuracy: 0.7332 - val_loss: 0.6697 - val_accuracy: 0.6741\n",
      "Epoch 28/150\n",
      "34/34 [==============================] - 0s 2ms/step - loss: 0.5935 - accuracy: 0.7668 - val_loss: 0.6683 - val_accuracy: 0.6815\n",
      "Epoch 29/150\n",
      "34/34 [==============================] - 0s 2ms/step - loss: 0.5685 - accuracy: 0.7593 - val_loss: 0.6594 - val_accuracy: 0.6889\n",
      "Epoch 30/150\n",
      "34/34 [==============================] - 0s 2ms/step - loss: 0.5908 - accuracy: 0.7649 - val_loss: 0.6604 - val_accuracy: 0.6889\n",
      "Epoch 31/150\n",
      "34/34 [==============================] - 0s 2ms/step - loss: 0.5650 - accuracy: 0.7761 - val_loss: 0.6519 - val_accuracy: 0.6815\n",
      "Epoch 32/150\n",
      "34/34 [==============================] - 0s 2ms/step - loss: 0.5642 - accuracy: 0.7873 - val_loss: 0.6526 - val_accuracy: 0.6889\n",
      "Epoch 33/150\n",
      "34/34 [==============================] - 0s 2ms/step - loss: 0.5507 - accuracy: 0.7780 - val_loss: 0.6464 - val_accuracy: 0.6741\n",
      "Epoch 34/150\n",
      "34/34 [==============================] - 0s 2ms/step - loss: 0.5486 - accuracy: 0.7892 - val_loss: 0.6431 - val_accuracy: 0.6889\n",
      "Epoch 35/150\n",
      "34/34 [==============================] - 0s 2ms/step - loss: 0.5205 - accuracy: 0.8022 - val_loss: 0.6408 - val_accuracy: 0.6741\n",
      "Epoch 36/150\n",
      "34/34 [==============================] - 0s 2ms/step - loss: 0.5088 - accuracy: 0.8078 - val_loss: 0.6381 - val_accuracy: 0.6667\n",
      "Epoch 37/150\n",
      "34/34 [==============================] - 0s 2ms/step - loss: 0.5181 - accuracy: 0.7836 - val_loss: 0.6270 - val_accuracy: 0.6667\n",
      "Epoch 38/150\n",
      "34/34 [==============================] - 0s 2ms/step - loss: 0.4940 - accuracy: 0.8116 - val_loss: 0.6256 - val_accuracy: 0.6815\n",
      "Epoch 39/150\n",
      "34/34 [==============================] - 0s 2ms/step - loss: 0.5177 - accuracy: 0.7929 - val_loss: 0.6261 - val_accuracy: 0.6889\n",
      "Epoch 40/150\n",
      "34/34 [==============================] - 0s 2ms/step - loss: 0.4777 - accuracy: 0.8097 - val_loss: 0.6222 - val_accuracy: 0.6815\n",
      "Epoch 41/150\n",
      "34/34 [==============================] - 0s 2ms/step - loss: 0.4893 - accuracy: 0.8116 - val_loss: 0.6190 - val_accuracy: 0.7037\n",
      "Epoch 42/150\n",
      "34/34 [==============================] - 0s 2ms/step - loss: 0.4735 - accuracy: 0.8172 - val_loss: 0.6179 - val_accuracy: 0.6815\n",
      "Epoch 43/150\n",
      "34/34 [==============================] - 0s 2ms/step - loss: 0.4825 - accuracy: 0.8172 - val_loss: 0.6127 - val_accuracy: 0.6815\n",
      "Epoch 44/150\n",
      "34/34 [==============================] - 0s 2ms/step - loss: 0.4667 - accuracy: 0.8321 - val_loss: 0.6139 - val_accuracy: 0.6963\n",
      "Epoch 45/150\n",
      "34/34 [==============================] - 0s 2ms/step - loss: 0.4485 - accuracy: 0.8414 - val_loss: 0.6053 - val_accuracy: 0.6889\n",
      "Epoch 46/150\n",
      "34/34 [==============================] - 0s 1ms/step - loss: 0.4716 - accuracy: 0.8302 - val_loss: 0.6069 - val_accuracy: 0.6889\n",
      "Epoch 47/150\n",
      "34/34 [==============================] - 0s 2ms/step - loss: 0.4495 - accuracy: 0.8284 - val_loss: 0.6017 - val_accuracy: 0.7037\n",
      "Epoch 48/150\n",
      "34/34 [==============================] - 0s 2ms/step - loss: 0.4503 - accuracy: 0.8358 - val_loss: 0.6054 - val_accuracy: 0.6889\n",
      "Epoch 49/150\n",
      "34/34 [==============================] - 0s 2ms/step - loss: 0.4581 - accuracy: 0.8209 - val_loss: 0.6030 - val_accuracy: 0.7037\n",
      "Epoch 50/150\n",
      "34/34 [==============================] - 0s 2ms/step - loss: 0.4402 - accuracy: 0.8433 - val_loss: 0.5979 - val_accuracy: 0.7037\n",
      "Epoch 51/150\n",
      "34/34 [==============================] - 0s 2ms/step - loss: 0.4441 - accuracy: 0.8489 - val_loss: 0.5916 - val_accuracy: 0.7185\n",
      "Epoch 52/150\n",
      "34/34 [==============================] - 0s 2ms/step - loss: 0.4353 - accuracy: 0.8396 - val_loss: 0.6038 - val_accuracy: 0.7037\n",
      "Epoch 53/150\n",
      "34/34 [==============================] - 0s 2ms/step - loss: 0.4419 - accuracy: 0.8209 - val_loss: 0.5959 - val_accuracy: 0.6963\n",
      "Epoch 54/150\n",
      "34/34 [==============================] - 0s 2ms/step - loss: 0.4271 - accuracy: 0.8526 - val_loss: 0.5880 - val_accuracy: 0.7037\n",
      "Epoch 55/150\n",
      "34/34 [==============================] - 0s 2ms/step - loss: 0.4001 - accuracy: 0.8545 - val_loss: 0.5958 - val_accuracy: 0.7037\n",
      "Epoch 56/150\n",
      "34/34 [==============================] - 0s 2ms/step - loss: 0.4263 - accuracy: 0.8507 - val_loss: 0.5968 - val_accuracy: 0.6963\n",
      "Epoch 57/150\n",
      "34/34 [==============================] - 0s 2ms/step - loss: 0.4043 - accuracy: 0.8713 - val_loss: 0.5813 - val_accuracy: 0.7259\n",
      "Epoch 58/150\n",
      "34/34 [==============================] - 0s 2ms/step - loss: 0.4134 - accuracy: 0.8563 - val_loss: 0.5867 - val_accuracy: 0.7333\n",
      "Epoch 59/150\n",
      "34/34 [==============================] - 0s 2ms/step - loss: 0.3888 - accuracy: 0.8619 - val_loss: 0.5860 - val_accuracy: 0.7407\n",
      "Epoch 60/150\n",
      "34/34 [==============================] - 0s 2ms/step - loss: 0.3802 - accuracy: 0.8769 - val_loss: 0.5795 - val_accuracy: 0.7407\n",
      "Epoch 61/150\n",
      "34/34 [==============================] - 0s 2ms/step - loss: 0.4055 - accuracy: 0.8396 - val_loss: 0.5744 - val_accuracy: 0.7259\n",
      "Epoch 62/150\n",
      "34/34 [==============================] - 0s 2ms/step - loss: 0.3852 - accuracy: 0.8638 - val_loss: 0.5823 - val_accuracy: 0.7407\n",
      "Epoch 63/150\n",
      "34/34 [==============================] - 0s 2ms/step - loss: 0.3781 - accuracy: 0.8619 - val_loss: 0.5740 - val_accuracy: 0.7333\n",
      "Epoch 64/150\n",
      "34/34 [==============================] - 0s 2ms/step - loss: 0.3802 - accuracy: 0.8638 - val_loss: 0.5743 - val_accuracy: 0.7407\n",
      "Epoch 65/150\n",
      "34/34 [==============================] - 0s 2ms/step - loss: 0.3551 - accuracy: 0.8769 - val_loss: 0.5765 - val_accuracy: 0.7407\n",
      "Epoch 66/150\n",
      "34/34 [==============================] - 0s 2ms/step - loss: 0.3747 - accuracy: 0.8750 - val_loss: 0.5840 - val_accuracy: 0.7333\n",
      "Epoch 67/150\n",
      "34/34 [==============================] - 0s 2ms/step - loss: 0.3697 - accuracy: 0.8731 - val_loss: 0.5685 - val_accuracy: 0.7333\n",
      "Epoch 68/150\n",
      "34/34 [==============================] - 0s 2ms/step - loss: 0.3558 - accuracy: 0.8899 - val_loss: 0.5734 - val_accuracy: 0.7407\n",
      "Epoch 69/150\n",
      "34/34 [==============================] - 0s 2ms/step - loss: 0.3582 - accuracy: 0.8769 - val_loss: 0.5740 - val_accuracy: 0.7333\n",
      "Epoch 70/150\n",
      "34/34 [==============================] - 0s 4ms/step - loss: 0.3461 - accuracy: 0.8918 - val_loss: 0.5729 - val_accuracy: 0.7333\n",
      "Epoch 71/150\n",
      "34/34 [==============================] - 0s 2ms/step - loss: 0.3421 - accuracy: 0.8974 - val_loss: 0.5708 - val_accuracy: 0.7333\n",
      "Epoch 72/150\n",
      "34/34 [==============================] - 0s 3ms/step - loss: 0.3626 - accuracy: 0.8787 - val_loss: 0.5703 - val_accuracy: 0.7333\n",
      "Epoch 73/150\n",
      "34/34 [==============================] - 0s 2ms/step - loss: 0.3443 - accuracy: 0.8843 - val_loss: 0.5727 - val_accuracy: 0.7111\n",
      "Epoch 74/150\n",
      "34/34 [==============================] - 0s 2ms/step - loss: 0.3411 - accuracy: 0.8843 - val_loss: 0.5688 - val_accuracy: 0.7407\n",
      "Epoch 75/150\n",
      "34/34 [==============================] - 0s 2ms/step - loss: 0.3332 - accuracy: 0.9049 - val_loss: 0.5630 - val_accuracy: 0.7407\n",
      "Epoch 76/150\n",
      "34/34 [==============================] - 0s 3ms/step - loss: 0.3412 - accuracy: 0.8918 - val_loss: 0.5595 - val_accuracy: 0.7407\n",
      "Epoch 77/150\n",
      "34/34 [==============================] - 0s 2ms/step - loss: 0.3268 - accuracy: 0.8881 - val_loss: 0.5651 - val_accuracy: 0.7407\n",
      "Epoch 78/150\n",
      "34/34 [==============================] - 0s 2ms/step - loss: 0.3219 - accuracy: 0.8843 - val_loss: 0.5694 - val_accuracy: 0.7333\n",
      "Epoch 79/150\n",
      "34/34 [==============================] - 0s 2ms/step - loss: 0.3409 - accuracy: 0.8918 - val_loss: 0.5577 - val_accuracy: 0.7259\n",
      "Epoch 80/150\n",
      "34/34 [==============================] - 0s 2ms/step - loss: 0.3132 - accuracy: 0.9049 - val_loss: 0.5614 - val_accuracy: 0.7259\n",
      "Epoch 81/150\n",
      "34/34 [==============================] - 0s 2ms/step - loss: 0.3258 - accuracy: 0.8993 - val_loss: 0.5585 - val_accuracy: 0.7333\n",
      "Epoch 82/150\n",
      "34/34 [==============================] - 0s 2ms/step - loss: 0.3283 - accuracy: 0.8899 - val_loss: 0.5509 - val_accuracy: 0.7185\n",
      "Epoch 83/150\n",
      "34/34 [==============================] - 0s 2ms/step - loss: 0.3224 - accuracy: 0.8974 - val_loss: 0.5689 - val_accuracy: 0.7259\n",
      "Epoch 84/150\n",
      "34/34 [==============================] - 0s 2ms/step - loss: 0.3017 - accuracy: 0.8955 - val_loss: 0.5461 - val_accuracy: 0.7111\n",
      "Epoch 85/150\n",
      "34/34 [==============================] - 0s 2ms/step - loss: 0.2976 - accuracy: 0.9254 - val_loss: 0.5585 - val_accuracy: 0.7185\n",
      "Epoch 86/150\n",
      "34/34 [==============================] - 0s 2ms/step - loss: 0.3090 - accuracy: 0.9067 - val_loss: 0.5533 - val_accuracy: 0.7259\n",
      "Epoch 87/150\n",
      "34/34 [==============================] - 0s 2ms/step - loss: 0.2935 - accuracy: 0.9030 - val_loss: 0.5463 - val_accuracy: 0.7185\n",
      "Epoch 88/150\n",
      "34/34 [==============================] - 0s 2ms/step - loss: 0.3117 - accuracy: 0.8974 - val_loss: 0.5644 - val_accuracy: 0.7407\n",
      "Epoch 89/150\n",
      "34/34 [==============================] - 0s 2ms/step - loss: 0.2966 - accuracy: 0.8993 - val_loss: 0.5559 - val_accuracy: 0.7185\n",
      "Epoch 90/150\n",
      "34/34 [==============================] - 0s 2ms/step - loss: 0.2908 - accuracy: 0.9123 - val_loss: 0.5639 - val_accuracy: 0.7259\n",
      "Epoch 91/150\n",
      "34/34 [==============================] - 0s 2ms/step - loss: 0.2898 - accuracy: 0.9235 - val_loss: 0.5570 - val_accuracy: 0.7185\n",
      "Epoch 92/150\n",
      "34/34 [==============================] - 0s 2ms/step - loss: 0.2857 - accuracy: 0.9104 - val_loss: 0.5618 - val_accuracy: 0.7407\n",
      "Epoch 93/150\n",
      "34/34 [==============================] - 0s 2ms/step - loss: 0.2926 - accuracy: 0.9030 - val_loss: 0.5452 - val_accuracy: 0.7185\n",
      "Epoch 94/150\n",
      "34/34 [==============================] - 0s 3ms/step - loss: 0.2801 - accuracy: 0.9160 - val_loss: 0.5499 - val_accuracy: 0.7259\n",
      "Epoch 95/150\n",
      "34/34 [==============================] - 0s 2ms/step - loss: 0.2769 - accuracy: 0.9160 - val_loss: 0.5474 - val_accuracy: 0.7259\n",
      "Epoch 96/150\n",
      "34/34 [==============================] - 0s 2ms/step - loss: 0.2706 - accuracy: 0.9272 - val_loss: 0.5460 - val_accuracy: 0.7333\n",
      "Epoch 97/150\n",
      "34/34 [==============================] - 0s 2ms/step - loss: 0.2803 - accuracy: 0.8974 - val_loss: 0.5550 - val_accuracy: 0.7333\n",
      "Epoch 98/150\n",
      "34/34 [==============================] - 0s 2ms/step - loss: 0.2807 - accuracy: 0.9142 - val_loss: 0.5506 - val_accuracy: 0.7333\n",
      "Epoch 99/150\n",
      "34/34 [==============================] - 0s 2ms/step - loss: 0.2691 - accuracy: 0.9291 - val_loss: 0.5403 - val_accuracy: 0.7333\n",
      "Epoch 100/150\n",
      "34/34 [==============================] - 0s 2ms/step - loss: 0.2575 - accuracy: 0.9235 - val_loss: 0.5480 - val_accuracy: 0.7333\n",
      "Epoch 101/150\n",
      "34/34 [==============================] - 0s 2ms/step - loss: 0.2339 - accuracy: 0.9459 - val_loss: 0.5481 - val_accuracy: 0.7259\n",
      "Epoch 102/150\n",
      "34/34 [==============================] - 0s 2ms/step - loss: 0.2605 - accuracy: 0.9422 - val_loss: 0.5540 - val_accuracy: 0.7407\n",
      "Epoch 103/150\n",
      "34/34 [==============================] - 0s 2ms/step - loss: 0.2511 - accuracy: 0.9254 - val_loss: 0.5485 - val_accuracy: 0.7333\n",
      "Epoch 104/150\n",
      "34/34 [==============================] - 0s 2ms/step - loss: 0.2412 - accuracy: 0.9347 - val_loss: 0.5453 - val_accuracy: 0.7333\n",
      "Epoch 105/150\n",
      "34/34 [==============================] - 0s 2ms/step - loss: 0.2541 - accuracy: 0.9291 - val_loss: 0.5480 - val_accuracy: 0.7333\n",
      "Epoch 106/150\n",
      "34/34 [==============================] - 0s 2ms/step - loss: 0.2442 - accuracy: 0.9291 - val_loss: 0.5449 - val_accuracy: 0.7481\n",
      "Epoch 107/150\n",
      "34/34 [==============================] - 0s 2ms/step - loss: 0.2479 - accuracy: 0.9384 - val_loss: 0.5455 - val_accuracy: 0.7481\n",
      "Epoch 108/150\n",
      "34/34 [==============================] - 0s 2ms/step - loss: 0.2254 - accuracy: 0.9347 - val_loss: 0.5466 - val_accuracy: 0.7333\n",
      "Epoch 109/150\n",
      "34/34 [==============================] - 0s 2ms/step - loss: 0.2454 - accuracy: 0.9272 - val_loss: 0.5584 - val_accuracy: 0.7259\n",
      "Epoch 110/150\n",
      "34/34 [==============================] - 0s 2ms/step - loss: 0.2300 - accuracy: 0.9571 - val_loss: 0.5411 - val_accuracy: 0.7407\n",
      "Epoch 111/150\n",
      "34/34 [==============================] - 0s 2ms/step - loss: 0.2323 - accuracy: 0.9384 - val_loss: 0.5461 - val_accuracy: 0.7333\n",
      "Epoch 112/150\n",
      "34/34 [==============================] - 0s 2ms/step - loss: 0.2239 - accuracy: 0.9366 - val_loss: 0.5439 - val_accuracy: 0.7333\n",
      "Epoch 113/150\n",
      "34/34 [==============================] - 0s 2ms/step - loss: 0.2278 - accuracy: 0.9310 - val_loss: 0.5494 - val_accuracy: 0.7333\n",
      "Epoch 114/150\n",
      "34/34 [==============================] - 0s 2ms/step - loss: 0.2109 - accuracy: 0.9478 - val_loss: 0.5405 - val_accuracy: 0.7259\n",
      "Epoch 115/150\n",
      "34/34 [==============================] - 0s 2ms/step - loss: 0.2238 - accuracy: 0.9347 - val_loss: 0.5437 - val_accuracy: 0.7333\n",
      "Epoch 116/150\n",
      "34/34 [==============================] - 0s 1ms/step - loss: 0.2297 - accuracy: 0.9515 - val_loss: 0.5559 - val_accuracy: 0.7407\n",
      "Epoch 117/150\n",
      "34/34 [==============================] - 0s 2ms/step - loss: 0.2127 - accuracy: 0.9515 - val_loss: 0.5507 - val_accuracy: 0.7259\n",
      "Epoch 118/150\n",
      "34/34 [==============================] - 0s 2ms/step - loss: 0.2187 - accuracy: 0.9422 - val_loss: 0.5443 - val_accuracy: 0.7333\n",
      "Epoch 119/150\n",
      "34/34 [==============================] - 0s 3ms/step - loss: 0.2212 - accuracy: 0.9403 - val_loss: 0.5375 - val_accuracy: 0.7407\n",
      "Epoch 120/150\n",
      "34/34 [==============================] - 0s 3ms/step - loss: 0.2003 - accuracy: 0.9646 - val_loss: 0.5423 - val_accuracy: 0.7333\n",
      "Epoch 121/150\n",
      "34/34 [==============================] - 0s 2ms/step - loss: 0.1959 - accuracy: 0.9552 - val_loss: 0.5407 - val_accuracy: 0.7259\n",
      "Epoch 122/150\n",
      "34/34 [==============================] - 0s 2ms/step - loss: 0.2135 - accuracy: 0.9496 - val_loss: 0.5473 - val_accuracy: 0.7333\n",
      "Epoch 123/150\n",
      "34/34 [==============================] - 0s 2ms/step - loss: 0.2093 - accuracy: 0.9328 - val_loss: 0.5451 - val_accuracy: 0.7259\n",
      "Epoch 124/150\n",
      "34/34 [==============================] - 0s 2ms/step - loss: 0.2003 - accuracy: 0.9590 - val_loss: 0.5286 - val_accuracy: 0.7333\n",
      "Epoch 125/150\n",
      "34/34 [==============================] - 0s 2ms/step - loss: 0.2097 - accuracy: 0.9496 - val_loss: 0.5473 - val_accuracy: 0.7407\n",
      "Epoch 126/150\n",
      "34/34 [==============================] - 0s 4ms/step - loss: 0.2067 - accuracy: 0.9440 - val_loss: 0.5343 - val_accuracy: 0.7333\n",
      "Epoch 127/150\n",
      "34/34 [==============================] - 0s 3ms/step - loss: 0.2038 - accuracy: 0.9384 - val_loss: 0.5289 - val_accuracy: 0.7259\n",
      "Epoch 128/150\n",
      "34/34 [==============================] - 0s 3ms/step - loss: 0.1871 - accuracy: 0.9571 - val_loss: 0.5362 - val_accuracy: 0.7259\n",
      "Epoch 129/150\n",
      "34/34 [==============================] - 0s 2ms/step - loss: 0.1956 - accuracy: 0.9590 - val_loss: 0.5387 - val_accuracy: 0.7259\n",
      "Epoch 130/150\n",
      "34/34 [==============================] - 0s 1ms/step - loss: 0.1792 - accuracy: 0.9590 - val_loss: 0.5427 - val_accuracy: 0.7259\n",
      "Epoch 131/150\n",
      "34/34 [==============================] - 0s 2ms/step - loss: 0.1961 - accuracy: 0.9571 - val_loss: 0.5511 - val_accuracy: 0.7333\n",
      "Epoch 132/150\n",
      "34/34 [==============================] - 0s 3ms/step - loss: 0.1842 - accuracy: 0.9534 - val_loss: 0.5441 - val_accuracy: 0.7259\n",
      "Epoch 133/150\n",
      "34/34 [==============================] - 0s 2ms/step - loss: 0.1809 - accuracy: 0.9646 - val_loss: 0.5467 - val_accuracy: 0.7259\n",
      "Epoch 134/150\n",
      "34/34 [==============================] - 0s 1ms/step - loss: 0.1817 - accuracy: 0.9646 - val_loss: 0.5456 - val_accuracy: 0.7333\n",
      "Epoch 135/150\n",
      "34/34 [==============================] - 0s 2ms/step - loss: 0.1718 - accuracy: 0.9683 - val_loss: 0.5714 - val_accuracy: 0.7333\n",
      "Epoch 136/150\n",
      "34/34 [==============================] - 0s 2ms/step - loss: 0.1852 - accuracy: 0.9496 - val_loss: 0.5484 - val_accuracy: 0.7259\n",
      "Epoch 137/150\n",
      "34/34 [==============================] - 0s 2ms/step - loss: 0.1714 - accuracy: 0.9627 - val_loss: 0.5350 - val_accuracy: 0.7407\n",
      "Epoch 138/150\n",
      "34/34 [==============================] - 0s 2ms/step - loss: 0.1765 - accuracy: 0.9590 - val_loss: 0.5467 - val_accuracy: 0.7259\n",
      "Epoch 139/150\n",
      "34/34 [==============================] - 0s 2ms/step - loss: 0.1851 - accuracy: 0.9534 - val_loss: 0.5441 - val_accuracy: 0.7259\n",
      "Epoch 140/150\n",
      "34/34 [==============================] - 0s 2ms/step - loss: 0.1676 - accuracy: 0.9646 - val_loss: 0.5435 - val_accuracy: 0.7259\n",
      "Epoch 141/150\n",
      "34/34 [==============================] - 0s 2ms/step - loss: 0.1593 - accuracy: 0.9646 - val_loss: 0.5497 - val_accuracy: 0.7259\n",
      "Epoch 142/150\n",
      "34/34 [==============================] - 0s 2ms/step - loss: 0.1696 - accuracy: 0.9646 - val_loss: 0.5378 - val_accuracy: 0.7259\n",
      "Epoch 143/150\n",
      "34/34 [==============================] - 0s 2ms/step - loss: 0.1572 - accuracy: 0.9776 - val_loss: 0.5519 - val_accuracy: 0.7185\n",
      "Epoch 144/150\n",
      "34/34 [==============================] - 0s 2ms/step - loss: 0.1630 - accuracy: 0.9534 - val_loss: 0.5568 - val_accuracy: 0.7333\n",
      "Epoch 145/150\n",
      "34/34 [==============================] - 0s 2ms/step - loss: 0.1621 - accuracy: 0.9739 - val_loss: 0.5495 - val_accuracy: 0.7259\n",
      "Epoch 146/150\n",
      "34/34 [==============================] - 0s 2ms/step - loss: 0.1672 - accuracy: 0.9590 - val_loss: 0.5492 - val_accuracy: 0.7259\n",
      "Epoch 147/150\n",
      "34/34 [==============================] - 0s 2ms/step - loss: 0.1693 - accuracy: 0.9608 - val_loss: 0.5473 - val_accuracy: 0.7259\n",
      "Epoch 148/150\n",
      "34/34 [==============================] - 0s 2ms/step - loss: 0.1685 - accuracy: 0.9571 - val_loss: 0.5474 - val_accuracy: 0.7259\n",
      "Epoch 149/150\n",
      "34/34 [==============================] - 0s 2ms/step - loss: 0.1492 - accuracy: 0.9739 - val_loss: 0.5443 - val_accuracy: 0.7185\n",
      "Epoch 150/150\n",
      "34/34 [==============================] - 0s 2ms/step - loss: 0.1475 - accuracy: 0.9776 - val_loss: 0.5445 - val_accuracy: 0.7185\n"
     ]
    },
    {
     "data": {
      "text/plain": [
       "<keras.callbacks.History at 0x1908f03fa50>"
      ]
     },
     "execution_count": 460,
     "metadata": {},
     "output_type": "execute_result"
    }
   ],
   "source": [
    "model_dnn.fit(X_train_cls, \n",
    "              y_train_cls, \n",
    "              epochs=150, \n",
    "              batch_size=16,\n",
    "              validation_data=(X_val_cls, y_val_cls),\n",
    "              callbacks=[model_checkpoint_callback])"
   ]
  },
  {
   "cell_type": "markdown",
   "metadata": {},
   "source": [
    "The training was conducted for a total of 150 epochs with a batch size of 16 on the training dataset. The best model is saved when the loss value on the validation data is minimized."
   ]
  },
  {
   "cell_type": "markdown",
   "metadata": {},
   "source": [
    "#### Load the Best Model"
   ]
  },
  {
   "cell_type": "code",
   "execution_count": 461,
   "metadata": {},
   "outputs": [],
   "source": [
    "best_model_dnn = load_model('model/best_model_dnn.hdf5') "
   ]
  },
  {
   "cell_type": "markdown",
   "metadata": {},
   "source": [
    "The best-performing model saved during training is loaded and used to predict the test set."
   ]
  },
  {
   "cell_type": "markdown",
   "metadata": {},
   "source": [
    "#### Prediction"
   ]
  },
  {
   "cell_type": "code",
   "execution_count": 522,
   "metadata": {},
   "outputs": [
    {
     "name": "stdout",
     "output_type": "stream",
     "text": [
      "6/6 [==============================] - 0s 378us/step\n"
     ]
    }
   ],
   "source": [
    "# Evaluate the model on the test set\n",
    "y_pred_bert_dnn = best_model_dnn.predict(X_test_cls)\n",
    "\n",
    "# Convert the predicted probabilities to class labels\n",
    "y_pred_dnn_class = y_pred_bert_dnn.argmax(axis=1)"
   ]
  },
  {
   "cell_type": "markdown",
   "metadata": {},
   "source": [
    "Using the best model, predictions are made on the test set. Since the predicted values are probabilities for each class, the class with the highest probability is selected as the predicted class."
   ]
  },
  {
   "cell_type": "markdown",
   "metadata": {},
   "source": [
    "#### Evaluation"
   ]
  },
  {
   "cell_type": "code",
   "execution_count": 464,
   "metadata": {},
   "outputs": [
    {
     "name": "stdout",
     "output_type": "stream",
     "text": [
      "              precision    recall  f1-score   support\n",
      "\n",
      "           0       0.65      0.74      0.69        27\n",
      "           1       0.80      0.76      0.78        91\n",
      "           2       0.73      0.74      0.73        50\n",
      "\n",
      "    accuracy                           0.75       168\n",
      "   macro avg       0.72      0.75      0.73       168\n",
      "weighted avg       0.75      0.75      0.75       168\n",
      "\n"
     ]
    },
    {
     "data": {
      "image/png": "[encoded data removed]",
      "text/plain": [
       "<Figure size 640x480 with 2 Axes>"
      ]
     },
     "metadata": {},
     "output_type": "display_data"
    }
   ],
   "source": [
    "# Confusion matrix\n",
    "cm_bert_dnn = confusion_matrix(y_test_cls, y_pred_dnn_class)\n",
    "conf_matrix_display = ConfusionMatrixDisplay(cm_bert_dnn, display_labels=clf_bert_svc.classes_)\n",
    "conf_matrix_display.plot()\n",
    "\n",
    "print(classification_report(y_test_cls, y_pred_dnn_class))\n"
   ]
  },
  {
   "cell_type": "markdown",
   "metadata": {},
   "source": [
    "The model's precision, recall, F1-score values for each predicted class, along with the confusion matrix, were displayed. From a precision perspective, the performance in identifying Class 1 (Neutral) was the best, while Class 0 (Negative) exhibited the lowest performance. Considering the F1-score, which incorporates recall as well, the performance in identifying Class 1 (Neutral) was the best, while Class 0 (Negative) demonstrated the least favorable performance. Overall, scores are similar but slightly lower to the SVM model."
   ]
  },
  {
   "cell_type": "markdown",
   "metadata": {},
   "source": [
    "### LSTM"
   ]
  },
  {
   "cell_type": "code",
   "execution_count": 407,
   "metadata": {},
   "outputs": [],
   "source": [
    "# Assuming 'y' contains integer labels for categories\n",
    "y_train_encoded = to_categorical(y_train_bert)\n",
    "y_test_encoded = to_categorical(y_test_bert)"
   ]
  },
  {
   "cell_type": "code",
   "execution_count": 408,
   "metadata": {},
   "outputs": [],
   "source": [
    "X_train_lstm, X_test_lstm, y_train_lstm, y_test_lstm = train_test_split(word_embeddings, y_bert, test_size=0.2, random_state=42)"
   ]
  },
  {
   "cell_type": "code",
   "execution_count": 409,
   "metadata": {},
   "outputs": [
    {
     "name": "stdout",
     "output_type": "stream",
     "text": [
      "Model: \"sequential_48\"\n",
      "_________________________________________________________________\n",
      " Layer (type)                Output Shape              Param #   \n",
      "=================================================================\n",
      " lstm_2 (LSTM)               (None, 100)               347600    \n",
      "                                                                 \n",
      " dropout_21 (Dropout)        (None, 100)               0         \n",
      "                                                                 \n",
      " dense_111 (Dense)           (None, 3)                 303       \n",
      "                                                                 \n",
      "=================================================================\n",
      "Total params: 347,903\n",
      "Trainable params: 347,903\n",
      "Non-trainable params: 0\n",
      "_________________________________________________________________\n"
     ]
    }
   ],
   "source": [
    "num_classes = y_train_encoded.shape[1]  # Number of unique classes\n",
    "\n",
    "model_lstm = Sequential([\n",
    "    LSTM(100, input_shape=(word_embeddings.shape[1], word_embeddings.shape[2])),\n",
    "    Dropout(0.2),\n",
    "    Dense(num_classes, activation='softmax')  # Output layer for multi-class classification\n",
    "])\n",
    "\n",
    "\n",
    "callbacks = [\n",
    "    keras.callbacks.ModelCheckpoint(\n",
    "      filepath=\"./models/best-lstm.keras\",\n",
    "      save_best_only=True,\n",
    "      monitor=\"val_loss\")\n",
    "]\n",
    "\n",
    "model_lstm.compile(loss='categorical_crossentropy',  # Loss function for multi-class classification\n",
    "              optimizer='adam',\n",
    "              metrics=['accuracy'])\n",
    "\n",
    "model_lstm.summary()\n"
   ]
  },
  {
   "cell_type": "code",
   "execution_count": 14,
   "metadata": {},
   "outputs": [
    {
     "name": "stdout",
     "output_type": "stream",
     "text": [
      "Epoch 1/4\n"
     ]
    },
    {
     "name": "stdout",
     "output_type": "stream",
     "text": [
      "17/17 [==============================] - 5s 219ms/step - loss: 0.9547 - accuracy: 0.5336 - val_loss: 0.8538 - val_accuracy: 0.6370\n",
      "Epoch 2/4\n",
      "17/17 [==============================] - 3s 198ms/step - loss: 0.6667 - accuracy: 0.7201 - val_loss: 0.7498 - val_accuracy: 0.6074\n",
      "Epoch 3/4\n",
      "17/17 [==============================] - 4s 215ms/step - loss: 0.5372 - accuracy: 0.7649 - val_loss: 0.8461 - val_accuracy: 0.5852\n",
      "Epoch 4/4\n",
      "17/17 [==============================] - 3s 206ms/step - loss: 0.4037 - accuracy: 0.8321 - val_loss: 0.7926 - val_accuracy: 0.6519\n"
     ]
    }
   ],
   "source": [
    "history = model_lstm.fit(X_train_lstm, y_train_encoded,  # Use one-hot encoded labels\n",
    "                    epochs=4,  # May need adjustment\n",
    "                    batch_size=32,  # May need adjustment\n",
    "                    validation_split=0.2,\n",
    "                    callbacks=callbacks\n",
    "                    )  # Fraction of data to use as validation\n"
   ]
  },
  {
   "cell_type": "code",
   "execution_count": 410,
   "metadata": {},
   "outputs": [
    {
     "data": {
      "image/png": "[encoded data removed]",
      "text/plain": [
       "<Figure size 640x480 with 1 Axes>"
      ]
     },
     "metadata": {},
     "output_type": "display_data"
    }
   ],
   "source": [
    "# plot the training and validation accuracy\n",
    "plt.plot(history.history['accuracy'])\n",
    "plt.plot(history.history['val_accuracy'])\n",
    "plt.title('Model accuracy')\n",
    "plt.ylabel('Accuracy')\n",
    "plt.xlabel('Epoch')\n",
    "plt.legend(['Train', 'Validation'], loc='upper left')\n",
    "plt.show()"
   ]
  },
  {
   "cell_type": "code",
   "execution_count": 411,
   "metadata": {},
   "outputs": [
    {
     "name": "stdout",
     "output_type": "stream",
     "text": [
      "Model: \"sequential\"\n",
      "_________________________________________________________________\n",
      " Layer (type)                Output Shape              Param #   \n",
      "=================================================================\n",
      " lstm (LSTM)                 (None, 100)               347600    \n",
      "                                                                 \n",
      " dropout (Dropout)           (None, 100)               0         \n",
      "                                                                 \n",
      " dense (Dense)               (None, 3)                 303       \n",
      "                                                                 \n",
      "=================================================================\n",
      "Total params: 347,903\n",
      "Trainable params: 347,903\n",
      "Non-trainable params: 0\n",
      "_________________________________________________________________\n"
     ]
    }
   ],
   "source": [
    "best_model = load_model('./models/best-lstm.keras')\n",
    "best_model.summary()"
   ]
  },
  {
   "cell_type": "code",
   "execution_count": 17,
   "metadata": {},
   "outputs": [
    {
     "name": "stdout",
     "output_type": "stream",
     "text": [
      "6/6 [==============================] - 1s 84ms/step - loss: 0.6902 - accuracy: 0.6905\n",
      "Test Accuracy: 0.6904761791229248\n"
     ]
    }
   ],
   "source": [
    "test_loss, test_acc = best_model.evaluate(X_test_lstm, y_test_encoded)\n",
    "print('Test Accuracy:', test_acc)\n"
   ]
  },
  {
   "cell_type": "code",
   "execution_count": 20,
   "metadata": {},
   "outputs": [
    {
     "name": "stdout",
     "output_type": "stream",
     "text": [
      "Trial 18 Complete [00h 01m 47s]\n",
      "val_accuracy: 0.7777777910232544\n",
      "\n",
      "Best val_accuracy So Far: 0.7777777910232544\n",
      "Total elapsed time: 00h 15m 42s\n",
      "\n",
      "The hyperparameter search is complete. The optimal number of units in the first densely-connected\n",
      "layer is 100 and the optimal learning rate for the optimizer\n",
      "is 0.001.\n",
      "\n"
     ]
    }
   ],
   "source": [
    "import keras_tuner as kt\n",
    "import tensorflow as tf\n",
    "\n",
    "def build_model(hp):\n",
    "    model = Sequential()\n",
    "    model.add(Bidirectional(LSTM(units=hp.Int('units', min_value=50, max_value=200, step=50), return_sequences=True), \n",
    "                            input_shape=(X_train_lstm.shape[1], X_train_lstm.shape[2])))\n",
    "    model.add(Dropout(0.5))\n",
    "    model.add(LSTM(50))\n",
    "    model.add(Dropout(0.5))\n",
    "    model.add(Dense(num_classes, activation='softmax'))\n",
    "    \n",
    "    # Tuning the learning rate\n",
    "    hp_learning_rate = hp.Choice('learning_rate', values=[1e-2, 1e-3, 1e-4])\n",
    "    \n",
    "    model.compile(optimizer=tf.keras.optimizers.Adam(learning_rate=hp_learning_rate),\n",
    "                  loss='categorical_crossentropy',\n",
    "                  metrics=['accuracy'])\n",
    "    return model\n",
    "\n",
    "tuner = kt.Hyperband(build_model,\n",
    "                     objective='val_accuracy',\n",
    "                     max_epochs=10,\n",
    "                     factor=3,\n",
    "                     directory='my_dir',\n",
    "                     project_name='intro_to_kt')\n",
    "\n",
    "tuner.search(X_train_lstm, y_train_encoded, epochs=50, validation_split=0.2)\n",
    "\n",
    "# Get the optimal hyperparameters\n",
    "best_hps = tuner.get_best_hyperparameters(num_trials=1)[0]\n",
    "\n",
    "print(f\"\"\"\n",
    "The hyperparameter search is complete. The optimal number of units in the first densely-connected\n",
    "layer is {best_hps.get('units')} and the optimal learning rate for the optimizer\n",
    "is {best_hps.get('learning_rate')}.\n",
    "\"\"\")\n"
   ]
  },
  {
   "cell_type": "code",
   "execution_count": 412,
   "metadata": {},
   "outputs": [
    {
     "name": "stdout",
     "output_type": "stream",
     "text": [
      "Model: \"sequential\"\n",
      "_________________________________________________________________\n",
      " Layer (type)                Output Shape              Param #   \n",
      "=================================================================\n",
      " bidirectional (Bidirectiona  (None, 136, 200)         695200    \n",
      " l)                                                              \n",
      "                                                                 \n",
      " dropout (Dropout)           (None, 136, 200)          0         \n",
      "                                                                 \n",
      " lstm_1 (LSTM)               (None, 50)                50200     \n",
      "                                                                 \n",
      " dropout_1 (Dropout)         (None, 50)                0         \n",
      "                                                                 \n",
      " dense (Dense)               (None, 3)                 153       \n",
      "                                                                 \n",
      "=================================================================\n",
      "Total params: 745,553\n",
      "Trainable params: 745,553\n",
      "Non-trainable params: 0\n",
      "_________________________________________________________________\n"
     ]
    }
   ],
   "source": [
    "# Retrieve the best model\n",
    "best_tuner_model = tuner.get_best_models(num_models=1)[0]\n",
    "best_tuner_model.summary()  \n"
   ]
  },
  {
   "cell_type": "code",
   "execution_count": 413,
   "metadata": {},
   "outputs": [
    {
     "name": "stdout",
     "output_type": "stream",
     "text": [
      "6/6 [==============================] - 4s 534ms/step\n"
     ]
    },
    {
     "data": {
      "text/plain": [
       "array([0, 1, 0, 0, 0, 0, 1, 1, 2, 0, 1, 2, 1, 0, 1, 2, 2, 1, 1, 2, 1, 1,\n",
       "       1, 2, 1, 1, 1, 0, 1, 1, 0, 1, 1, 0, 1, 0, 1, 1, 1, 2, 0, 2, 1, 1,\n",
       "       0, 2, 1, 2, 2, 1, 2, 0, 1, 2, 1, 2, 1, 1, 0, 1, 1, 1, 1, 1, 2, 1,\n",
       "       0, 1, 2, 1, 0, 1, 2, 2, 0, 1, 2, 0, 1, 1, 1, 0, 1, 0, 1, 1, 1, 2,\n",
       "       2, 0, 1, 1, 2, 1, 1, 1, 2, 1, 1, 1, 2, 2, 0, 1, 1, 0, 2, 2, 2, 2,\n",
       "       1, 1, 1, 1, 0, 1, 1, 1, 1, 0, 1, 1, 1, 1, 0, 2, 0, 0, 0, 2, 0, 1,\n",
       "       1, 1, 0, 0, 1, 0, 1, 1, 2, 1, 2, 1, 1, 1, 0, 1, 2, 1, 1, 2, 1, 2,\n",
       "       1, 1, 2, 1, 1, 2, 1, 2, 1, 2, 0, 1, 0, 1], dtype=int64)"
      ]
     },
     "execution_count": 413,
     "metadata": {},
     "output_type": "execute_result"
    }
   ],
   "source": [
    "# Making predictions\n",
    "y_pred_lstm = best_tuner_model.predict(X_test_lstm)\n",
    "\n",
    "# Since we're doing multi-class classification, 'y_pred' will contain probabilities for each class\n",
    "# To convert these probabilities into class labels, you can use 'argmax' which returns the index of the maximum value\n",
    "\n",
    "# Convert probabilities to class labels\n",
    "y_pred_labels = np.argmax(y_pred_lstm, axis=1)\n",
    "y_pred_labels\n"
   ]
  },
  {
   "cell_type": "code",
   "execution_count": 414,
   "metadata": {},
   "outputs": [
    {
     "name": "stdout",
     "output_type": "stream",
     "text": [
      "Test Accuracy: 0.7083333333333334\n",
      "              precision    recall  f1-score   support\n",
      "\n",
      "           0       0.54      0.74      0.62        27\n",
      "           1       0.76      0.76      0.76        91\n",
      "           2       0.75      0.60      0.67        50\n",
      "\n",
      "    accuracy                           0.71       168\n",
      "   macro avg       0.68      0.70      0.68       168\n",
      "weighted avg       0.72      0.71      0.71       168\n",
      "\n"
     ]
    },
    {
     "data": {
      "text/plain": [
       "<sklearn.metrics._plot.confusion_matrix.ConfusionMatrixDisplay at 0x1908ca19410>"
      ]
     },
     "execution_count": 414,
     "metadata": {},
     "output_type": "execute_result"
    },
    {
     "data": {
      "image/png": "[encoded data removed]",
      "text/plain": [
       "<Figure size 640x480 with 2 Axes>"
      ]
     },
     "metadata": {},
     "output_type": "display_data"
    }
   ],
   "source": [
    "# Assuming 'y_test' contains the actual labels\n",
    "accuracy_lstm = accuracy_score(y_test_lstm, y_pred_labels)\n",
    "print(\"Test Accuracy:\", accuracy_lstm)\n",
    "\n",
    "# Detailed classification report\n",
    "print(classification_report(y_test_lstm, y_pred_labels))\n",
    "\n",
    "# Confusion matrix\n",
    "cm_lstm = confusion_matrix(y_test_lstm, y_pred_labels)\n",
    "conf_matrix_display = ConfusionMatrixDisplay(cm_lstm, display_labels=clf_bert_svc.classes_)\n",
    "conf_matrix_display.plot()"
   ]
  },
  {
   "cell_type": "markdown",
   "metadata": {},
   "source": [
    "## 5. Deployment and Interface"
   ]
  },
  {
   "cell_type": "code",
   "execution_count": 7,
   "metadata": {},
   "outputs": [],
   "source": [
    "import tkinter as tk\n",
    "import customtkinter"
   ]
  },
  {
   "cell_type": "code",
   "execution_count": 17,
   "metadata": {},
   "outputs": [],
   "source": [
    "# load model for prediction\n",
    "predict_model = load('model/svc_bert.joblib')\n",
    "\n",
    "app = customtkinter.CTk()\n",
    "app.title(\"Custom Tkinter\")\n",
    "app.geometry(\"820x480\")\n",
    "\n",
    "app.grid_columnconfigure((0), weight=1)\n",
    "# app.grid_columnconfigure((1), weight=1)\n",
    "app.grid_columnconfigure((2), weight=1)\n",
    "app.grid_columnconfigure((3), weight=1)"
   ]
  },
  {
   "cell_type": "code",
   "execution_count": 18,
   "metadata": {},
   "outputs": [],
   "source": [
    "textbox = customtkinter.CTkTextbox(app, wrap=\"word\", corner_radius=15)\n",
    "\n",
    "textbox.insert(\"0.0\", \"What is on you mind?\")  # insert at line 0 character 0\n",
    "\n",
    "textbox.grid(row=0, column=0, columnspan=4, padx=50, sticky=\"nsew\", pady=10)"
   ]
  },
  {
   "cell_type": "code",
   "execution_count": 19,
   "metadata": {},
   "outputs": [],
   "source": [
    "sentiment = customtkinter.CTkTextbox(app, width=400, height=100, wrap=\"word\", corner_radius=15)\n",
    "\n",
    "sentiment.insert(\"0.0\", \"The emotion here is giving...\")  # insert at line 0 character 0\n",
    "text_sentiment = sentiment.get(\"0.0\", \"end\")  # get text from line 0 character 0 till the end\n",
    "# textbox.delete(\"0.0\", \"end\")  # delete all text\n",
    "sentiment.configure(state=\"disabled\")  # configure textbox to be read-only\n",
    "\n",
    "sentiment.grid(row=3, column=2, pady=10)"
   ]
  },
  {
   "cell_type": "code",
   "execution_count": 20,
   "metadata": {},
   "outputs": [],
   "source": [
    "import torch\n",
    "\n",
    "def bert_embedding(input_text):\n",
    "    cleaned_tweets_bert = clean_tweet(input_text, mode='bert')\n",
    "\n",
    "    # Load pre-trained model tokenizer (vocabulary)\n",
    "    tokenizer = BertTokenizer.from_pretrained('bert-base-uncased')\n",
    "\n",
    "    # Convert tokens to their respective IDs in the BERT vocabulary\n",
    "    indexed_tokens_list = [[tokenizer.convert_tokens_to_ids(tokens) for tokens in cleaned_tweets_bert]]\n",
    "\n",
    "    # Initialize lists for segment IDs and attention masks\n",
    "    token_type_list = []\n",
    "    attention_mask_list = []\n",
    "\n",
    "    # Generate segment IDs and attention masks for each sentence\n",
    "    for indexed_sentence in indexed_tokens_list:\n",
    "        # For each sentence, all tokens belong to the same segment, so use 0\n",
    "        segment_ids = [0] * len(indexed_sentence)\n",
    "        token_type_list.append(segment_ids)\n",
    "    \n",
    "        # If you're not padding, all tokens are real, so the attention mask is all 1s\n",
    "        attention_mask = [1] * len(indexed_sentence)\n",
    "        attention_mask_list.append(attention_mask)\n",
    "\n",
    "    # Initialize padded lists\n",
    "    padded_input_ids = []\n",
    "    padded_attention_mask = []\n",
    "\n",
    "    # Find the maximum sequence length in your batch\n",
    "    max_length = max(len(tokens) for tokens in indexed_tokens_list)\n",
    "\n",
    "    for tokens in indexed_tokens_list:\n",
    "        # Calculate the number of padding tokens needed\n",
    "        num_padding_tokens = max_length - len(tokens)\n",
    "        \n",
    "        # Pad the input IDs with zeros (assuming 0 is your padding token)\n",
    "        padded_tokens = tokens + [0] * num_padding_tokens\n",
    "        padded_input_ids.append(padded_tokens)\n",
    "        \n",
    "        # Pad the attention mask where actual tokens are marked with 1 and padding tokens with 0\n",
    "        padded_mask = [1] * len(tokens) + [0] * num_padding_tokens\n",
    "        padded_attention_mask.append(padded_mask)\n",
    "\n",
    "    # Load the BERT model\n",
    "    model_bert = BertModel.from_pretrained('bert-base-uncased', output_hidden_states=True)\n",
    "    model_bert.eval()  # Set the model to evaluation mode\n",
    "\n",
    "    # Convert the lists of integers into tensors\n",
    "    input_ids_tensor = torch.tensor(padded_input_ids)\n",
    "    attention_mask_tensor = torch.tensor(padded_attention_mask)\n",
    "\n",
    "    # Run the model and get the outputs\n",
    "    with torch.no_grad():\n",
    "        outputs = model_bert(input_ids_tensor, attention_mask=attention_mask_tensor)\n",
    "        hidden_states = outputs[2]  # Hidden states from all BERT layers\n",
    "        word_embeddings = outputs.last_hidden_state  # The last layer's output\n",
    "\n",
    "    return word_embeddings.mean(axis=1)"
   ]
  },
  {
   "cell_type": "code",
   "execution_count": 21,
   "metadata": {},
   "outputs": [],
   "source": [
    "def button_callback():\n",
    "    input_text = textbox.get(\"0.0\", \"end\")  # get text from line 0 character 0 till the end\n",
    "    embedding_output = bert_embedding(input_text)\n",
    "    output_pred = predict_model.predict(embedding_output)\n",
    "\n",
    "    if output_pred == 0:\n",
    "        output_text = \"Negative\"\n",
    "    elif output_pred == 1:\n",
    "        output_text = \"Neutral\"\n",
    "    else:\n",
    "        output_text = \"Positive\"\n",
    "\n",
    "    sentiment.configure(state=\"normal\")\n",
    "    sentiment.delete(\"0.0\", \"end\")\n",
    "    sentiment.insert(\"0.0\", output_text)\n",
    "    sentiment.configure(state=\"disabled\")\n",
    "\n",
    "    print(\"button clicked\")"
   ]
  },
  {
   "cell_type": "code",
   "execution_count": 22,
   "metadata": {},
   "outputs": [],
   "source": [
    "button = customtkinter.CTkButton(app, text=\"PREDICT\", width=200, height=30, command=button_callback, fg_color=\"#f40e7d\", hover_color=\"#d4116f\", corner_radius=15, font=(\"Arial\", 12))\n",
    "button.grid(row=1, column=2, pady=4)"
   ]
  },
  {
   "cell_type": "code",
   "execution_count": 23,
   "metadata": {},
   "outputs": [
    {
     "name": "stdout",
     "output_type": "stream",
     "text": [
      "button clicked\n",
      "button clicked\n",
      "button clicked\n",
      "button clicked\n",
      "button clicked\n",
      "button clicked\n",
      "button clicked\n",
      "button clicked\n",
      "button clicked\n",
      "button clicked\n",
      "button clicked\n",
      "button clicked\n"
     ]
    }
   ],
   "source": [
    "app.mainloop()"
   ]
  },
  {
   "cell_type": "markdown",
   "metadata": {},
   "source": [
    "Example Tweets for Test\n",
    "\n",
    "- unfortunately boarding is a total nightmare as there is an ID error on my booking and I cannot checkin. Useless.\n",
    "- We hope to see you on board, Ben! :)\n",
    "- Ok, @KLM get me on a flight to the great American eclipse then. @AmericanEclipse 😁\n",
    "- Can I only opt in at point of reservation? Can't find how to opt-in for existing reservation."
   ]
  }
 ],
 "metadata": {
  "kernelspec": {
   "display_name": "pytorch_cpu",
   "language": "python",
   "name": "python3"
  },
  "language_info": {
   "codemirror_mode": {
    "name": "ipython",
    "version": 3
   },
   "file_extension": ".py",
   "mimetype": "text/x-python",
   "name": "python",
   "nbconvert_exporter": "python",
   "pygments_lexer": "ipython3",
   "version": "3.11.7"
  }
 },
 "nbformat": 4,
 "nbformat_minor": 2
}
