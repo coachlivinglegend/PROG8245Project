{
 "cells": [
  {
   "cell_type": "code",
   "execution_count": 28,
   "metadata": {},
   "outputs": [],
   "source": [
    "# pip install tkinter"
   ]
  },
  {
   "cell_type": "code",
   "execution_count": 29,
   "metadata": {},
   "outputs": [],
   "source": [
    "# pip install customtkinter"
   ]
  },
  {
   "cell_type": "code",
   "execution_count": 30,
   "metadata": {},
   "outputs": [],
   "source": [
    "import tkinter as tk\n",
    "import customtkinter"
   ]
  },
  {
   "cell_type": "code",
   "execution_count": 31,
   "metadata": {},
   "outputs": [],
   "source": [
    "# tk._test()"
   ]
  },
  {
   "cell_type": "code",
   "execution_count": 32,
   "metadata": {},
   "outputs": [],
   "source": [
    "def button_callback():\n",
    "    print(\"button clicked\")\n"
   ]
  },
  {
   "cell_type": "code",
   "execution_count": 33,
   "metadata": {},
   "outputs": [],
   "source": [
    "app = customtkinter.CTk()\n",
    "app.title(\"Custom Tkinter\")\n",
    "app.geometry(\"820x480\")\n",
    "\n",
    "app.grid_columnconfigure((0), weight=1)\n",
    "# app.grid_columnconfigure((1), weight=1)\n",
    "app.grid_columnconfigure((2), weight=1)\n",
    "app.grid_columnconfigure((3), weight=1)\n"
   ]
  },
  {
   "cell_type": "code",
   "execution_count": 34,
   "metadata": {},
   "outputs": [],
   "source": [
    "textbox = customtkinter.CTkTextbox(app, wrap=\"word\", corner_radius=15)\n",
    "\n",
    "textbox.insert(\"0.0\", \"What is on you mind?\")  # insert at line 0 character 0\n",
    "\n",
    "text = textbox.get(\"0.0\", \"end\")  # get text from line 0 character 0 till the end\n",
    "\n",
    "textbox.grid(row=0, column=0, columnspan=4, padx=50, sticky=\"nsew\", pady=10)"
   ]
  },
  {
   "cell_type": "code",
   "execution_count": 35,
   "metadata": {},
   "outputs": [],
   "source": [
    "button = customtkinter.CTkButton(app, text=\"PREDICT\", width=200, height=30, command=button_callback, fg_color=\"#f40e7d\", hover_color=\"#d4116f\", corner_radius=15, font=(\"Arial\", 12))\n",
    "button.grid(row=1, column=2, pady=4)\n",
    "    "
   ]
  },
  {
   "cell_type": "code",
   "execution_count": 36,
   "metadata": {},
   "outputs": [],
   "source": [
    "sentiment = customtkinter.CTkTextbox(app, width=400, height=100, wrap=\"word\", corner_radius=15)\n",
    "\n",
    "sentiment.insert(\"0.0\", \"The emotion here is giving...\")  # insert at line 0 character 0\n",
    "text_sentiment = sentiment.get(\"0.0\", \"end\")  # get text from line 0 character 0 till the end\n",
    "# textbox.delete(\"0.0\", \"end\")  # delete all text\n",
    "sentiment.configure(state=\"disabled\")  # configure textbox to be read-only\n",
    "\n",
    "sentiment.grid(row=3, column=2, pady=10)"
   ]
  },
  {
   "cell_type": "code",
   "execution_count": 37,
   "metadata": {},
   "outputs": [],
   "source": [
    "app.mainloop()"
   ]
  }
 ],
 "metadata": {
  "kernelspec": {
   "display_name": "CSCN8010_classic_ml",
   "language": "python",
   "name": "cscn8010_classic_ml"
  },
  "language_info": {
   "codemirror_mode": {
    "name": "ipython",
    "version": 3
   },
   "file_extension": ".py",
   "mimetype": "text/x-python",
   "name": "python",
   "nbconvert_exporter": "python",
   "pygments_lexer": "ipython3",
   "version": "3.11.7"
  }
 },
 "nbformat": 4,
 "nbformat_minor": 2
}
